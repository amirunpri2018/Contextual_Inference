{
 "cells": [
  {
   "cell_type": "markdown",
   "metadata": {},
   "source": [
    "# Mask R-CNN - Train on Shapes Dataset\n",
    "\n",
    "### Notes from implementation\n",
    "\n",
    "This notebook shows how to train Mask R-CNN on your own dataset. To keep things simple we use a synthetic dataset of shapes (squares, triangles, and circles) which enables fast training. You'd still need a GPU, though, because the network backbone is a Resnet101, which would be too slow to train on a CPU. On a GPU, you can start to get okay-ish results in a few minutes, and good results in less than an hour.\n",
    "\n",
    "The code of the *Shapes* dataset is included below. It generates images on the fly, so it doesn't require downloading any data. And it can generate images of any size, so we pick a small image size to train faster. "
   ]
  },
  {
   "cell_type": "code",
   "execution_count": null,
   "metadata": {},
   "outputs": [],
   "source": [
    "%matplotlib inline\n",
    "%load_ext autoreload\n",
    "%autoreload 2\n",
    "import os\n",
    "import sys\n",
    "import random\n",
    "import math\n",
    "import re\n",
    "import time\n",
    "import numpy as np\n",
    "import cv2\n",
    "import matplotlib\n",
    "import matplotlib.pyplot as plt\n",
    "import tensorflow as tf\n",
    "import keras\n",
    "import pprint\n",
    "import keras.backend as KB\n",
    "sys.path.append('../')\n",
    "\n",
    "import mrcnn.model     as modellib\n",
    "import mrcnn.visualize as visualize\n",
    "import mrcnn.shapes    as shapes\n",
    "from mrcnn.config      import Config\n",
    "from mrcnn.model       import log\n",
    "from mrcnn.dataset     import Dataset \n",
    "from mrcnn.pc_layer    import PCTensor\n",
    "from mrcnn.pcn_layer   import PCNLayer\n",
    "\n",
    "# Root directory of the project\n",
    "ROOT_DIR = os.getcwd()\n",
    "MODEL_PATH = 'E:\\Models'\n",
    "# Directory to save logs and trained model\n",
    "MODEL_DIR = os.path.join(MODEL_PATH, \"mrcnn_logs\")\n",
    "# Path to COCO trained weights\n",
    "COCO_MODEL_PATH   = os.path.join(MODEL_PATH, \"mask_rcnn_coco.h5\")\n",
    "RESNET_MODEL_PATH = os.path.join(MODEL_PATH, \"resnet50_weights_tf_dim_ordering_tf_kernels_notop.h5\")\n",
    "\n",
    "print(\"Tensorflow Version: {}   Keras Version : {} \".format(tf.__version__,keras.__version__))\n",
    "pp = pprint.PrettyPrinter(indent=2, width=100)\n",
    "\n",
    "config = shapes.ShapesConfig()\n",
    "config.BATCH_SIZE      = 2                    #Batch size is 2 (# GPUs * images/GPU).\n",
    "config.IMAGES_PER_GPU  = 2\n",
    "config.STEPS_PER_EPOCH = 7\n",
    "# config.IMAGES_PER_GPU  = 1\n",
    "\n",
    "config.display() \n"
   ]
  },
  {
   "cell_type": "markdown",
   "metadata": {},
   "source": [
    "## Dataset\n",
    "\n",
    "Create a synthetic dataset\n",
    "\n",
    "Extend the Dataset class and add a method to load the shapes dataset, `load_shapes()`, and override the following methods:\n",
    "\n",
    "* load_image()\n",
    "* load_mask()\n",
    "* image_reference()"
   ]
  },
  {
   "cell_type": "code",
   "execution_count": null,
   "metadata": {},
   "outputs": [],
   "source": [
    "# Training dataset\n",
    "# generate 500 shapes \n",
    "dataset_train = shapes.ShapesDataset()\n",
    "dataset_train.load_shapes(500, config.IMAGE_SHAPE[0], config.IMAGE_SHAPE[1])\n",
    "dataset_train.prepare()\n",
    "\n",
    "# Validation dataset\n",
    "dataset_val = shapes.ShapesDataset()\n",
    "dataset_val.load_shapes(50, config.IMAGE_SHAPE[0], config.IMAGE_SHAPE[1])\n",
    "dataset_val.prepare()\n",
    "\n",
    "# Load and display random samples\n",
    "# image_ids = np.random.choice(dataset_train.image_ids, 3)\n",
    "# for image_id in [3]:\n",
    "#     image = dataset_train.load_image(image_id)\n",
    "#     mask, class_ids = dataset_train.load_mask(image_id)\n",
    "#     visualize.display_top_masks(image, mask, class_ids, dataset_train.class_names)"
   ]
  },
  {
   "cell_type": "markdown",
   "metadata": {},
   "source": [
    "## Create Model"
   ]
  },
  {
   "cell_type": "code",
   "execution_count": null,
   "metadata": {
    "scrolled": false
   },
   "outputs": [],
   "source": [
    "# import importlib\n",
    "# importlib.reload(model)\n",
    "# Create model in training mode\n",
    "# MODEL_DIR = os.path.join(MODEL_PATH, \"mrcnn_logs\")\n",
    "import  gc\n",
    "# del history\n",
    "try :\n",
    "    del model\n",
    "except: \n",
    "    pass\n",
    " \n",
    "gc.collect()\n",
    "\n",
    "model = modellib.MaskRCNN(mode=\"training\", config=config, model_dir=MODEL_DIR)"
   ]
  },
  {
   "cell_type": "code",
   "execution_count": null,
   "metadata": {
    "scrolled": false
   },
   "outputs": [],
   "source": [
    "model.keras_model.summary(line_length = 120)"
   ]
  },
  {
   "cell_type": "code",
   "execution_count": null,
   "metadata": {
    "scrolled": true
   },
   "outputs": [],
   "source": [
    "print(MODEL_PATH)\n",
    "print(COCO_MODEL_PATH)\n",
    "print(RESNET_MODEL_PATH)\n",
    "print(MODEL_DIR)\n",
    "print(model.find_last())"
   ]
  },
  {
   "cell_type": "code",
   "execution_count": null,
   "metadata": {
    "scrolled": false
   },
   "outputs": [],
   "source": [
    "# Which weights to start with?\n",
    "init_with = \"last\"  # imagenet, coco, or last\n",
    "\n",
    "if init_with == \"imagenet\":\n",
    "#     loc=model.load_weights(model.get_imagenet_weights(), by_name=True)\n",
    "    loc=model.load_weights(RESNET_MODEL_PATH, by_name=True)\n",
    "elif init_with == \"coco\":\n",
    "    # Load weights trained on MS COCO, but skip layers that\n",
    "    # are different due to the different number of classes\n",
    "    \n",
    "    # See README for instructions to download the COCO weights\n",
    "    loc=model.load_weights(COCO_MODEL_PATH, by_name=True,\n",
    "                       exclude=[\"mrcnn_class_logits\", \"mrcnn_bbox_fc\", \n",
    "                                \"mrcnn_bbox\", \"mrcnn_mask\"])\n",
    "elif init_with == \"last\":\n",
    "    # Load the last model you trained and continue training\n",
    "    loc= model.load_weights(model.find_last()[1], by_name=True)\n",
    "print('Load weights complete')"
   ]
  },
  {
   "cell_type": "code",
   "execution_count": null,
   "metadata": {},
   "outputs": [],
   "source": [
    "# for i in range(len(model.keras_model.layers)):\n",
    "#     print(i, ' Name of layer: ', model.keras_model.layers[i].name)\n",
    "\n",
    "# sess = tf.InteractiveSession()\n",
    "# model.keras_model.layers[229].output.eval()\n"
   ]
  },
  {
   "cell_type": "markdown",
   "metadata": {},
   "source": [
    "## Training\n",
    "\n",
    "Train in two stages:\n",
    "1. Only the heads. Here we're freezing all the backbone layers and training only the randomly initialized layers (i.e. the ones that we didn't use pre-trained weights from MS COCO). To train only the head layers, pass `layers='heads'` to the `train()` function.\n",
    "\n",
    "2. Fine-tune all layers. For this simple example it's not necessary, but we're including it to show the process. Simply pass `layers=\"all` to train all layers."
   ]
  },
  {
   "cell_type": "markdown",
   "metadata": {},
   "source": [
    "### Training head using  Keras.model.fit_generator()"
   ]
  },
  {
   "cell_type": "code",
   "execution_count": null,
   "metadata": {
    "scrolled": true
   },
   "outputs": [],
   "source": [
    "# Train the head branches\n",
    "# Passing layers=\"heads\" freezes all layers except the head\n",
    "# layers. You can also pass a regular expression to select\n",
    "# which layers to train by name pattern.\n",
    "\n",
    "model.train(dataset_train, dataset_val, \n",
    "            learning_rate=config.LEARNING_RATE, \n",
    "            epochs=69, \n",
    "            layers='heads')"
   ]
  },
  {
   "cell_type": "markdown",
   "metadata": {},
   "source": [
    "### Training heads using train_on_batch()\n",
    "\n",
    "We need to use this method for the time being as the fit generator does not have provide EASY access to the output in Keras call backs. By training in batches, we pass a batch through the network, pick up the generated RoI detections and bounding boxes and generate our semantic / gaussian tensors ...\n",
    "\n"
   ]
  },
  {
   "cell_type": "code",
   "execution_count": null,
   "metadata": {},
   "outputs": [],
   "source": [
    "\n",
    "model.train_in_batches(dataset_train, dataset_val, \n",
    "            learning_rate=config.LEARNING_RATE, \n",
    "            epochs_to_run = 2,\n",
    "            layers='heads')"
   ]
  },
  {
   "cell_type": "markdown",
   "metadata": {},
   "source": [
    "#### Some network information "
   ]
  },
  {
   "cell_type": "code",
   "execution_count": null,
   "metadata": {
    "scrolled": true
   },
   "outputs": [],
   "source": [
    "model.compile_only(learning_rate=config.LEARNING_RATE, layers='heads')\n",
    "# print(KB.eval(KB.learning_phase()))\n",
    "KB.set_learning_phase(1)\n",
    "print(' Learning phase values is L ' ,KB.learning_phase())\n",
    "mm = model.keras_model\n",
    "print('\\n Metrics (_get_deduped_metrics_names():) ') \n",
    "pp.pprint(mm._get_deduped_metrics_names())\n",
    "print('\\n Outputs: ') \n",
    "pp.pprint(mm.outputs)\n",
    "# pp.pprint(mm.fit_generator.__dict__['__wrapped__'])\n",
    "\n",
    "print('\\n Losses (model.metrics_names): ') \n",
    "# pp.pprint(mm.losses)\n",
    "pp.pprint(mm.metrics_names)"
   ]
  },
  {
   "cell_type": "code",
   "execution_count": null,
   "metadata": {},
   "outputs": [],
   "source": [
    "from mrcnn.datagen import data_generator, load_image_gt\n",
    "np.set_printoptions(linewidth=100)\n",
    "train_generator = data_generator(dataset_train, model.config, shuffle=True,\n",
    "                                 batch_size=model.config.BATCH_SIZE,\n",
    "                                 augment = False)\n",
    "val_generator = data_generator(dataset_val, model.config, shuffle=True, \n",
    "                                batch_size=model.config.BATCH_SIZE,\n",
    "                                augment=False)\n",
    "\n",
    "# train_batch_x, train_batch_y = next(train_generator)"
   ]
  },
  {
   "cell_type": "markdown",
   "metadata": {},
   "source": [
    "### Display shape loaded "
   ]
  },
  {
   "cell_type": "code",
   "execution_count": null,
   "metadata": {},
   "outputs": [],
   "source": [
    "sample_x, sample_y = next(train_generator)\n",
    "imgmeta_idx= mm.input_names.index('input_image_meta')\n",
    "img_meta  =  sample_x[imgmeta_idx]\n",
    "\n",
    "image_id = img_meta[0,0]\n",
    "print('Image id: ',image_id)\n",
    "image = dataset_train.load_image(image_id)\n",
    "mask, class_ids = dataset_train.load_mask(image_id)\n",
    "visualize.display_top_masks(image, mask, class_ids, dataset_train.class_names)\n",
    "\n",
    "image_id = img_meta[1,0]\n",
    "print('Image id: ',image_id)\n",
    "image = dataset_train.load_image(image_id)\n",
    "mask, class_ids = dataset_train.load_mask(image_id)\n",
    "visualize.display_top_masks(image, mask, class_ids, dataset_train.class_names)"
   ]
  },
  {
   "cell_type": "code",
   "execution_count": null,
   "metadata": {
    "scrolled": true
   },
   "outputs": [],
   "source": [
    "from mrcnn.pc_layer import PCTensor\n",
    "\n",
    "np.set_printoptions(precision=4,edgeitems=32)\n",
    "pc_tensor = PCTensor(model)\n",
    "pc_tensor.build_predictions(sample_x)\n",
    "\n",
    "# pc_tensor.pred_tensor[1]\n",
    "pc_tensor.pred_stacked[0]"
   ]
  },
  {
   "cell_type": "code",
   "execution_count": null,
   "metadata": {
    "scrolled": false
   },
   "outputs": [],
   "source": [
    "# import tensorflow as tf\n",
    "\n",
    "# p = tf.Variable(pc_tensor.pred_tensor)\n",
    "# q = tf.concat(pc_tensor.pred_stacked,0)\n",
    "# init=tf.global_variables_initializer()\n",
    "# with tf.Session() as sess:\n",
    "#     sess.run(init)\n",
    "#     print(p.eval())\n",
    "#     rec=sess.run(recall)\n",
    "#     print(rec)\n",
    "\n",
    "\n",
    "# sess = tf.InteractiveSession()\n",
    "# with sess.as_default():\n",
    "#     sess.run(init)\n",
    "#     # a = tf.constant(pc_tensor.pred_tensor)\n",
    "#     print(type(p))\n",
    "#     #  tf.assign(p, a)\n",
    "#     print(p[1,1,:,:].eval())\n",
    "#     print(p[:,:,:,1].eval())\n",
    "#     sort_idx = tf.nn.top_k(p[:,:,:,1], k=32).indices\n",
    "#     print(sort_idx.eval())\n",
    "#     print(p.shape)\n",
    "#     p_sorted[0] = tf.gather(p[0],sort_idx[0],axis = 2)\n",
    "#     print(p_sorted.eval())\n",
    "#     print(q.shape)\n",
    "#     print(q.eval())\n",
    "# sess.close()"
   ]
  },
  {
   "cell_type": "markdown",
   "metadata": {},
   "source": [
    "### Display ground truth bboxes using load_image_gt\n",
    "\n",
    "Here we are displaying the ground truth bounding boxes as provided by the dataset"
   ]
  },
  {
   "cell_type": "code",
   "execution_count": null,
   "metadata": {},
   "outputs": [],
   "source": [
    "p_original_image, p_image_meta, p_gt_class_id, p_gt_bbox, p_gt_mask =  \\\n",
    "            load_image_gt(dataset_train, config, image_id, augment=False, use_mini_mask=True)\n",
    "# print(p_gt_class_id.shape, p_gt_bbox.shape, p_gt_mask.shape)\n",
    "print(p_gt_bbox)\n",
    "visualize.draw_boxes(p_original_image, p_gt_bbox)"
   ]
  },
  {
   "cell_type": "markdown",
   "metadata": {},
   "source": [
    "### Display bboxes from Ground Truth Info Passed to Net\n",
    "\n",
    "Display the Ground Truth bounding boxes from the tensor we've constructed"
   ]
  },
  {
   "cell_type": "code",
   "execution_count": null,
   "metadata": {},
   "outputs": [],
   "source": [
    "# print(gt_bboxes)\n",
    "# visualize.display_instances(p_original_image, p_gt_bbox, p_gt_mask, p_gt_class_id, \n",
    "#                             dataset_train.class_names, figsize=(8, 8))\n",
    "# pp.pprint(gt_bboxes)\n",
    "print(gt_cpb_all[:,3:7])\n",
    "visualize.draw_boxes(image, gt_cpb_all[:,3:7])"
   ]
  },
  {
   "cell_type": "markdown",
   "metadata": {},
   "source": [
    "## Display RoI proposals generated\n",
    "\n",
    "Display bounding boxes from tensor of proposals produced by the network "
   ]
  },
  {
   "cell_type": "code",
   "execution_count": null,
   "metadata": {},
   "outputs": [],
   "source": [
    "img = 1\n",
    "cls = 3\n",
    "caps = [str(x) for x in pc_tensor.pred_tensor[img,cls,:,0].astype('int16').tolist() ]\n",
    "print(caps)\n",
    "# print(pc_tensor.pred_tensor[1,3,:])\n",
    "# print(pc_tensor.pred_tensor[1,3,:,2:6])\n",
    "visualize.draw_boxes(image, pc_tensor.pred_tensor[img,cls,:,2:6], captions = caps)"
   ]
  },
  {
   "cell_type": "markdown",
   "metadata": {},
   "source": [
    "For each class:\n",
    "- determine the center of each bounding box.\n",
    "- center a 2d gaussian distribution with the mean = center of bounding box and sigma = height/width\n",
    "- place dist on mesh grid\n",
    "- normalize\n",
    "- draw heatmap"
   ]
  },
  {
   "cell_type": "code",
   "execution_count": null,
   "metadata": {},
   "outputs": [],
   "source": [
    "np.set_printoptions(precision=5)\n",
    "from mrcnn.pc_layer import PCTensor\n",
    "pc_tensor = PCTensor(model)\n",
    "pc_tensor.build_predictions(sample_x)\n",
    "print(pc_tensor.pred_stacked)    # list of tensors\n"
   ]
  },
  {
   "cell_type": "code",
   "execution_count": null,
   "metadata": {},
   "outputs": [],
   "source": [
    "Zout2 = pc_tensor.build_gaussian_np()"
   ]
  },
  {
   "cell_type": "code",
   "execution_count": null,
   "metadata": {
    "scrolled": true
   },
   "outputs": [],
   "source": [
    "# # print(Zout1.shape, Zout2.shape)\n",
    "# img = 1\n",
    "# np.set_printoptions(precision=5)\n",
    "# print(Zout1[img,0,0:10,0:10])\n",
    "# print(\"\")\n",
    "# print(Zout1[img,1,0:10,0:10])\n",
    "# print(\"\")\n",
    "# print(Zout1[img,2,0:10,0:10])\n",
    "# print(\"\")\n",
    "# print(Zout1[img,3,0:10,0:10])\n",
    "# print(\"\")\n",
    "# print(Zout2[img,0,0:10,0:10])\n",
    "# print(\"\")\n",
    "# print(Zout2[img,1,0:10,0:10])\n",
    "# print(\"\")\n",
    "# print(Zout2[img,2,0:10,0:10])\n",
    "# print(\"\")\n",
    "# print(Zout2[img,3,0:10,0:10])\n",
    "pc_tensor.gt_tensor.shape"
   ]
  },
  {
   "cell_type": "markdown",
   "metadata": {},
   "source": [
    "### Plot"
   ]
  },
  {
   "cell_type": "code",
   "execution_count": null,
   "metadata": {},
   "outputs": [],
   "source": [
    "from mrcnn.visualize import plot_gaussian\n",
    "num_images = config.IMAGES_PER_GPU\n",
    "num_classes = config.NUM_CLASSES\n",
    "for img in range(num_images):\n",
    "    for cls in range(num_classes):\n",
    "        ttl = 'image :  {} class: {} '.format(img,cls)\n",
    "        plot_gaussian(Zout1[img,cls], title = ttl)\n",
    "#     print(Zout.shape)\n",
    "# plot_gaussian(Zout)\n",
    "# Zout = pc_tensor.build_gaussian()"
   ]
  },
  {
   "cell_type": "code",
   "execution_count": null,
   "metadata": {},
   "outputs": [],
   "source": [
    "from mrcnn.visualize import plot_gaussian\n",
    "num_images = config.IMAGES_PER_GPU\n",
    "num_classes = config.NUM_CLASSES\n",
    "for img in range(num_images):\n",
    "    for cls in range(num_classes):\n",
    "        ttl = 'image :  {} class: {} '.format(img,cls)\n",
    "        plot_gaussian(Zout2[img,cls], title = ttl)\n",
    "#     print(Zout.shape)\n",
    "# plot_gaussian(Zout)\n",
    "# Zout = pc_tensor.build_gaussian()"
   ]
  },
  {
   "cell_type": "code",
   "execution_count": null,
   "metadata": {
    "scrolled": true
   },
   "outputs": [],
   "source": [
    "# img = 0\n",
    "# cls = 0\n",
    "# _cnt = pc_tensor.pred_cls_cnt[img,cls]\n",
    "# print(_cnt)\n",
    "# for box in range(_cnt):\n",
    "\n",
    "#     mns = means[img,cls, 0 : _cnt]\n",
    "#     print('img: ',img, 'class: ', cls, 'class count: ',_cnt, 'shape of mns :',mns.shape)\n",
    "#     # print('** bbox is : ' ,self.pred_tensor[img,cls,box])\n",
    "#     # print('    center is ({:4f},{:4f})  width is {:4f} height is {:4f} '\\\n",
    "#         # .format(mns[0],mns[1],width[img,cls,box],height[img,cls,box]))            \n",
    "#     # fn = lambda x: multivariate_normal(x, [[12,0.0] , [0.0,19]])\n",
    "#     # rv = tf.map_fn(fn, \n",
    "#     rv = np.apply_along_axis(multivariate_normal, 1, mns, [[12,0.0] , [0.0,19]])\n",
    "#     print('rv :',rv.shape, rv)\n",
    "#     _zo = rv.pdf(pos[img,cls])\n",
    "#     print('zo :',_zo.shape)"
   ]
  },
  {
   "cell_type": "code",
   "execution_count": null,
   "metadata": {},
   "outputs": [],
   "source": [
    "# pc_tensor.pred_stacked[0].eval(session=k_sess)\n",
    "#"
   ]
  },
  {
   "cell_type": "code",
   "execution_count": null,
   "metadata": {},
   "outputs": [],
   "source": [
    "tfd = tf.contrib.distributions\n",
    "k_sess = KB.get_session()"
   ]
  },
  {
   "cell_type": "code",
   "execution_count": null,
   "metadata": {},
   "outputs": [],
   "source": [
    "# pp1 = tf.fill([1,1,32], 12.0)\n",
    "# pp2 = tf.fill([1,1,32], 19.0)\n",
    "# pp  = tf.cast(tf.stack((pp1,pp2),axis=-1), dtype=tf.float64)\n",
    "# tf.cast([12.0, 19.00], dtype=tf.float64)\n",
    "# pp1.eval(session = k_sess)\n",
    "\n",
    "# mvn = tfd.MultivariateNormalDiag(means[0,0,0,:],scale_diag=p1)\n",
    "# mvn = tfd.MultivariateNormalDiag(means[0,0,0,:],scale_diag=p1)\n",
    "\n",
    "# with k_sess.as_default():\n",
    "#     print(mvn.mean())\n",
    "#     print(mvn.batch_shape)\n",
    "#     print(mvn.event_shape)\n",
    "#     print(pos[0,0,:,0,0,:].shape)\n",
    "#     rr = mvn.prob(pos[0,0,:,0,0,:])\n",
    "#     print(rr)"
   ]
  },
  {
   "cell_type": "code",
   "execution_count": null,
   "metadata": {
    "scrolled": false
   },
   "outputs": [],
   "source": [
    "# %matplotlib notebook\n",
    "# from mrcnn.visualize import plot_gaussian\n",
    "# for i in range(0,config.IMAGES_PER_GPU):\n",
    "#     for j in range(0,config.NUM_CLASSES):\n",
    "#         ttl = 'image : {} class: {}'.format(i,j)\n",
    "#         plot_gaussian(Zout[i,j] , title = ttl )\n",
    "# # plot_gaussian(Zout[3])\n"
   ]
  },
  {
   "cell_type": "code",
   "execution_count": null,
   "metadata": {},
   "outputs": [],
   "source": [
    "# Zout = np.zeros((num_classes, 128,128))\n",
    "for i in range(1,config.NUM_CLASSES):\n",
    "    print('class: ',i)\n",
    "    for j in range(gt_cls_cnt[i]):\n",
    "        Zout[i] = bbox_gaussian(gt_cpb[i,j], Zout[i])\n",
    "print(Zout.shape)\n",
    " \n",
    "# plot_gaussian(Zout[1])\n",
    "# plot_gaussian(Zout[3])"
   ]
  },
  {
   "cell_type": "markdown",
   "metadata": {},
   "source": [
    "## Fine Tuning\n",
    "Fine tune all layers"
   ]
  },
  {
   "cell_type": "code",
   "execution_count": null,
   "metadata": {
    "scrolled": false
   },
   "outputs": [],
   "source": [
    "# Fine tune all layers\n",
    "# Passing layers=\"all\" trains all layers. You can also \n",
    "# pass a regular expression to select which layers to\n",
    "# train by name pattern.\n",
    "model.train(dataset_train, dataset_val, \n",
    "            learning_rate=config.LEARNING_RATE / 10,\n",
    "            epochs=211,\n",
    "            layers=\"all\")"
   ]
  },
  {
   "cell_type": "markdown",
   "metadata": {},
   "source": [
    "## Save "
   ]
  },
  {
   "cell_type": "code",
   "execution_count": null,
   "metadata": {},
   "outputs": [],
   "source": [
    "# Save weights\n",
    "# Typically not needed because callbacks save after every epoch\n",
    "# Uncomment to save manually\n",
    "model_path = os.path.join(MODEL_DIR, \"mask_rcnn_shapes.h5\")\n",
    "model.keras_model.save_weights(model_path)"
   ]
  },
  {
   "cell_type": "markdown",
   "metadata": {},
   "source": [
    "## Detection"
   ]
  },
  {
   "cell_type": "code",
   "execution_count": null,
   "metadata": {},
   "outputs": [],
   "source": [
    "class InferenceConfig(ShapesConfig):\n",
    "    GPU_COUNT = 1\n",
    "    IMAGES_PER_GPU = 1\n",
    "\n",
    "inference_config = InferenceConfig()\n",
    "\n",
    "# Recreate the model in inference mode\n",
    "model = modellib.MaskRCNN(mode=\"inference\", \n",
    "                          config=inference_config,\n",
    "                          model_dir=MODEL_DIR)\n",
    "\n",
    "# Get path to saved weights\n",
    "# Either set a specific path or find last trained weights\n",
    "# model_path = os.path.join(ROOT_DIR, \".h5 file name here\")\n",
    "model_path = model.find_last()[1]\n",
    "\n",
    "# Load trained weights (fill in path to trained weights here)\n",
    "assert model_path != \"\", \"Provide path to trained weights\"\n",
    "print(\"Loading weights from \", model_path)\n",
    "model.load_weights(model_path, by_name=True)"
   ]
  },
  {
   "cell_type": "code",
   "execution_count": null,
   "metadata": {},
   "outputs": [],
   "source": [
    "# Test on a random image\n",
    "image_id = random.choice(dataset_val.image_ids)\n",
    "\n",
    "original_image, image_meta, gt_class_id, gt_bbox, gt_mask =\\\n",
    "    modellib.load_image_gt(dataset_val, inference_config, image_id, use_mini_mask=False)\n",
    "\n",
    "log(\"original_image\", original_image)\n",
    "log(\"image_meta\", image_meta)\n",
    "log(\"gt_class_id\", gt_bbox)\n",
    "log(\"gt_bbox\", gt_bbox)\n",
    "log(\"gt_mask\", gt_mask)\n",
    "\n",
    "visualize.display_instances(original_image, gt_bbox, gt_mask, gt_class_id, \n",
    "                            dataset_train.class_names, figsize=(8, 8))"
   ]
  },
  {
   "cell_type": "code",
   "execution_count": null,
   "metadata": {},
   "outputs": [],
   "source": [
    "results = model.detect([original_image], verbose=1)\n",
    "\n",
    "r = results[0]\n",
    "visualize.display_instances(original_image, r['rois'], r['masks'], r['class_ids'], \n",
    "                            dataset_val.class_names, r['scores'], ax=get_ax())"
   ]
  },
  {
   "cell_type": "markdown",
   "metadata": {},
   "source": [
    "## Evaluation"
   ]
  },
  {
   "cell_type": "code",
   "execution_count": null,
   "metadata": {},
   "outputs": [],
   "source": [
    "# Compute VOC-Style mAP @ IoU=0.5\n",
    "# Running on 10 images. Increase for better accuracy.\n",
    "image_ids = np.random.choice(dataset_val.image_ids, 10)\n",
    "APs = []\n",
    "for image_id in image_ids:\n",
    "    # Load image and ground truth data\n",
    "    image, image_meta, gt_class_id, gt_bbox, gt_mask =\\\n",
    "        modellib.load_image_gt(dataset_val, inference_config,\n",
    "                               image_id, use_mini_mask=False)\n",
    "    molded_images = np.expand_dims(modellib.mold_image(image, inference_config), 0)\n",
    "    # Run object detection\n",
    "    results = model.detect([image], verbose=0)\n",
    "    r = results[0]\n",
    "    # Compute AP\n",
    "    AP, precisions, recalls, overlaps =\\\n",
    "        utils.compute_ap(gt_bbox, gt_class_id,\n",
    "                         r[\"rois\"], r[\"class_ids\"], r[\"scores\"])\n",
    "    APs.append(AP)\n",
    "    \n",
    "print(\"mAP: \", np.mean(APs))"
   ]
  },
  {
   "cell_type": "code",
   "execution_count": null,
   "metadata": {},
   "outputs": [],
   "source": [
    "# lay = mm.layers[229]\n",
    "# print(lay.__class__, lay.__class__.__name__)\n",
    "# pp.pprint(dir(lay))\n",
    "# pp.pprint(lay.input_spec.__dict__)\n",
    "# pp.pprint(lay.output.__dict__)\n",
    "# print(type(lay.output))\n",
    "# print(keras.backend.is_keras_tensor(lay))\n",
    "# print(K.eval(lay.output))"
   ]
  },
  {
   "cell_type": "code",
   "execution_count": null,
   "metadata": {},
   "outputs": [],
   "source": [
    "# print(pred_index.shape, pred_class.shape, pred_prob.shape)\n",
    "# b_cpb = np.column_stack((pred_index, pred_class, pred_prob, rois)) # , b_probs)) #.transpose()\n",
    "# print(' b_cpb shape: ',b_cpb.shape,'\\n',b_cpb)\n",
    "\n",
    "# print(b_cpb[:,3:] bbox_delta)\n",
    "\n",
    "# nonbg_idx = np.argwhere(b_cpb[:,1]) \n",
    "\n",
    "# print(type(nonbg_idx))\n",
    "# b_cpb_nonbg = b_cpb[nonbg_idx,:].squeeze()\n",
    "\n",
    "# print(b_cpb_nonbg)\n",
    "# order = b_cpb_nonbg[:,2].argsort()\n",
    "\n",
    "\n",
    "\n",
    "# print('\\n srtd_cpb : (idx, class, prob, y1, x1, y2, x2)',srtd_cpb.shape, '\\n')\n",
    "# print(srtd_cpb)\n",
    "\n",
    "# # srtd_cpb_2 has (idx, cls_idx, prob, cx ,cy, width, height) instead of (idx, cls_idx, prob, y1, x1, y2, x2)\n",
    "\n",
    "# width  = srtd_cpb[:,6]-srtd_cpb[:,4]\n",
    "# height = srtd_cpb[:,5]-srtd_cpb[:,3]\n",
    "# cx = srtd_cpb[:,4] + ( width  / 2.0)\n",
    "# cy = srtd_cpb[:,3] + ( height / 2.0)\n",
    "# print('\\n srtd_cpb_2 : (idx, class, prob, cx ,cy, width, height) instead of (y1, x1, y2, x2)')\n",
    "# srtd_cpb_2 = np.column_stack((srtd_cpb[:, 0:3], cx,cy, width, height ))\n",
    "\n",
    "# print('\\n',srtd_cpb_2)"
   ]
  },
  {
   "cell_type": "markdown",
   "metadata": {},
   "source": [
    "### Scrap Code"
   ]
  },
  {
   "cell_type": "code",
   "execution_count": null,
   "metadata": {},
   "outputs": [],
   "source": [
    "# def get_layer_output(model, model_input,output_layer, training_flag = True):\n",
    "#     _my_input = model_input \n",
    "#     for name,inp in zip(model.input_names, model_input):\n",
    "#         print(' Input Name:  ({:24}) \\t  Input shape: {}'.format(name, inp.shape))\n",
    "\n",
    "\n",
    "#     _mrcnn_class = KB.function(model.input , model.output)\n",
    "#     output = _mrcnn_class(_my_input)                  \n",
    "    \n",
    "#     for name,out in zip (model.output_names,output):\n",
    "#         print(' Output Name: ({:24}) \\t Output shape: {}'.format(name, out.shape))\n",
    "#     return output"
   ]
  },
  {
   "cell_type": "code",
   "execution_count": null,
   "metadata": {},
   "outputs": [],
   "source": [
    "def stack_tensor(model):\n",
    "    pred_cpb_all = np.empty((0,8))\n",
    "    for i in range(1,model.config.NUM_CLASSES):\n",
    "    if pred_cls_cnt[i] > 0:\n",
    "        pred_cpb_all = np.vstack((pred_cpb_all, pred_cpb[i,0:pred_cls_cnt[i]] ))\n",
    "    "
   ]
  },
  {
   "cell_type": "code",
   "execution_count": null,
   "metadata": {},
   "outputs": [],
   "source": [
    "from scipy.stats import  multivariate_normal\n",
    "import numpy as np\n",
    "def bbox_gaussian( bbox, Zin ):\n",
    "    \"\"\"\n",
    "    receive a bounding box, and generate a gaussian distribution centered on the bounding box and with a \n",
    "    covariance matrix based on the width and height of the bounding box/. \n",
    "    Inputs : \n",
    "    --------\n",
    "    bbox :  (index, class_id, class_prob, y1, x1, y2, x2)\n",
    "    bbox :  (index, class_id, class_prob, cx, cy, width, height)\n",
    "    Returns:\n",
    "    --------\n",
    "    bbox_g  grid mesh [image_height, image width] covering the distribution\n",
    "\n",
    "    \"\"\"\n",
    "    print(bbox.shape)\n",
    "    width  = bbox[6] - bbox[4]\n",
    "    height = bbox[5] - bbox[3]\n",
    "    cx     = bbox[4] + ( width  / 2.0)\n",
    "    cy     = bbox[3] + ( height / 2.0)\n",
    "#     cx, cy, width, height = bbox[3:]\n",
    "    print('center is ({},{}) width: {}  height: {} '.format(cx, cy, width,  height))\n",
    "#     srtd_cpb_2 = np.column_stack((srtd_cpb[:, 0:2], cx,cy, width, height ))\n",
    "    X = np.arange(0, 128, 1)\n",
    "    Y = np.arange(0, 128, 1)\n",
    "    X, Y = np.meshgrid(X, Y)\n",
    "    pos = np.empty(X.shape+(2,))   # concatinate shape of x to make ( x.rows, x.cols, 2)\n",
    "    pos[:,:,0] = X;\n",
    "    pos[:,:,1] = Y;\n",
    "\n",
    "    rv = multivariate_normal([cx,cy],[[12,0.0] , [0.0,19]])\n",
    "    Zout  = rv.pdf(pos)\n",
    "    Zout += Zin\n",
    "    return Zout"
   ]
  },
  {
   "cell_type": "markdown",
   "metadata": {},
   "source": [
    "## Notebook Preferences"
   ]
  },
  {
   "cell_type": "code",
   "execution_count": null,
   "metadata": {},
   "outputs": [],
   "source": [
    "def get_ax(rows=1, cols=1, size=8):\n",
    "    \"\"\"Return a Matplotlib Axes array to be used in\n",
    "    all visualizations in the notebook. Provide a\n",
    "    central point to control graph sizes.\n",
    "    \n",
    "    Change the default size attribute to control the size\n",
    "    of rendered images\n",
    "    \"\"\"\n",
    "    _, ax = plt.subplots(rows, cols, figsize=(size*cols, size*rows))\n",
    "    return ax"
   ]
  },
  {
   "cell_type": "markdown",
   "metadata": {},
   "source": [
    "## Configurations"
   ]
  },
  {
   "cell_type": "code",
   "execution_count": null,
   "metadata": {},
   "outputs": [],
   "source": [
    "# from keras import backend as KB\n",
    "# if 'tensorflow' == KB.backend():\n",
    "#     import tensorflow as tf\n",
    "#     from keras.backend.tensorflow_backend import set_session\n",
    "#     # tfconfig = tf.ConfigProto(\n",
    "#         # gpu_options = tf.GPUOptions(per_process_gpu_memory_fraction=0.5),\n",
    "#         # device_count = {'GPU': 1}\n",
    "#     # )    \n",
    "#     tfconfig = tf.ConfigProto()\n",
    "#     tfconfig.gpu_options.allow_growth=True\n",
    "#     tfconfig.gpu_options.visible_device_list = \"0\"\n",
    "#     tfconfig.gpu_options.per_process_gpu_memory_fraction=0.5\n",
    "#     tf_sess = tf.Session(config=tfconfig)\n",
    "#     set_session(tf_sess)"
   ]
  },
  {
   "cell_type": "markdown",
   "metadata": {},
   "source": [
    "### Prepare Prediction Tensor (output tensor)\n",
    "Using the softmax outputs from the mrcnn head of the network and predicted RoIs , \n",
    "build tensor [ num-classes, num_rois, (roi_information) ]"
   ]
  },
  {
   "cell_type": "code",
   "execution_count": null,
   "metadata": {},
   "outputs": [],
   "source": [
    "# np.set_printoptions(precision=4)\n",
    "\n",
    "# // pass model to TensorBuilder\n",
    "\n",
    "# h, w = config.IMAGE_SHAPE[:2]\n",
    "\n",
    "# class_idx = mm.output_names.index('mrcnn_class')\n",
    "# bbox_idx  = mm.output_names.index('mrcnn_bbox')\n",
    "# outroi_idx= mm.output_names.index('output_rois')\n",
    "\n",
    "\n",
    "# print('mrcnn_class idx: {}   mrcnn_bbox idx : {}   output_rois idx : {}'.format(class_idx, bbox_idx,outroi_idx))\n",
    "\n",
    "\n",
    "# mrcnn_class = ppp[class_idx]\n",
    "# mrcnn_bbox  = ppp[bbox_idx]\n",
    "# rois_norm   = ppp[outroi_idx][0,...] \n",
    "# rois        = rois_norm * np.array([h,w,h,w])\n",
    "\n",
    "# num_classes = config.NUM_CLASSES\n",
    "# num_rois    = config.TRAIN_ROIS_PER_IMAGE\n",
    "# num_max_gt  = config.DETECTION_MAX_INSTANCES\n",
    "# num_cols    = 8 \n",
    "\n",
    "# pred_arr    = np.zeros((num_classes, num_rois, num_cols ))      # 4, 32, 7\n",
    "# pred_cpb    = np.zeros_like(pred_cpb)\n",
    "# pred_cls_cnt= np.zeros((num_classes), dtype='int16')\n",
    "\n",
    "# print(' mrcnn_bbox shape is : ',mrcnn_bbox.shape, ' pred_cpb shape is   : ',pred_cpb.shape  )\n",
    "\n",
    "# # use the argmaxof each row to determine the dominating (predicted) class\n",
    "# #---------------------------------------------------------------------------\n",
    "# pred_class = np.argmax(mrcnn_class[0,:,:],axis=1).astype('int16')   # (32,)\n",
    "\n",
    "# # pred_index = np.arange(pred_class.shape[0],dtype='int16')\n",
    "# # pred_prob  =    np.max(mrcnn_class[0,:,:],axis=1)                   #  (32,)\n",
    "# # dont need it for now. Need to see if and how we should apply  the delta to the bounding box coords\n",
    "# # pred_delta   = mrcnn_bbox[0,pred_index[:],pred_class[:],:]        \n",
    "\n",
    "# for i in range(num_classes) :\n",
    "#     class_idxs = np.argwhere(pred_class == i )\n",
    "#     pred_cls_cnt[i] = class_idxs.shape[0] \n",
    "#     for j , c_idx in enumerate(class_idxs):\n",
    "#         pred_arr[i, j,  0]  = j\n",
    "#         pred_arr[i, j,  1]  = i                                   # class_id\n",
    "#         pred_arr[i, j,  2]  = np.max(mrcnn_class[0, c_idx ])      # probability\n",
    "#         pred_arr[i, j,3:7]  = rois[c_idx]                         # roi coordinates\n",
    "#         pred_arr[i, j,  7]  = c_idx                               # index from mrcnn_class array (temp for verification)\n",
    "        \n",
    "        \n",
    "# # sort each class in descending prediction order \n",
    "\n",
    "# order = pred_arr[:,:,2].argsort()\n",
    "\n",
    "# for i in range(num_classes):\n",
    "#     pred_cpb[i,:,1:] =  pred_arr[i,order[i,::-1],1:]      \n",
    "# pred_cpb[:,:,0] = pred_arr[:,:,0]\n",
    "\n",
    "# print('pred_cpb shape', pred_cpb.shape)\n",
    "\n",
    "# print(pred_cpb_all)\n",
    "\n",
    "# Display values for sanity check \n",
    "# i = 0\n",
    "# print(pred_cls_cnt)\n",
    "# print(' pred_cpb ')\n",
    "# print(pred_cpb[i])\n",
    "# print(' pred_srtd ')\n",
    "# print(pred_srtd[i])"
   ]
  },
  {
   "cell_type": "markdown",
   "metadata": {},
   "source": [
    "### Prepare output tensor from Ground Truth data \n",
    "\n",
    "Using ground truth inputs to the network, build tensor [ num-classes, num_rois, (roi_information) ]\n",
    "This Tensor will be used for training purposed on the new head we will be attaching to the existing network "
   ]
  },
  {
   "cell_type": "code",
   "execution_count": null,
   "metadata": {},
   "outputs": [],
   "source": [
    "# gtcls_idx = mm.input_names.index('input_gt_class_ids')\n",
    "# gtbox_idx = mm.input_names.index('input_gt_boxes')\n",
    "# gtmsk_idx = mm.input_names.index('input_gt_masks')\n",
    "# print('gtcls_idx: ',gtcls_idx, 'gtbox_idx :', gtbox_idx)\n",
    "# gt_classes = sample_x[gtcls_idx][0,:]\n",
    "# gt_bboxes  = sample_x[gtbox_idx][0,:,:]\n",
    "\n",
    "# gt_cpb     = np.zeros((num_classes, num_max_gt, num_cols ))      # 4, 32, 7\n",
    "# gt_cls_cnt = np.zeros((num_classes), dtype='int16')\n",
    "# # gt_masks   = sample_x[gtmsk_idx][0,:,:,nz_idx]\n",
    "# # gt_indexes = np.arange(gt_classes.shape[0],dtype='int16')\n",
    "# # gt_probs   = np.ones(gt_classes.shape[0])\n",
    "\n",
    "# print('gt_classes.shape :',gt_classes.shape, 'gt_boxes.shape :',gt_bboxes.shape,'gt_masks.shape :', gt_masks.shape)\n",
    " \n",
    "# for i in range(num_classes) :\n",
    "#     print('indexes for class',i )\n",
    "#     class_idxs = np.argwhere(gt_classes == i )\n",
    "#     gt_cls_cnt[i] = class_idxs.shape[0]\n",
    "#     for j , c_idx in enumerate(class_idxs):\n",
    "#         gt_cpb[i, j,  0]  = j\n",
    "#         gt_cpb[i, j,  1]  = i                                   # class_id\n",
    "#         gt_cpb[i, j,  2]  = 1.0                                 # probability\n",
    "#         gt_cpb[i, j, 3:7] = gt_bboxes[c_idx,:]                         # roi coordinates\n",
    "#         gt_cpb[i, j,  7]  = c_idx                               # index from mrcnn_class array (temp for verification)\n",
    "\n",
    "# gt_cpb_all = np.empty((0,8))\n",
    "# for i in range(1,num_classes):\n",
    "#     if gt_cls_cnt[i] > 0:\n",
    "#         gt_cpb_all = np.vstack((gt_cpb_all, gt_cpb[i,0:gt_cls_cnt[i]] ))\n",
    "# print(gt_cpb_all)\n",
    "\n",
    "# print('\\n gt_cpb : (idx, class, prob, y1, x1, y2, x2)', gt_cpb.shape, '\\n')\n",
    "# print(gt_cls_cnt)\n",
    "# print(gt_cpb[3])"
   ]
  },
  {
   "cell_type": "code",
   "execution_count": null,
   "metadata": {},
   "outputs": [],
   "source": [
    "# pdf = np.apply_along_axis(lambda x: x.pdf, 0, rv)\n",
    "\n",
    "rv = list( map(multivariate_normal, mns, pp))\n",
    "print(type(rv),len(rv))\n",
    "pdf = list(map(lambda x: x.pdf, rv,  ))\n",
    "# z =  fn.pdf(pos[img,cls])\n",
    "# np.sum(pc_tensor.pred_cls_cnt,axis=1)    sum class counts across images\n",
    "# pc_tensor.pred_cls_cnt[1,0] = 9  # manipulate the class counts for class 0 - just to check\n"
   ]
  },
  {
   "cell_type": "code",
   "execution_count": null,
   "metadata": {},
   "outputs": [],
   "source": [
    "from scipy.stats import  multivariate_normal\n",
    "import pprint\n",
    "pp = pprint.PrettyPrinter(indent=2, width=100)\n",
    "\n",
    "img_h, img_w = config.IMAGE_SHAPE[:2]\n",
    "num_images   = config.BATCH_SIZE\n",
    "num_classes  = config.NUM_CLASSES  \n",
    "num_rois     = config.TRAIN_ROIS_PER_IMAGE\n",
    "#   print(bbox.shape)\n",
    "\n",
    "X = np.arange(0, img_w, 1)\n",
    "Y = np.arange(0, img_h, 1)\n",
    "X, Y = np.meshgrid(X, Y)\n",
    "pos = np.empty((num_rois,) + X.shape + (2,))   # concatinate shape of x to make ( x.rows, x.cols, 2)\n",
    "print(pos.shape)\n",
    "pos[:,:,:,0] = X;\n",
    "pos[:,:,:,1] = Y;\n",
    "\n",
    "pp1 = np.full((32), 12.0)\n",
    "pp2 = np.full((32), 19.0)\n",
    "cov  = np.stack((pp1,pp2),axis=-1)\n",
    "\n",
    "del pp1,pp2\n",
    "print(cov.shape, prt[0].shape, prt[1].shape)\n",
    "\n",
    "prt = pc_tensor.pred_stacked\n",
    "Zout  = np.zeros((num_images, num_classes, img_w, img_h))\n",
    "\n",
    "for img in range(num_images):\n",
    "    ps     = prt[img].eval(session=k_sess)\n",
    "    \n",
    "    for cls in range(num_classes):\n",
    "        cls_idxs = np.argwhere(_ps[:,6] == cls).squeeze() \n",
    "#         ps = _ps[cls_idxs,:]        \n",
    "        print('cl;s:',cls,' ',cls_idxs)\n",
    "        width  = ps[:,5] - ps[:,3]\n",
    "        height = ps[:,4] - ps[:,2]\n",
    "        cx     = ps[:,3] + ( width  / 2.0)\n",
    "        cy     = ps[:,2] + ( height / 2.0)\n",
    "        means  = np.stack((cx,cy),axis = -1)\n",
    "\n",
    "        print(ps.shape, type(ps),width.shape, height.shape, cx.shape, cy.shape, type(means),means.shape)\n",
    "    \n",
    "        rv  = list( map(multivariate_normal, means, cov))\n",
    "        pdf = list( map(lambda x,y: x.pdf(y) , rv, pos))\n",
    "        pdf_arr = np.asarray(pdf)\n",
    "        print(pdf_arr.shape)\n",
    "        pdf_sum = np.sum(pdf_arr[[cls_idxs]],axis=0)\n",
    "        Zout[img,cls] += pdf_sum\n"
   ]
  }
 ],
 "metadata": {
  "anaconda-cloud": {},
  "kernelspec": {
   "display_name": "Python [TF_gpu]",
   "language": "python",
   "name": "Python [TF_gpu]"
  },
  "language_info": {
   "codemirror_mode": {
    "name": "ipython",
    "version": 3
   },
   "file_extension": ".py",
   "mimetype": "text/x-python",
   "name": "python",
   "nbconvert_exporter": "python",
   "pygments_lexer": "ipython3",
   "version": "3.5.4"
  }
 },
 "nbformat": 4,
 "nbformat_minor": 2
}
