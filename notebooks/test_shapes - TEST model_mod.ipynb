{
 "cells": [
  {
   "cell_type": "markdown",
   "metadata": {},
   "source": [
    "# Mask R-CNN - Test on Old Shapes Dataset\n",
    "\n",
    "Run the Mask R-CNN net in inference mode, with the additional PCILayer that generates the context-based tensor "
   ]
  },
  {
   "cell_type": "code",
   "execution_count": 8,
   "metadata": {
    "ExecuteTime": {
     "end_time": "2018-06-18T15:02:49.917055Z",
     "start_time": "2018-06-18T15:02:37.310787Z"
    },
    "hideCode": false,
    "hidePrompt": false,
    "scrolled": true
   },
   "outputs": [
    {
     "data": {
      "text/html": [
       "<style>.container { width:95% !important; }</style>"
      ],
      "text/plain": [
       "<IPython.core.display.HTML object>"
      ]
     },
     "metadata": {},
     "output_type": "display_data"
    },
    {
     "name": "stdout",
     "output_type": "stream",
     "text": [
      "The autoreload extension is already loaded. To reload it, use:\n",
      "  %reload_ext autoreload\n",
      " Initialize config object - super\n",
      "(56, 56)\n",
      " Shapes Per Image:  7\n",
      ">>> Initialize model WITHOUT MASKING LAYERS!!!!\n",
      "    set_log_dir: Checkpoint path set to : E:\\models\\newshape_fcn\\shapes20180618T1702\\mask_rcnn_shapes_{epoch:04d}.h5\n",
      "    set_log_dir: self.epoch set to 0 \n",
      "\n",
      ">>> Resnet Graph \n",
      "     Input_image shape : (?, 128, 128, 3)\n",
      "     After ZeroPadding2D  : (?, 134, 134, 3) (?, 134, 134, 3)\n",
      "     After Conv2D padding : (?, 64, 64, 64) (?, 64, 64, 64)\n",
      "     After BatchNorm      : (?, 64, 64, 64) (?, 64, 64, 64)\n",
      "     After MaxPooling2D   : (?, 32, 32, 64) (?, 32, 32, 64)\n",
      "\n",
      ">>> Feature Pyramid Network (FPN) Graph \n",
      "     FPN P2 shape : (None, 32, 32, 256)\n",
      "     FPN P3 shape : (None, 16, 16, 256)\n",
      "     FPN P4 shape : (None, 8, 8, 256)\n",
      "     FPN P5 shape : (None, 4, 4, 256)\n",
      "     FPN P6 shape : (None, 2, 2, 256)\n",
      "\n",
      ">>> RPN Layer \n",
      "     Input_feature_map shape : (?, ?, ?, 256)\n",
      "     anchors_per_location    : 3\n",
      "     depth                   : 256\n",
      "     Input_feature_map shape : (?, ?, ?, 256)\n",
      "     anchors_per_location    : 3\n",
      "     anchor_stride           : 1\n",
      "\n",
      ">>> RPN Outputs  <class 'list'>\n",
      "      rpn_class_logits/rpn_class_logits:0\n",
      "      rpn_class/rpn_class:0\n",
      "      rpn_bbox/rpn_bbox:0\n",
      "\n",
      ">>> Proposal Layer - generate  1000  proposals\n",
      "    Init complete. Size of anchors:  (4092, 4)\n",
      "     Scores :  (1, 4092)\n",
      "     Deltas :  (1, 4092, 4)\n",
      "     Anchors:  (1, 4092, 4)\n",
      "     Boxes shape / type after processing: \n",
      "     Output: Prposals shape :  (1, ?, ?) (1, None, None)\n",
      "\n",
      ">>> FPN Classifier Graph \n",
      "     rois shape          : (1, ?, ?)\n",
      "     No of feature_maps  : 4\n",
      "        feature_maps shape  : (?, 32, 32, 256)\n",
      "        feature_maps shape  : (?, 16, 16, 256)\n",
      "        feature_maps shape  : (?, 8, 8, 256)\n",
      "        feature_maps shape  : (?, 4, 4, 256)\n",
      "     input_shape         : [128 128   3]\n",
      "     pool_size           : 7\n",
      "   > PyramidRoI Alignment Layer Call()  5\n",
      "     boxes.shape    : (None, 1000, 4)\n",
      "     roi_align_classifier output shape is :  (1, ?, 7, 7, 256) (1, ?, 7, 7, 256)\n",
      "     mrcnn_class_conv1    output shape is :  (?, 1000, 1, 1, 1024)\n",
      "     mrcnn_class_bn1      output shape is :  (?, 1000, 1, 1, 1024)\n",
      "     mrcnn_class_relu1    output shape is :  (?, 1000, 1, 1, 1024)\n",
      "     mrcnn_class_conv2 output shape is :  (?, 1000, 1, 1, 1024)\n",
      "     mrcnn_class_bn2      output shape is :  (?, 1000, 1, 1, 1024)\n",
      "     mrcnn_class_relu2    output shape is :  (?, 1000, 1, 1, 1024)\n",
      "     pool_squeeze(Shared) output shape is :  (?, 1000, 1024)\n",
      "     mrcnn_class_logits   output shape is :  (?, 1000, 7)\n",
      "     mrcnn_class_probs    output shape is :  (?, 1000, 7)\n",
      "   mrcnn_bbox_fc        output shape is :  (?, 1000, 28)\n",
      "   mrcnn_bbox           output shape is :  (?, 1000, 7, 4)\n",
      "\n",
      ">>> Detection Layer (Inference Mode)\n",
      "    Detection Layer : call()  <class 'list'> 4\n",
      "     rpn_proposals_roi  : (1, ?, ?) (1, ?, ?) (None, 1000, 4)\n",
      "     mrcnn_class.shape  : (?, 1000, 7) (?, 1000, 7) (None, 1000, 7)\n",
      "     mrcnn_bboxes.shape : (?, 1000, 7, 4) (?, 1000, 7, 4) (None, 1000, 7, 4)\n",
      "     input_image_meta   : (?, ?) (?, ?) (None, None)\n",
      "<<<  shape of DETECTIONS :  (None, 100, 6)  Keras tensor  True\n",
      "<<<  shape of DETECTION_BOXES :  (None, 100, 4)  Keras tensor  True\n",
      " ================================================================\n",
      " self.keras_model.losses :  0\n",
      "[]\n",
      " ================================================================\n",
      "\n",
      ">>> MODIFIED MaskRCNN build complete -- WITHOUT MASKING LAYERS!!!!\n",
      ">>> MODIFIED MaskRCNN initialization complete -- WITHOUT MASKING LAYERS!!!!\n",
      " COCO Model Path       :  E:\\models\\mask_rcnn_coco.h5\n",
      " Checkpoint folder Path:  E:\\models\\newshape_fcn\n",
      " Model Parent Path     :  E:\\models\n",
      " Resent Model Path     :  E:\\models\\resnet50_weights_tf_dim_ordering_tf_kernels_notop.h5\n",
      "-----------------------------------------------\n",
      " Load model with init parm:  E:\\Models\\newshape_fcn\\\\mask_rcnn_shapes_0589.h5\n",
      "-----------------------------------------------\n",
      "Loading weights from  E:\\Models\\newshape_fcn\\\\mask_rcnn_shapes_0589.h5\n",
      ">>> load_weights()\n",
      "    load_weights: Loading weights from: E:\\Models\\newshape_fcn\\\\mask_rcnn_shapes_0589.h5\n",
      "    load_weights: Log directory set to : E:\\Models\\newshape_fcn\\\\mask_rcnn_shapes_0589.h5\n",
      "    set_log_dir: Checkpoint path set to : E:\\models\\newshape_fcn\\shapes20180618T1702\\mask_rcnn_shapes_{epoch:04d}.h5\n",
      "    set_log_dir: self.epoch set to 0 \n",
      "    Load weights complete :  E:\\Models\\newshape_fcn\\\\mask_rcnn_shapes_0589.h5\n",
      "Load weights complete E:\\Models\\newshape_fcn\\\\mask_rcnn_shapes_0589.h5\n",
      "\n",
      "Configuration Parameters:\n",
      "-------------------------\n",
      "BACKBONE_SHAPES                [[32 32]\n",
      " [16 16]\n",
      " [ 8  8]\n",
      " [ 4  4]\n",
      " [ 2  2]]\n",
      "BACKBONE_STRIDES               [4, 8, 16, 32, 64]\n",
      "BATCH_SIZE                     1\n",
      "BBOX_STD_DEV                   [0.1 0.1 0.2 0.2]\n",
      "DETECTION_MAX_INSTANCES        100\n",
      "DETECTION_MIN_CONFIDENCE       0.7\n",
      "DETECTION_NMS_THRESHOLD        0.3\n",
      "EPOCHS_TO_RUN                  0\n",
      "FCN_INPUT_SHAPE                [128 128]\n",
      "GPU_COUNT                      1\n",
      "IMAGES_PER_GPU                 1\n",
      "IMAGE_MAX_DIM                  128\n",
      "IMAGE_MIN_DIM                  128\n",
      "IMAGE_PADDING                  True\n",
      "IMAGE_SHAPE                    [128 128   3]\n",
      "LAST_EPOCH_RAN                 0\n",
      "LEARNING_MOMENTUM              0.9\n",
      "LEARNING_RATE                  0.001\n",
      "MASK_POOL_SIZE                 14\n",
      "MASK_SHAPE                     [28, 28]\n",
      "MAX_GT_INSTANCES               100\n",
      "MEAN_PIXEL                     [123.7 116.8 103.9]\n",
      "MINI_MASK_SHAPE                (56, 56)\n",
      "NAME                           shapes\n",
      "NUM_CLASSES                    7\n",
      "POOL_SIZE                      7\n",
      "POST_NMS_ROIS_INFERENCE        1000\n",
      "POST_NMS_ROIS_TRAINING         2000\n",
      "ROI_POSITIVE_RATIO             0.33\n",
      "ROI_PROPOSAL_AREA_THRESHOLD    0\n",
      "RPN_ANCHOR_RATIOS              [0.5, 1, 2]\n",
      "RPN_ANCHOR_SCALES              (8, 16, 32, 64, 128)\n",
      "RPN_ANCHOR_STRIDE              1\n",
      "RPN_BBOX_STD_DEV               [0.1 0.1 0.2 0.2]\n",
      "RPN_NMS_THRESHOLD              0.7\n",
      "RPN_TRAIN_ANCHORS_PER_IMAGE    256\n",
      "SHAPES_PER_IMAGE               7\n",
      "STEPS_PER_EPOCH                4\n",
      "TRAIN_ROIS_PER_IMAGE           32\n",
      "USE_MINI_MASK                  True\n",
      "USE_RPN_ROIS                   True\n",
      "VALIDATION_STEPS               5\n",
      "WEIGHT_DECAY                   0.0001\n",
      "\n",
      "\n"
     ]
    }
   ],
   "source": [
    "from IPython.core.display import display, HTML\n",
    "display(HTML(\"<style>.container { width:95% !important; }</style>\"))\n",
    "%matplotlib inline\n",
    "%load_ext autoreload\n",
    "%autoreload 2\n",
    "import sys\n",
    "sys.path.append('../')\n",
    "import tensorflow as tf\n",
    "import keras.backend as KB\n",
    "import numpy as np\n",
    "from mrcnn.datagen     import data_generator, load_image_gt\n",
    "from mrcnn.callbacks   import get_layer_output_1,get_layer_output_2\n",
    "from mrcnn.utils       import mask_string\n",
    "import mrcnn.visualize as visualize\n",
    "from mrcnn.prep_notebook import prep_newshapes_test\n",
    "import pprint\n",
    "pp = pprint.PrettyPrinter(indent=2, width=100)\n",
    "\n",
    "\n",
    "model_file  = 'E:\\\\Models\\\\newshape_fcn\\\\\\mask_rcnn_shapes_0589.h5'\n",
    "folder_name = 'newshape_fcn'\n",
    "model, dataset_test, test_generator, inference_config = prep_newshapes_test(init_with = model_file, FCN_layers = True, batch_sz = 1, folder_name = folder_name)"
   ]
  },
  {
   "cell_type": "code",
   "execution_count": 16,
   "metadata": {
    "ExecuteTime": {
     "end_time": "2018-06-18T15:04:35.839862Z",
     "start_time": "2018-06-18T15:04:35.602279Z"
    }
   },
   "outputs": [],
   "source": [
    "from matplotlib import pyplot as plt\n",
    "def get_ax(rows=1, cols=1, size=8):\n",
    "    \"\"\"Return a Matplotlib Axes array to be used in\n",
    "    all visualizations in the notebook. Provide a\n",
    "    central point to control graph sizes.\n",
    "    \n",
    "    Change the default size attribute to control the size\n",
    "    of rendered images\n",
    "    \"\"\"\n",
    "    _, ax = plt.subplots(rows, cols, figsize=(size*cols, size*rows))\n",
    "    return ax"
   ]
  },
  {
   "cell_type": "markdown",
   "metadata": {},
   "source": [
    "## Detection"
   ]
  },
  {
   "cell_type": "markdown",
   "metadata": {},
   "source": [
    "### Test on a random image"
   ]
  },
  {
   "cell_type": "code",
   "execution_count": 47,
   "metadata": {
    "ExecuteTime": {
     "end_time": "2018-06-18T15:59:13.839068Z",
     "start_time": "2018-06-18T15:59:13.436119Z"
    }
   },
   "outputs": [
    {
     "name": "stdout",
     "output_type": "stream",
     "text": [
      "Image Id : 2179\n",
      "{ 'bg_color': array([ 51, 228,  89]),\n",
      "  'height': 128,\n",
      "  'id': 2179,\n",
      "  'path': None,\n",
      "  'shapes': [ ('sun', (89, 75, 191), (62, 20, 8, 8)),\n",
      "              ('cloud', (234, 189, 178), (71, 28, 31, 10)),\n",
      "              ('building', (39, 197, 213), (24, 42, 10, 10)),\n",
      "              ('building', (215, 254, 250), (88, 43, 10, 10)),\n",
      "              ('building', (66, 68, 151), (46, 76, 17, 25))],\n",
      "  'source': 'shapes',\n",
      "  'width': 128}\n",
      "\n",
      " shape list --------------------------\n",
      "[ ('sun', (89, 75, 191), (62, 20, 8, 8)),\n",
      "  ('cloud', (234, 189, 178), (71, 28, 31, 10)),\n",
      "  ('building', (39, 197, 213), (24, 42, 10, 10)),\n",
      "  ('building', (215, 254, 250), (88, 43, 10, 10)),\n",
      "  ('building', (66, 68, 151), (46, 76, 17, 25))]\n",
      "original_image           shape: (128, 128, 3)         min:   39.00000  max:  254.00000\n",
      "image_meta               shape: (15,)                 min:    0.00000  max: 2179.00000\n",
      "[2179  128  128    3    0    0  128  128    1    1    1    1    1    1    1]\n",
      "gt_class_id              shape: (5, 4)                min:   12.00000  max:  103.00000\n",
      "gt_bbox                  shape: (5, 4)                min:   12.00000  max:  103.00000\n",
      "gt_mask                  shape: (128, 128, 5)         min:    0.00000  max:    1.00000\n",
      "(5, 4) (5,)\n",
      " 1: person   2: car  3: sun  4: building  5: tree  6: cloud \n",
      "(128, 128, 3)\n"
     ]
    },
    {
     "data": {
      "image/png": "[encoded data removed]",
      "text/plain": [
       "<matplotlib.figure.Figure at 0x1dcd1ff6080>"
      ]
     },
     "metadata": {},
     "output_type": "display_data"
    }
   ],
   "source": [
    "# Test on a random image\n",
    "# Validation dataset\n",
    "# dataset_val = shapes.ShapesDataset()\n",
    "# dataset_val.load_shapes(50, config.IMAGE_SHAPE[0], config.IMAGE_SHAPE[1])\n",
    "# dataset_val.prepare()\n",
    "import random\n",
    "from mrcnn.utils import log\n",
    "\n",
    "# image_id = random.choice(dataset_test.image_ids)\n",
    "original_image, image_meta, gt_class_id, gt_bbox, gt_mask =\\\n",
    "    load_image_gt(dataset_test, inference_config, image_id, use_mini_mask=False)\n",
    "    \n",
    "\n",
    "print('Image Id :', image_id)    \n",
    "pp.pprint(dataset_test.image_info[image_id])\n",
    "\n",
    "shape_list = dataset_test.image_info[image_id]['shapes']\n",
    "print('\\n shape list --------------------------')\n",
    "pp.pprint(shape_list)\n",
    "log(\"original_image\", original_image)\n",
    "log(\"image_meta\", image_meta)\n",
    "print(image_meta)\n",
    "log(\"gt_class_id\", gt_bbox)\n",
    "log(\"gt_bbox\", gt_bbox)\n",
    "log(\"gt_mask\", gt_mask)\n",
    "print(gt_bbox.shape, gt_class_id.shape)\n",
    "print(\" 1: person   2: car  3: sun  4: building  5: tree  6: cloud \")\n",
    "visualize.display_instances(original_image, gt_bbox,   gt_class_id, \n",
    "                            dataset_test.class_names, figsize=(8, 8))"
   ]
  },
  {
   "cell_type": "code",
   "execution_count": 40,
   "metadata": {
    "ExecuteTime": {
     "end_time": "2018-06-18T15:36:28.782856Z",
     "start_time": "2018-06-18T15:36:28.056684Z"
    },
    "scrolled": true
   },
   "outputs": [
    {
     "name": "stdout",
     "output_type": "stream",
     "text": [
      "Processing 1 images\n",
      "image                    shape: (128, 128, 3)         min:   13.00000  max:  254.00000\n",
      "molded_images            shape: (1, 128, 128, 3)      min:  -96.70000  max:  146.10000\n",
      "image_metas              shape: (1, 15)               min:    0.00000  max:  128.00000\n",
      "    Wrapper for Detection Layer : call()  <class 'list'> 4\n",
      "     rpn_proposals_roi  : (1, ?, ?) (1, 1000, 4) <class 'numpy.ndarray'>\n",
      "     mrcnn_class.shape  : (?, 1000, 7) (1, 1000, 7) <class 'numpy.ndarray'>\n",
      "     mrcnn_bboxes.shape : (?, 1000, 7, 4) (1, 1000, 7, 4) <class 'numpy.ndarray'>\n",
      "     image_meta         : (?, ?) (1, 15) <class 'numpy.ndarray'>\n"
     ]
    }
   ],
   "source": [
    "results = model.detect([original_image], verbose=1)"
   ]
  },
  {
   "cell_type": "code",
   "execution_count": 41,
   "metadata": {
    "ExecuteTime": {
     "end_time": "2018-06-18T15:36:34.481622Z",
     "start_time": "2018-06-18T15:36:34.222288Z"
    }
   },
   "outputs": [
    {
     "name": "stdout",
     "output_type": "stream",
     "text": [
      "[{'class_ids': array([4, 6, 4, 4, 3, 3, 5]), 'scores': array([1.    , 1.    , 1.    , 1.    , 0.9999, 0.9994, 0.9947], dtype=float32), 'rois': array([[ 33,  78,  54,  99],\n",
      "       [ 18,  39,  38, 104],\n",
      "       [ 51,  29, 102,  64],\n",
      "       [ 32,  15,  53,  35],\n",
      "       [  5,  80,  16,  91],\n",
      "       [ 12,  55,  19,  70],\n",
      "       [ 95,  55, 128, 100]])}]\n"
     ]
    }
   ],
   "source": [
    "print(results)"
   ]
  },
  {
   "cell_type": "code",
   "execution_count": 42,
   "metadata": {
    "ExecuteTime": {
     "end_time": "2018-06-18T15:36:42.246814Z",
     "start_time": "2018-06-18T15:36:41.849879Z"
    },
    "scrolled": false
   },
   "outputs": [
    {
     "name": "stdout",
     "output_type": "stream",
     "text": [
      "  class ids  :  [4 6 4 4 3 3 5] <class 'numpy.ndarray'>\n",
      "  class names:  ['BG', 'person', 'car', 'sun', 'building', 'tree', 'cloud']\n",
      "  scores     :  [1.     1.     1.     1.     0.9999 0.9994 0.9947] <class 'numpy.ndarray'>\n",
      "(128, 128, 3)\n"
     ]
    },
    {
     "data": {
      "image/png": "[encoded data removed]",
      "text/plain": [
       "<matplotlib.figure.Figure at 0x1dcd1935da0>"
      ]
     },
     "metadata": {},
     "output_type": "display_data"
    }
   ],
   "source": [
    "r = results[0]\n",
    "\n",
    "print('  class ids  : ', r['class_ids'], type(r['class_ids']))\n",
    "print('  class names: ', dataset_test.class_names)\n",
    "print('  scores     : ', r['scores'], type(r['scores']))\n",
    "visualize.display_instances(original_image, r['rois'], r['class_ids'], \n",
    "                            dataset_test.class_names, r['scores'], ax=get_ax())"
   ]
  },
  {
   "cell_type": "code",
   "execution_count": 38,
   "metadata": {
    "ExecuteTime": {
     "end_time": "2018-06-18T15:36:03.561239Z",
     "start_time": "2018-06-18T15:36:03.292954Z"
    },
    "hideCode": false,
    "hideOutput": true,
    "scrolled": true
   },
   "outputs": [],
   "source": [
    "color = tuple([random.randint(0, 255) for _ in range(3)])\n",
    "dims  = (78,120,20,20)\n",
    "shape = \"sun\"\n",
    "# color, dims =dataset_test.random_shape(\"sun\", 128,128)\n",
    "# print(color, dims)\n",
    "dataset_test.image_info[image_id]['shapes'].append((shape, color, dims))"
   ]
  },
  {
   "cell_type": "code",
   "execution_count": 46,
   "metadata": {
    "ExecuteTime": {
     "end_time": "2018-06-18T15:59:02.789602Z",
     "start_time": "2018-06-18T15:59:02.540306Z"
    }
   },
   "outputs": [
    {
     "name": "stdout",
     "output_type": "stream",
     "text": [
      "{ 'bg_color': array([ 51, 228,  89]),\n",
      "  'height': 128,\n",
      "  'id': 2179,\n",
      "  'path': None,\n",
      "  'shapes': [ ('sun', (89, 75, 191), (62, 20, 8, 8)),\n",
      "              ('cloud', (234, 189, 178), (71, 28, 31, 10)),\n",
      "              ('building', (39, 197, 213), (24, 42, 10, 10)),\n",
      "              ('building', (215, 254, 250), (88, 43, 10, 10)),\n",
      "              ('building', (66, 68, 151), (46, 76, 17, 25))],\n",
      "  'source': 'shapes',\n",
      "  'width': 128}\n"
     ]
    }
   ],
   "source": [
    "dataset_test.image_info[image_id]['shapes'].pop()\n",
    "pp.pprint(dataset_test.image_info[image_id])"
   ]
  },
  {
   "cell_type": "markdown",
   "metadata": {},
   "source": [
    "## Evaluation"
   ]
  },
  {
   "cell_type": "code",
   "execution_count": null,
   "metadata": {
    "ExecuteTime": {
     "end_time": "2018-05-10T11:57:47.846606Z",
     "start_time": "2018-05-10T11:57:22.672337Z"
    },
    "scrolled": true
   },
   "outputs": [],
   "source": [
    "# Compute VOC-Style mAP @ IoU=0.5\n",
    "# Running on 10 images. Increase for better accuracy.\n",
    "from mrcnn.datagen     import data_generator, load_image_gt\n",
    "import  mrcnn.utils as utils \n",
    "\n",
    "image_ids = np.random.choice(dataset_test.image_ids, 100)\n",
    "APs = []\n",
    "for image_id in image_ids:\n",
    "    # Load image and ground truth data\n",
    "    image, image_meta, gt_class_id, gt_bbox, gt_mask =\\\n",
    "        load_image_gt(dataset_test, inference_config,\n",
    "                               image_id, use_mini_mask=False)\n",
    "    molded_images = np.expand_dims(utils.mold_image(image, inference_config), 0)\n",
    "    # Run object detection\n",
    "    results = model.detect([image], verbose=0)\n",
    "    r = results[0]\n",
    "    # Compute AP\n",
    "    AP, precisions, recalls, overlaps =\\\n",
    "        utils.compute_ap(gt_bbox, gt_class_id,\n",
    "                         r[\"rois\"], r[\"class_ids\"], r[\"scores\"])\n",
    "    APs.append(AP)\n",
    "    \n",
    "print(\"mAP: \", np.mean(APs))"
   ]
  },
  {
   "cell_type": "markdown",
   "metadata": {},
   "source": [
    "### Get next shapes from generator and display loaded shapes"
   ]
  },
  {
   "cell_type": "markdown",
   "metadata": {},
   "source": [
    "## Save "
   ]
  },
  {
   "cell_type": "code",
   "execution_count": null,
   "metadata": {},
   "outputs": [],
   "source": [
    "# Save weights\n",
    "# Typically not needed because callbacks save after every epoch\n",
    "# Uncomment to save manually\n",
    "model_path = os.path.join(MODEL_DIR, \"mask_rcnn_shapes.h5\")\n",
    "model.keras_model.save_weights(model_path)"
   ]
  },
  {
   "cell_type": "markdown",
   "metadata": {},
   "source": [
    "## Notebook Preferences"
   ]
  },
  {
   "cell_type": "code",
   "execution_count": null,
   "metadata": {},
   "outputs": [],
   "source": [
    "def get_ax(rows=1, cols=1, size=8):\n",
    "    \"\"\"Return a Matplotlib Axes array to be used in\n",
    "    all visualizations in the notebook. Provide a\n",
    "    central point to control graph sizes.\n",
    "    \n",
    "    Change the default size attribute to control the size\n",
    "    of rendered images\n",
    "    \"\"\"\n",
    "    _, ax = plt.subplots(rows, cols, figsize=(size*cols, size*rows))\n",
    "    return ax"
   ]
  },
  {
   "cell_type": "markdown",
   "metadata": {},
   "source": [
    "## Configurations"
   ]
  },
  {
   "cell_type": "code",
   "execution_count": null,
   "metadata": {},
   "outputs": [],
   "source": [
    "# from keras import backend as KB\n",
    "# if 'tensorflow' == KB.backend():\n",
    "#     import tensorflow as tf\n",
    "#     from keras.backend.tensorflow_backend import set_session\n",
    "#     # tfconfig = tf.ConfigProto(\n",
    "#         # gpu_options = tf.GPUOptions(per_process_gpu_memory_fraction=0.5),\n",
    "#         # device_count = {'GPU': 1}\n",
    "#     # )    \n",
    "#     tfconfig = tf.ConfigProto()\n",
    "#     tfconfig.gpu_options.allow_growth=True\n",
    "#     tfconfig.gpu_options.visible_device_list = \"0\"\n",
    "#     tfconfig.gpu_options.per_process_gpu_memory_fraction=0.5\n",
    "#     tf_sess = tf.Session(config=tfconfig)\n",
    "#     set_session(tf_sess)"
   ]
  },
  {
   "cell_type": "markdown",
   "metadata": {},
   "source": [
    "###  Simulation of `detect()` routine"
   ]
  },
  {
   "cell_type": "code",
   "execution_count": null,
   "metadata": {
    "ExecuteTime": {
     "end_time": "2018-05-09T21:08:38.958455Z",
     "start_time": "2018-05-09T21:08:38.670424Z"
    }
   },
   "outputs": [],
   "source": [
    "# print('>>> model detect()')\n",
    "verbose = 1\n",
    "images  = [original_image]\n",
    "assert model.mode   == \"inference\", \"Create model in inference mode.\"\n",
    "assert len(images) == model.config.BATCH_SIZE, \"len(images) must be equal to BATCH_SIZE\"\n",
    "\n",
    "if verbose:\n",
    "    log(\"Processing {} images\".format(len(images)))\n",
    "    for image in images:\n",
    "        log(\"image\", image)\n",
    "\n",
    "# Mold inputs to format expected by the neural network\n",
    "molded_images, image_metas, windows = model.mold_inputs(images)\n",
    "if verbose:\n",
    "    log(\"molded_images\", molded_images)\n",
    "    log(\"image_metas\"  , image_metas)\n",
    "\n",
    "## Run object detection pipeline\n",
    "# print('    call predict()')\n",
    "detections, rpn_rois, rpn_class, rpn_bbox,\\\n",
    "            mrcnn_class, mrcnn_bbox, mrcnn_mask \\\n",
    "                      =  model.keras_model.predict([molded_images, image_metas], verbose=0)\n",
    "\n",
    "print('    return from  predict()')\n",
    "print('    Length of detections : ', len(detections))\n",
    "print('    Length of rpn_rois   : ', len(rpn_rois   ))\n",
    "print('    Length of rpn_class  : ', len(rpn_class  ))\n",
    "print('    Length of rpn_bbox   : ', len(rpn_bbox   ))\n",
    "print('    Length of mrcnn_class: ', len(mrcnn_class))\n",
    "print('    Length of mrcnn_bbox : ', len(mrcnn_bbox ))\n",
    "print('    Length of mrcnn_mask : ', len(mrcnn_mask ))\n",
    "\n",
    "####  detection array layout is `[ y1, x1, y2, x2, class, score]`\n",
    "\n",
    "detections[0].shape\n",
    "print(detections[0])\n",
    "\n",
    "## Process detections\n",
    "results = []\n",
    "for i, image in enumerate(images):\n",
    "    final_rois, final_class_ids, final_scores, final_masks =\\\n",
    "        model.unmold_detections(detections[i], \n",
    "                               mrcnn_mask[i],\n",
    "                               image.shape  ,\n",
    "                               windows[i])\n",
    "    results.append({\n",
    "        \"rois\"     : final_rois,\n",
    "        \"class_ids\": final_class_ids,\n",
    "        \"scores\"   : final_scores,\n",
    "        \"masks\"    : final_masks,\n",
    "    })"
   ]
  }
 ],
 "metadata": {
  "anaconda-cloud": {},
  "kernelspec": {
   "display_name": "Python [conda env:TF_gpu]",
   "language": "python",
   "name": "conda-env-TF_gpu-py"
  },
  "language_info": {
   "codemirror_mode": {
    "name": "ipython",
    "version": 3
   },
   "file_extension": ".py",
   "mimetype": "text/x-python",
   "name": "python",
   "nbconvert_exporter": "python",
   "pygments_lexer": "ipython3",
   "version": "3.5.4"
  }
 },
 "nbformat": 4,
 "nbformat_minor": 2
}
