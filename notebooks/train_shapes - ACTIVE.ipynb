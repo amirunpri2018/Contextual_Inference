{
 "cells": [
  {
   "cell_type": "markdown",
   "metadata": {
    "hideCode": false,
    "hidePrompt": false
   },
   "source": [
    "# Mask R-CNN - Train on Shapes Dataset\n",
    "\n",
    "### Notes from implementation\n",
    "\n",
    "This notebook shows how to train Mask R-CNN on your own dataset. To keep things simple we use a synthetic dataset of shapes (squares, triangles, and circles) which enables fast training. You'd still need a GPU, though, because the network backbone is a Resnet101, which would be too slow to train on a CPU. On a GPU, you can start to get okay-ish results in a few minutes, and good results in less than an hour.\n",
    "\n",
    "The code of the *Shapes* dataset is included below. It generates images on the fly, so it doesn't require downloading any data. And it can generate images of any size, so we pick a small image size to train faster. \n"
   ]
  },
  {
   "cell_type": "code",
   "execution_count": 9,
   "metadata": {
    "ExecuteTime": {
     "end_time": "2018-04-22T16:10:51.545878Z",
     "start_time": "2018-04-22T16:10:50.962357Z"
    },
    "hideCode": false,
    "hidePrompt": false
   },
   "outputs": [
    {
     "data": {
      "text/html": [
       "<style>.container { width:90% !important; }</style>"
      ],
      "text/plain": [
       "<IPython.core.display.HTML object>"
      ]
     },
     "metadata": {},
     "output_type": "display_data"
    },
    {
     "name": "stdout",
     "output_type": "stream",
     "text": [
      "The autoreload extension is already loaded. To reload it, use:\n",
      "  %reload_ext autoreload\n",
      "Tensorflow Version: 1.6.0   Keras Version : 2.1.3 \n",
      "\n",
      "Configurations:\n",
      "BACKBONE_SHAPES                [[32 32]\n",
      " [16 16]\n",
      " [ 8  8]\n",
      " [ 4  4]\n",
      " [ 2  2]]\n",
      "BACKBONE_STRIDES               [4, 8, 16, 32, 64]\n",
      "BATCH_SIZE                     5\n",
      "BBOX_STD_DEV                   [0.1 0.1 0.2 0.2]\n",
      "DETECTION_MAX_INSTANCES        100\n",
      "DETECTION_MIN_CONFIDENCE       0.7\n",
      "DETECTION_NMS_THRESHOLD        0.3\n",
      "FCN_INPUT_SHAPE                [128 128]\n",
      "GPU_COUNT                      1\n",
      "IMAGES_PER_GPU                 5\n",
      "IMAGE_MAX_DIM                  128\n",
      "IMAGE_MIN_DIM                  128\n",
      "IMAGE_PADDING                  True\n",
      "IMAGE_SHAPE                    [128 128   3]\n",
      "LEARNING_MOMENTUM              0.9\n",
      "LEARNING_RATE                  0.001\n",
      "MASK_POOL_SIZE                 14\n",
      "MASK_SHAPE                     [28, 28]\n",
      "MAX_GT_INSTANCES               100\n",
      "MEAN_PIXEL                     [123.7 116.8 103.9]\n",
      "MINI_MASK_SHAPE                (56, 56)\n",
      "NAME                           shapes\n",
      "NUM_CLASSES                    4\n",
      "POOL_SIZE                      7\n",
      "POST_NMS_ROIS_INFERENCE        1000\n",
      "POST_NMS_ROIS_TRAINING         2000\n",
      "ROI_POSITIVE_RATIO             0.33\n",
      "RPN_ANCHOR_RATIOS              [0.5, 1, 2]\n",
      "RPN_ANCHOR_SCALES              (8, 16, 32, 64, 128)\n",
      "RPN_ANCHOR_STRIDE              1\n",
      "RPN_BBOX_STD_DEV               [0.1 0.1 0.2 0.2]\n",
      "RPN_NMS_THRESHOLD              0.7\n",
      "RPN_TRAIN_ANCHORS_PER_IMAGE    256\n",
      "STEPS_PER_EPOCH                2\n",
      "TRAIN_ROIS_PER_IMAGE           32\n",
      "USE_MINI_MASK                  True\n",
      "USE_RPN_ROIS                   True\n",
      "VALIDATION_STEPS               5\n",
      "WEIGHT_DECAY                   0.0001\n",
      "\n",
      "\n",
      " COCO Model Path       :  E:\\Models\\mask_rcnn_coco.h5\n",
      " Checkpoint folder Path:  E:\\Models\\mrcnn_logs\n"
     ]
    }
   ],
   "source": [
    "from IPython.core.display import display, HTML\n",
    "display(HTML(\"<style>.container { width:90% !important; }</style>\"))\n",
    "\n",
    "%matplotlib inline\n",
    "%load_ext autoreload\n",
    "%autoreload 2\n",
    "import os\n",
    "import sys\n",
    "import random\n",
    "import math\n",
    "import re\n",
    "import  gc\n",
    "import time\n",
    "import numpy as np\n",
    "import cv2\n",
    "import matplotlib\n",
    "import matplotlib.pyplot as plt\n",
    "import tensorflow as tf\n",
    "import keras\n",
    "import pprint\n",
    "import keras.backend as KB\n",
    "sys.path.append('../')\n",
    "\n",
    "import mrcnn.model     as modellib\n",
    "import mrcnn.visualize as visualize\n",
    "import mrcnn.shapes    as shapes\n",
    "from mrcnn.config      import Config\n",
    "from mrcnn.model       import log\n",
    "from mrcnn.dataset     import Dataset \n",
    "\n",
    "from mrcnn.utils       import stack_tensors, stack_tensors_3d\n",
    "from mrcnn.datagen     import data_generator, load_image_gt\n",
    "from mrcnn.callbacks   import get_layer_output_1,get_layer_output_2\n",
    "from mrcnn.visualize   import plot_gaussian\n",
    "# from mrcnn.pc_layer    import PCTensor\n",
    "# from mrcnn.pc_layer   import PCNLayer\n",
    "\n",
    "# Root directory of the project\n",
    "ROOT_DIR = os.getcwd()\n",
    "MODEL_PATH = 'E:\\Models'\n",
    "# Directory to save logs and trained model\n",
    "MODEL_DIR = os.path.join(MODEL_PATH, \"mrcnn_logs\")\n",
    "# Path to COCO trained weights\n",
    "COCO_MODEL_PATH   = os.path.join(MODEL_PATH, \"mask_rcnn_coco.h5\")\n",
    "RESNET_MODEL_PATH = os.path.join(MODEL_PATH, \"resnet50_weights_tf_dim_ordering_tf_kernels_notop.h5\")\n",
    "\n",
    "print(\"Tensorflow Version: {}   Keras Version : {} \".format(tf.__version__,keras.__version__))\n",
    "pp = pprint.PrettyPrinter(indent=2, width=100)\n",
    "np.set_printoptions(linewidth=100,precision=4)\n",
    "\n",
    "\n",
    "# Build configuration object -----------------------------------------------\n",
    "config = shapes.ShapesConfig()\n",
    "config.BATCH_SIZE      = 5                  # Batch size is 2 (# GPUs * images/GPU).\n",
    "config.IMAGES_PER_GPU  = 5                  # Must match BATCH_SIZE\n",
    "config.STEPS_PER_EPOCH = 2\n",
    "config.FCN_INPUT_SHAPE = config.IMAGE_SHAPE[0:2]\n",
    "config.display() \n",
    "\n",
    "# Build shape dataset        -----------------------------------------------\n",
    "# Training dataset\n",
    "# generate 500 shapes \n",
    "dataset_train = shapes.ShapesDataset()\n",
    "dataset_train.load_shapes(500, config.IMAGE_SHAPE[0], config.IMAGE_SHAPE[1])\n",
    "dataset_train.prepare()\n",
    "\n",
    "# Validation dataset\n",
    "dataset_val = shapes.ShapesDataset()\n",
    "dataset_val.load_shapes(50, config.IMAGE_SHAPE[0], config.IMAGE_SHAPE[1])\n",
    "dataset_val.prepare()\n",
    "\n",
    "try :\n",
    "    del model, train_generator, val_generator, mm\n",
    "    gc.collect()\n",
    "except: \n",
    "    pass\n",
    "# Load and display random samples\n",
    "# image_ids = np.random.choice(dataset_train.image_ids, 3)\n",
    "# for image_id in [3]:\n",
    "#     image = dataset_train.load_image(image_id)\n",
    "#     mask, class_ids = dataset_train.load_mask(image_id)\n",
    "#     visualize.display_top_masks(image, mask, class_ids, dataset_train.class_names)\n",
    "print(' COCO Model Path       : ', COCO_MODEL_PATH)\n",
    "print(' Checkpoint folder Path: ', MODEL_DIR)"
   ]
  },
  {
   "cell_type": "markdown",
   "metadata": {
    "hideCode": false,
    "hidePrompt": false
   },
   "source": [
    "# Create Model"
   ]
  },
  {
   "cell_type": "code",
   "execution_count": 26,
   "metadata": {
    "ExecuteTime": {
     "end_time": "2018-04-22T16:24:10.297022Z",
     "start_time": "2018-04-22T16:23:34.745199Z"
    },
    "hideCode": false,
    "hideOutput": true,
    "hidePrompt": false,
    "scrolled": false
   },
   "outputs": [
    {
     "name": "stdout",
     "output_type": "stream",
     "text": [
      ">>> Set_log_dir() -- model dir is  E:\\Models\\mrcnn_logs\n",
      "    set_log_dir: Checkpoint path set to : E:\\Models\\mrcnn_logs\\shapes20180422T1823\\mask_rcnn_shapes_{epoch:04d}.h5\n",
      "\n",
      ">>> Resnet Graph \n",
      "     Input_image shape : (?, 128, 128, 3)\n",
      "     After ZeroPadding2D  : (?, 134, 134, 3) (?, 134, 134, 3)\n",
      " @@@@@@ Input_shape  :  (None, 134, 134, 3)         Input_dim  :  3\n",
      "        Kernel shape :  (7, 7, 3, 64)\n",
      "     After Conv2D padding : (?, 64, 64, 64) (?, 64, 64, 64)\n",
      "     After BatchNorm      : (?, 64, 64, 64) (?, 64, 64, 64)\n",
      "     After MaxPooling2D   : (?, 32, 32, 64) (?, 32, 32, 64)\n",
      " @@@@@@ Input_shape  :  (None, 32, 32, 64)         Input_dim  :  64\n",
      "        Kernel shape :  (1, 1, 64, 64)\n",
      " @@@@@@ Input_shape  :  (None, 32, 32, 64)         Input_dim  :  64\n",
      "        Kernel shape :  (3, 3, 64, 64)\n",
      " @@@@@@ Input_shape  :  (None, 32, 32, 64)         Input_dim  :  64\n",
      "        Kernel shape :  (1, 1, 64, 256)\n",
      " @@@@@@ Input_shape  :  (None, 32, 32, 64)         Input_dim  :  64\n",
      "        Kernel shape :  (1, 1, 64, 256)\n",
      " @@@@@@ Input_shape  :  (None, 32, 32, 256)         Input_dim  :  256\n",
      "        Kernel shape :  (1, 1, 256, 64)\n",
      " @@@@@@ Input_shape  :  (None, 32, 32, 64)         Input_dim  :  64\n",
      "        Kernel shape :  (3, 3, 64, 64)\n",
      " @@@@@@ Input_shape  :  (None, 32, 32, 64)         Input_dim  :  64\n",
      "        Kernel shape :  (1, 1, 64, 256)\n",
      " @@@@@@ Input_shape  :  (None, 32, 32, 256)         Input_dim  :  256\n",
      "        Kernel shape :  (1, 1, 256, 64)\n",
      " @@@@@@ Input_shape  :  (None, 32, 32, 64)         Input_dim  :  64\n",
      "        Kernel shape :  (3, 3, 64, 64)\n",
      " @@@@@@ Input_shape  :  (None, 32, 32, 64)         Input_dim  :  64\n",
      "        Kernel shape :  (1, 1, 64, 256)\n",
      " @@@@@@ Input_shape  :  (None, 32, 32, 256)         Input_dim  :  256\n",
      "        Kernel shape :  (1, 1, 256, 128)\n",
      " @@@@@@ Input_shape  :  (None, 16, 16, 128)         Input_dim  :  128\n",
      "        Kernel shape :  (3, 3, 128, 128)\n",
      " @@@@@@ Input_shape  :  (None, 16, 16, 128)         Input_dim  :  128\n",
      "        Kernel shape :  (1, 1, 128, 512)\n",
      " @@@@@@ Input_shape  :  (None, 32, 32, 256)         Input_dim  :  256\n",
      "        Kernel shape :  (1, 1, 256, 512)\n",
      " @@@@@@ Input_shape  :  (None, 16, 16, 512)         Input_dim  :  512\n",
      "        Kernel shape :  (1, 1, 512, 128)\n",
      " @@@@@@ Input_shape  :  (None, 16, 16, 128)         Input_dim  :  128\n",
      "        Kernel shape :  (3, 3, 128, 128)\n",
      " @@@@@@ Input_shape  :  (None, 16, 16, 128)         Input_dim  :  128\n",
      "        Kernel shape :  (1, 1, 128, 512)\n",
      " @@@@@@ Input_shape  :  (None, 16, 16, 512)         Input_dim  :  512\n",
      "        Kernel shape :  (1, 1, 512, 128)\n",
      " @@@@@@ Input_shape  :  (None, 16, 16, 128)         Input_dim  :  128\n",
      "        Kernel shape :  (3, 3, 128, 128)\n",
      " @@@@@@ Input_shape  :  (None, 16, 16, 128)         Input_dim  :  128\n",
      "        Kernel shape :  (1, 1, 128, 512)\n",
      " @@@@@@ Input_shape  :  (None, 16, 16, 512)         Input_dim  :  512\n",
      "        Kernel shape :  (1, 1, 512, 128)\n",
      " @@@@@@ Input_shape  :  (None, 16, 16, 128)         Input_dim  :  128\n",
      "        Kernel shape :  (3, 3, 128, 128)\n",
      " @@@@@@ Input_shape  :  (None, 16, 16, 128)         Input_dim  :  128\n",
      "        Kernel shape :  (1, 1, 128, 512)\n",
      " @@@@@@ Input_shape  :  (None, 16, 16, 512)         Input_dim  :  512\n",
      "        Kernel shape :  (1, 1, 512, 256)\n",
      " @@@@@@ Input_shape  :  (None, 8, 8, 256)         Input_dim  :  256\n",
      "        Kernel shape :  (3, 3, 256, 256)\n",
      " @@@@@@ Input_shape  :  (None, 8, 8, 256)         Input_dim  :  256\n",
      "        Kernel shape :  (1, 1, 256, 1024)\n",
      " @@@@@@ Input_shape  :  (None, 16, 16, 512)         Input_dim  :  512\n",
      "        Kernel shape :  (1, 1, 512, 1024)\n",
      " @@@@@@ Input_shape  :  (None, 8, 8, 1024)         Input_dim  :  1024\n",
      "        Kernel shape :  (1, 1, 1024, 256)\n",
      " @@@@@@ Input_shape  :  (None, 8, 8, 256)         Input_dim  :  256\n",
      "        Kernel shape :  (3, 3, 256, 256)\n",
      " @@@@@@ Input_shape  :  (None, 8, 8, 256)         Input_dim  :  256\n",
      "        Kernel shape :  (1, 1, 256, 1024)\n",
      " @@@@@@ Input_shape  :  (None, 8, 8, 1024)         Input_dim  :  1024\n",
      "        Kernel shape :  (1, 1, 1024, 256)\n",
      " @@@@@@ Input_shape  :  (None, 8, 8, 256)         Input_dim  :  256\n",
      "        Kernel shape :  (3, 3, 256, 256)\n",
      " @@@@@@ Input_shape  :  (None, 8, 8, 256)         Input_dim  :  256\n",
      "        Kernel shape :  (1, 1, 256, 1024)\n",
      " @@@@@@ Input_shape  :  (None, 8, 8, 1024)         Input_dim  :  1024\n",
      "        Kernel shape :  (1, 1, 1024, 256)\n",
      " @@@@@@ Input_shape  :  (None, 8, 8, 256)         Input_dim  :  256\n",
      "        Kernel shape :  (3, 3, 256, 256)\n",
      " @@@@@@ Input_shape  :  (None, 8, 8, 256)         Input_dim  :  256\n",
      "        Kernel shape :  (1, 1, 256, 1024)\n",
      " @@@@@@ Input_shape  :  (None, 8, 8, 1024)         Input_dim  :  1024\n",
      "        Kernel shape :  (1, 1, 1024, 256)\n",
      " @@@@@@ Input_shape  :  (None, 8, 8, 256)         Input_dim  :  256\n",
      "        Kernel shape :  (3, 3, 256, 256)\n",
      " @@@@@@ Input_shape  :  (None, 8, 8, 256)         Input_dim  :  256\n",
      "        Kernel shape :  (1, 1, 256, 1024)\n",
      " @@@@@@ Input_shape  :  (None, 8, 8, 1024)         Input_dim  :  1024\n",
      "        Kernel shape :  (1, 1, 1024, 256)\n",
      " @@@@@@ Input_shape  :  (None, 8, 8, 256)         Input_dim  :  256\n",
      "        Kernel shape :  (3, 3, 256, 256)\n",
      " @@@@@@ Input_shape  :  (None, 8, 8, 256)         Input_dim  :  256\n",
      "        Kernel shape :  (1, 1, 256, 1024)\n",
      " @@@@@@ Input_shape  :  (None, 8, 8, 1024)         Input_dim  :  1024\n",
      "        Kernel shape :  (1, 1, 1024, 512)\n",
      " @@@@@@ Input_shape  :  (None, 4, 4, 512)         Input_dim  :  512\n",
      "        Kernel shape :  (3, 3, 512, 512)\n",
      " @@@@@@ Input_shape  :  (None, 4, 4, 512)         Input_dim  :  512\n",
      "        Kernel shape :  (1, 1, 512, 2048)\n",
      " @@@@@@ Input_shape  :  (None, 8, 8, 1024)         Input_dim  :  1024\n",
      "        Kernel shape :  (1, 1, 1024, 2048)\n",
      " @@@@@@ Input_shape  :  (None, 4, 4, 2048)         Input_dim  :  2048\n",
      "        Kernel shape :  (1, 1, 2048, 512)\n",
      " @@@@@@ Input_shape  :  (None, 4, 4, 512)         Input_dim  :  512\n",
      "        Kernel shape :  (3, 3, 512, 512)\n",
      " @@@@@@ Input_shape  :  (None, 4, 4, 512)         Input_dim  :  512\n",
      "        Kernel shape :  (1, 1, 512, 2048)\n",
      " @@@@@@ Input_shape  :  (None, 4, 4, 2048)         Input_dim  :  2048\n",
      "        Kernel shape :  (1, 1, 2048, 512)\n",
      " @@@@@@ Input_shape  :  (None, 4, 4, 512)         Input_dim  :  512\n",
      "        Kernel shape :  (3, 3, 512, 512)\n",
      " @@@@@@ Input_shape  :  (None, 4, 4, 512)         Input_dim  :  512\n",
      "        Kernel shape :  (1, 1, 512, 2048)\n",
      " @@@@@@ Input_shape  :  (None, 4, 4, 2048)         Input_dim  :  2048\n",
      "        Kernel shape :  (1, 1, 2048, 256)\n",
      " @@@@@@ Input_shape  :  (None, 8, 8, 1024)         Input_dim  :  1024\n",
      "        Kernel shape :  (1, 1, 1024, 256)\n",
      " @@@@@@ Input_shape  :  (None, 16, 16, 512)         Input_dim  :  512\n",
      "        Kernel shape :  (1, 1, 512, 256)\n",
      " @@@@@@ Input_shape  :  (None, 32, 32, 256)         Input_dim  :  256\n",
      "        Kernel shape :  (1, 1, 256, 256)\n",
      " @@@@@@ Input_shape  :  (None, 32, 32, 256)         Input_dim  :  256\n",
      "        Kernel shape :  (3, 3, 256, 256)\n",
      " @@@@@@ Input_shape  :  (None, 16, 16, 256)         Input_dim  :  256\n",
      "        Kernel shape :  (3, 3, 256, 256)\n",
      " @@@@@@ Input_shape  :  (None, 8, 8, 256)         Input_dim  :  256\n",
      "        Kernel shape :  (3, 3, 256, 256)\n",
      " @@@@@@ Input_shape  :  (None, 4, 4, 256)         Input_dim  :  256\n",
      "        Kernel shape :  (3, 3, 256, 256)\n",
      "\n",
      ">>> Generate pyramid anchors \n",
      "      Anchor  scales:   (8, 16, 32, 64, 128)\n",
      "      Anchor  ratios:   [0.5, 1, 2]\n",
      "      Anchor  stride:   1\n",
      "      Feature shapes:   [[32 32]\n",
      " [16 16]\n",
      " [ 8  8]\n",
      " [ 4  4]\n",
      " [ 2  2]]\n",
      "      Feature strides:  [4, 8, 16, 32, 64]\n",
      "    Size of anchor array is : (4092, 4)\n",
      "\n",
      ">>> RPN Layer \n",
      "     Input_feature_map shape : (?, ?, ?, 256)\n",
      "     anchors_per_location    : 3\n",
      "     depth                   : 256\n",
      " @@@@@@ Input_shape  :  (None, None, None, 256)         Input_dim  :  256\n",
      "        Kernel shape :  (3, 3, 256, 512)\n",
      " @@@@@@ Input_shape  :  (None, None, None, 512)         Input_dim  :  512\n",
      "        Kernel shape :  (1, 1, 512, 6)\n",
      " @@@@@@ Input_shape  :  (None, None, None, 512)         Input_dim  :  512\n",
      "        Kernel shape :  (1, 1, 512, 12)\n",
      "     Input_feature_map shape : (?, ?, ?, 256)\n",
      "     anchors_per_location    : 3\n",
      "     anchor_stride           : 1\n",
      "\n",
      ">>> RPN Outputs  <class 'list'>\n",
      "      rpn_class_logits_4/concat:0\n",
      "      rpn_class_4/concat:0\n",
      "      rpn_bbox_4/concat:0\n",
      "\n",
      ">>> Proposal Layer \n",
      "    Init complete. Size of anchors:  (4092, 4)\n"
     ]
    },
    {
     "name": "stdout",
     "output_type": "stream",
     "text": [
      "     Scores :  (5, 4092)\n",
      "     Deltas :  (5, 4092, 4)\n",
      "     Anchors:  (5, 4092, 4)\n",
      "     Boxes shape / type after processing:  (5, 4092, 4) <class 'tensorflow.python.framework.ops.Tensor'>\n",
      "\n",
      ">>> Detection Target Layer \n",
      ">>> Detection Target Layer : call  <class 'list'> 4\n",
      "     proposals.shape    : (5, ?, ?) <class 'tensorflow.python.framework.ops.Tensor'>\n",
      "     gt_class_ids.shape : (?, ?) <class 'tensorflow.python.framework.ops.Tensor'>\n",
      "     gt_bboxes.shape    : (?, ?, 4) <class 'tensorflow.python.framework.ops.Tensor'>\n",
      "     gt_masks.shape     : (?, 56, 56, ?) <class 'tensorflow.python.framework.ops.Tensor'>\n",
      ">>> Detection Target Layer : return call  <class 'list'> 4\n",
      "     output 0  shape (5, ?, ?)  type <class 'tensorflow.python.framework.ops.Tensor'> \n",
      "     output 1  shape (5, ?)  type <class 'tensorflow.python.framework.ops.Tensor'> \n",
      "     output 2  shape (5, ?, ?)  type <class 'tensorflow.python.framework.ops.Tensor'> \n",
      "     output 3  shape (5, ?, ?, ?)  type <class 'tensorflow.python.framework.ops.Tensor'> \n",
      "\n",
      ">>> FPN Classifier Graph \n",
      "     rois shape          : (5, ?, ?)\n",
      "     feature_maps : 4\n",
      "     feature_maps shape  : (?, 32, 32, 256)\n",
      "     feature_maps shape  : (?, 16, 16, 256)\n",
      "     feature_maps shape  : (?, 8, 8, 256)\n",
      "     feature_maps shape  : (?, 4, 4, 256)\n",
      "     input_shape         : [128 128   3]\n",
      "     pool_size           : 7\n",
      " @@@@@@ Input_shape  :  (None, 7, 7, 256)         Input_dim  :  256\n",
      "        Kernel shape :  (7, 7, 256, 1024)\n",
      " @@@@@@ Input_shape  :  (None, 1, 1, 1024)         Input_dim  :  1024\n",
      "        Kernel shape :  (1, 1, 1024, 1024)\n",
      " @@@@@@ Input_shape  :  (None, 14, 14, 256)         Input_dim  :  256\n",
      "        Kernel shape :  (3, 3, 256, 256)\n",
      " @@@@@@ Input_shape  :  (None, 14, 14, 256)         Input_dim  :  256\n",
      "        Kernel shape :  (3, 3, 256, 256)\n",
      " @@@@@@ Input_shape  :  (None, 14, 14, 256)         Input_dim  :  256\n",
      "        Kernel shape :  (3, 3, 256, 256)\n",
      " @@@@@@ Input_shape  :  (None, 14, 14, 256)         Input_dim  :  256\n",
      "        Kernel shape :  (3, 3, 256, 256)\n",
      " @@@@@@ Input_shape  :  (None, 28, 28, 256)         Input_dim  :  256\n",
      "        Kernel shape :  (1, 1, 256, 4)\n",
      "\n",
      ">>> PCN Layer \n",
      ">>> PCN Layer : call  <class 'list'> 5\n",
      "     mrcnn_class.shape    : (?, 32, 4) <class 'tensorflow.python.framework.ops.Tensor'>\n",
      "     mrcnn_bbox.shape     : (?, 32, 4, 4) <class 'tensorflow.python.framework.ops.Tensor'>\n",
      "     output_rois.shape    : (?, ?) <class 'tensorflow.python.framework.ops.Tensor'>\n",
      "\n",
      ">>> PCN Layer TF \n",
      ">>> PCN Layer TF: call  <class 'list'> 5\n",
      "     mrcnn_class.shape    : (?, 32, 4) <class 'tensorflow.python.framework.ops.Tensor'>\n",
      "     mrcnn_bbox.shape     : (?, 32, 4, 4) <class 'tensorflow.python.framework.ops.Tensor'>\n",
      "     output_rois.shape    : (5, ?, ?) <class 'tensorflow.python.framework.ops.Tensor'>\n",
      "     gt_class_ids.shape   : (?, ?) <class 'tensorflow.python.framework.ops.Tensor'>\n",
      "     gt_bboxes.shape      : (?, ?, 4) <class 'tensorflow.python.framework.ops.Tensor'>\n",
      "\n",
      "    *** build_predictions_tf\n",
      "    pred_array shape: (5, 32, 7)\n",
      "    pred_scatter shape is  (5, 4, 32, 7) Tensor(\"cntxt_layer_2_4/ScatterNd:0\", shape=(5, 4, 32, 7), dtype=float32)\n",
      "    sort inds shape :  (5, 4, 32)\n",
      "    class_grid   <class 'tensorflow.python.framework.ops.Tensor'> shape (5, 4, 32)\n",
      "    batch_grid   <class 'tensorflow.python.framework.ops.Tensor'> shape (5, 4, 32)\n",
      "    roi_grid shape (5, 4, 32) roi_grid_exp shape  (5, 4, 32, 1)\n",
      "    gather_inds  <class 'tensorflow.python.framework.ops.Tensor'> shape (5, 4, 32, 3)\n",
      "    pred_tensor (gathered)  :  (5, 4, 32, 7)\n",
      "    -- pred_tensor results (bboxes sorted by score) ----\n",
      "    final pred_tensor shape  :  (5, 4, 32, 8)\n",
      "    final pred_cls_cnt shape :  (5, 4)\n",
      "    complete\n",
      "\n",
      "    *** build_ground_truth_tf\n",
      "    gt_class_ids shape :  (?, ?)     notm_gt_bbox.shape  :  (?, ?, 4)\n",
      "    gt_classes_exp shape  (?, ?, 1)\n",
      "    pred_ scores shape  (?, ?)\n",
      "    bbox_idx shape     (5, 100, 1)\n",
      "    gt_array shape     (5, 100, 7)\n",
      "    bbox_grid  shape   (5, 100)\n",
      "    batch_grid shape   (5, 100)\n",
      "    scatter_ind shape  (5, 100, 3)\n",
      "    gt_scatter shape  (5, 4, 100, 7)\n",
      "    build gathering indexes to use in sorting -------\n",
      "    sort inds shape :  (5, 4, 100)\n",
      "    class_grid  shape  (5, 4, 100)\n",
      "    batch_grid  shape  (5, 4, 100)\n",
      "    bbox_grid   shape  (5, 4, 100)  bbox_grid_exp shape  (5, 4, 100, 1)\n",
      "    gather_inds shape  (5, 4, 100, 3)\n",
      "    gt_tensor (gathered)   :  (5, 4, 100, 8)\n",
      "    final gt_tensor shape  :  (5, 4, 100, 8)\n",
      "    final gt_cls_cnt shape :  (5, 4)\n",
      "    complete\n",
      "\n",
      "    *** build_gaussian_tf \n",
      "    in_tensor shape :  (5, 4, 32, 8)\n",
      "    modified in_tensor shape :  (5, 4, 32, 5)\n",
      "    num of bboxes per class is :  Tensor(\"cntxt_layer_2_4/ToInt32_1/x:0\", shape=(), dtype=int32)\n",
      "    after transpose  (128, 128, 5, 32, 2)\n",
      "    pt2_sum shape  (5, 4, 32)\n",
      "    dense shape  (?, 6)\n",
      "    Build Stacked output from dynamically partitioned lists --------------\n",
      "\n",
      "    >> input to MVN.PROB: pos_grid (meshgrid) shape:  (128, 128, 5, 32, 2)\n",
      "    << output probabilities shape: (128, 128, 5, 32)\n",
      "    Scatter out the probability distributions based on class --------------\n",
      "    gaussian_grid      :  (5, 32, 128, 128)\n",
      "    class shape        :  (5, ?)\n",
      "    roi_grid shape     :  (5, 32)\n",
      "    batch_grid shape   :  (5, 32)\n",
      "    scatter_classes    :  (5, 32, 3)\n",
      "    gaussian scattered :  (5, 4, 32, 128, 128)\n",
      "    Reduce sum based on class ---------------------------------------------\n",
      "    gaussian_sum shape :  (5, 128, 128, 4)\n",
      "    complete\n",
      "\n",
      "    *** build_gaussian_tf \n",
      "    in_tensor shape :  (5, 4, 100, 8)\n",
      "    modified in_tensor shape :  (5, 4, 100, 5)\n",
      "    num of bboxes per class is :  Tensor(\"cntxt_layer_2_4/ToInt32_4/x:0\", shape=(), dtype=int32)\n",
      "    after transpose  (128, 128, 5, 100, 2)\n",
      "    pt2_sum shape  (5, 4, 100)\n",
      "    dense shape  (?, 6)\n",
      "    Build Stacked output from dynamically partitioned lists --------------\n",
      "\n",
      "    >> input to MVN.PROB: pos_grid (meshgrid) shape:  (128, 128, 5, 100, 2)\n",
      "    << output probabilities shape: (128, 128, 5, 100)\n",
      "    Scatter out the probability distributions based on class --------------\n",
      "    gaussian_grid      :  (5, 100, 128, 128)\n",
      "    class shape        :  (5, ?)\n",
      "    roi_grid shape     :  (5, 100)\n",
      "    batch_grid shape   :  (5, 100)\n",
      "    scatter_classes    :  (5, 100, 3)\n",
      "    gaussian scattered :  (5, 4, 100, 128, 128)\n",
      "    Reduce sum based on class ---------------------------------------------\n",
      "    gaussian_sum shape :  (5, 128, 128, 4)\n",
      "    complete\n",
      "   Output build_gaussian_tf (ground truth)\n",
      "     gt_gaussian :  (5, 128, 128, 4)\n",
      "<<<  shape of gt_gaussian_2      (5, 128, 128, 4)\n",
      "<<<  shape of gt_tensor2         (5, 4, 100, 8)\n",
      "<<<  shape of gt_cls_cnt2        (5, 4)\n",
      "\n",
      ">>> FCN Layer \n",
      "     feature map shape is  (5, 128, 128, 4)\n",
      "     height : 128 width : 128 classes : 4\n",
      "     image_data_format     channels_last\n",
      " @@@@@@ Input_shape  :  (None, 128, 128, 4)         Input_dim  :  4\n",
      "        Kernel shape :  (3, 3, 4, 64)\n",
      "   FCN Block 11 shape is :  (5, 128, 128, 64)\n",
      " @@@@@@ Input_shape  :  (None, 128, 128, 64)         Input_dim  :  64\n",
      "        Kernel shape :  (3, 3, 64, 64)\n",
      "   FCN Block 12 shape is :  (5, 128, 128, 64)\n",
      "   FCN Block 13 shape is :  (5, 64, 64, 64)\n",
      " @@@@@@ Input_shape  :  (None, 64, 64, 64)         Input_dim  :  64\n",
      "        Kernel shape :  (3, 3, 64, 128)\n",
      "   FCN Block 21 shape is :  (5, 64, 64, 128)\n",
      " @@@@@@ Input_shape  :  (None, 64, 64, 128)         Input_dim  :  128\n",
      "        Kernel shape :  (3, 3, 128, 128)\n",
      "   FCN Block 22 shape is :  (5, 64, 64, 128)\n",
      "   FCN Block 23 (Max pooling) shape is :  (5, 32, 32, 128)\n",
      " @@@@@@ Input_shape  :  (None, 32, 32, 128)         Input_dim  :  128\n",
      "        Kernel shape :  (3, 3, 128, 256)\n",
      "   FCN Block 31 shape is :  (5, 32, 32, 256)\n",
      " @@@@@@ Input_shape  :  (None, 32, 32, 256)         Input_dim  :  256\n",
      "        Kernel shape :  (3, 3, 256, 256)\n",
      "   FCN Block 32 shape is :  (5, 32, 32, 256)\n",
      " @@@@@@ Input_shape  :  (None, 32, 32, 256)         Input_dim  :  256\n",
      "        Kernel shape :  (3, 3, 256, 256)\n",
      "   FCN Block 33 shape is :  (5, 32, 32, 256)\n",
      "   FCN Block 34 (Max pooling) shape is :  (5, 16, 16, 256)\n",
      " @@@@@@ Input_shape  :  (None, 16, 16, 256)         Input_dim  :  256\n",
      "        Kernel shape :  (7, 7, 256, 2048)\n",
      "   FCN fully connected 1 (fcn_fc1) shape is :  (5, 16, 16, 2048)\n",
      " @@@@@@ Input_shape  :  (None, 16, 16, 2048)         Input_dim  :  2048\n",
      "        Kernel shape :  (1, 1, 2048, 2048)\n",
      "   FCN fully connected 2 (fcn_fc2) shape is :  (5, 16, 16, 2048)\n",
      " @@@@@@ Input_shape  :  (None, 16, 16, 2048)         Input_dim  :  2048\n",
      "        Kernel shape :  (1, 1, 2048, 4)\n",
      "   FCN final conv2d (fcn_classify) shape is :  (None, 16, 16, 4)\n",
      "   h_factor :  8.0 w_factor :  8.0\n",
      "\n",
      ">>> BilinearUpSampling2D layer\n",
      "     data_format :  channels_last\n",
      "     size        :  (8.0, 8.0)\n",
      "     target_size :  None\n",
      "     input_spec  :  [InputSpec(ndim=4)]\n",
      "     call resize_images_bilinear with size:  (8.0, 8.0)\n",
      "     CHANNELS LAST: X:  (5, 16, 16, 4)  KB.int_shape() :  (None, 16, 16, 4)\n",
      "     target_height   :  None  target_width  :  None\n"
     ]
    },
    {
     "name": "stdout",
     "output_type": "stream",
     "text": [
      "     new_shape (2):  (2,) [16 16]\n",
      "     new_shape (3):  (2,) [128 128]\n",
      "     X after image.resize_bilinear:  (5, ?, ?, 4)\n",
      "     Dimensions of X after set_shape() :  (5, 128, 128, 4)\n",
      "    BilinearUpSampling2D. compute_output_shape()\n",
      "   FCN output (fcn_bilinear) shape is :  (5, 128, 128, 4)\n",
      ">>> rpn_bbox_loss_graph\n",
      "    rpn_match size : (?, ?)\n",
      "    rpn_bbox  size : (?, ?, 4)\n",
      "    tf default session:  <tensorflow.python.client.session.InteractiveSession object at 0x00000144961223C8>\n",
      ">>> rpn_bbox_loss_graph\n",
      "    rpn_match size : (?, ?)\n",
      "    rpn_bbox  size : (?, ?, 4)\n",
      "    tf default session:  <tensorflow.python.client.session.InteractiveSession object at 0x00000144961223C8>\n",
      ">>> mrcnn_class_loss_graph \n",
      "    target_class_ids  size : (5, ?)\n",
      "    pred_class_logits size : (?, 32, 4)\n",
      "    active_class_ids  size : (?, ?)\n",
      ">>> mrcnn_class_loss_graph \n",
      "    target_class_ids  size : (?, 1)\n",
      "    pred_class_logits size : (?, 32, 4)\n",
      "    active_class_ids  size : (?, ?)\n",
      ">>> mrcnn_bbox_loss_graph \n",
      "    target_class_ids  size : (5, ?)\n",
      "    pred_bbox size         : (?, 32, 4, 4)\n",
      "    target_bbox size       : (5, ?, ?)\n",
      ">>> mrcnn_bbox_loss_graph \n",
      "    target_class_ids  size : (?, 1)\n",
      "    pred_bbox size         : (?, 32, 4, 4)\n",
      "    target_bbox size       : (?, 32, 4)\n",
      ">>> mrcnn_mask_loss_graph \n",
      "    target_class_ids size : (5, ?)\n",
      "    target_masks     size : (5, ?, ?, ?)\n",
      "    pred_masks       size : (?, 32, 28, 28, 4)\n",
      ">>> mrcnn_mask_loss_graph \n",
      "    target_class_ids size : (?, 1)\n",
      "    target_masks     size : (?, 32, 28, 28)\n",
      "    pred_masks       size : (?, 32, 28, 28, 4)\n",
      ">>> MaskRCNN build complete\n",
      ">>> MaskRCNN initialization complete\n",
      ">>> find_last checkpoint file() \n",
      "    find_last info:   dir_name: E:\\Models\\mrcnn_logs\\shapes20180313T1856\n",
      "    find_last info: checkpoint: E:\\Models\\mrcnn_logs\\shapes20180313T1856\\mask_rcnn_shapes_0242.h5\n",
      ">>> load_weights()\n",
      "    load_weights: Loading weights from: E:\\Models\\mrcnn_logs\\shapes20180313T1856\\mask_rcnn_shapes_0242.h5\n",
      "    load_weights: Log directory set to : E:\\Models\\mrcnn_logs\\shapes20180313T1856\\mask_rcnn_shapes_0242.h5\n",
      ">>> Set_log_dir() -- model dir is  E:\\Models\\mrcnn_logs\n",
      "    set_log_dir: model_path (input) is : E:/Models/mrcnn_logs/shapes20180313T1856/mask_rcnn_shapes_0242.h5  \n",
      "    set_log_dir: self.epoch set to 243  (Next epoch to run)\n",
      "    set_log_dir: tensorboard path: E:\\Models\\mrcnn_logs\\tensorboard\n",
      "    set_log_dir: Checkpoint path set to : E:\\Models\\mrcnn_logs\\shapes20180313T1856\\mask_rcnn_shapes_{epoch:04d}.h5\n",
      ">>> Load weights complete\n",
      "Compile with learing rate; 0.001 Learning Moementum: 0.9 \n",
      "Checkpoint Folder:  E:\\Models\\mrcnn_logs\\shapes20180313T1856\\mask_rcnn_shapes_{epoch:04d}.h5 \n",
      "\n",
      "Selecting layers to train\n",
      "Layer    Layer Name               Layer Type\n",
      "174  fpn_c5p5               (Conv2D)\n",
      "176  fpn_c4p4               (Conv2D)\n",
      "179  fpn_c3p3               (Conv2D)\n",
      "182  fpn_c2p2               (Conv2D)\n",
      "184  fpn_p5                 (Conv2D)\n",
      "185  fpn_p2                 (Conv2D)\n",
      "186  fpn_p3                 (Conv2D)\n",
      "187  fpn_p4                 (Conv2D)\n",
      "In model:  rpn_model\n",
      "      1  rpn_conv_shared        (Conv2D)\n",
      "      2  rpn_class_raw          (Conv2D)\n",
      "      4  rpn_bbox_pred          (Conv2D)\n",
      "199  mrcnn_class_conv1      (TimeDistributed)\n",
      "200  mrcnn_class_bn1        (TimeDistributed)\n",
      "202  mrcnn_class_conv2      (TimeDistributed)\n",
      "203  mrcnn_class_bn2        (TimeDistributed)\n",
      "206  mrcnn_class_logits     (TimeDistributed)\n",
      "207  mrcnn_bbox_fc          (TimeDistributed)\n",
      "214  mrcnn_mask_conv1       (TimeDistributed)\n",
      "216  mrcnn_mask_bn1         (TimeDistributed)\n",
      "220  mrcnn_mask_conv2       (TimeDistributed)\n",
      "222  mrcnn_mask_bn2         (TimeDistributed)\n",
      "226  mrcnn_mask_conv3       (TimeDistributed)\n",
      "228  mrcnn_mask_bn3         (TimeDistributed)\n",
      "232  mrcnn_mask_conv4       (TimeDistributed)\n",
      "234  mrcnn_mask_bn4         (TimeDistributed)\n",
      "238  mrcnn_mask_deconv      (TimeDistributed)\n",
      "242  mrcnn_mask             (TimeDistributed)\n"
     ]
    }
   ],
   "source": [
    "try :\n",
    "    del model\n",
    "    gc.collect()\n",
    "except: \n",
    "    pass\n",
    "\n",
    "model = modellib.MaskRCNN(mode=\"training\", config=config, model_dir=MODEL_DIR)\n",
    "#model.keras_model.summary(line_length = 120) \n",
    "\n",
    "# Which weights to start with?\n",
    "init_with = \"last\"  # imagenet, coco, or last\n",
    "if init_with == \"coco\":\n",
    "    # Load weights trained on MS COCO, but skip layers that are different due to the different number of classes\n",
    "    # See README for instructions to download the COCO weights\n",
    "    loc=model.load_weights(COCO_MODEL_PATH, by_name=True,\n",
    "                       exclude=[\"mrcnn_class_logits\", \"mrcnn_bbox_fc\", \n",
    "                                \"mrcnn_bbox\", \"mrcnn_mask\"])\n",
    "elif init_with == \"last\":\n",
    "    # Load the last model you trained and continue training\n",
    "    loc= model.load_weights(model.find_last()[1], by_name=True)\n",
    "\n",
    "model.compile_only(learning_rate=config.LEARNING_RATE, layers='heads')\n",
    "KB.set_learning_phase(1)"
   ]
  },
  {
   "cell_type": "markdown",
   "metadata": {
    "hideCode": false,
    "hideOutput": false,
    "hidePrompt": false
   },
   "source": [
    "###  Print some model information "
   ]
  },
  {
   "cell_type": "code",
   "execution_count": null,
   "metadata": {
    "ExecuteTime": {
     "end_time": "2018-04-22T15:26:00.539031Z",
     "start_time": "2018-04-22T15:26:00.268230Z"
    },
    "hideCode": false,
    "hidePrompt": false,
    "scrolled": false
   },
   "outputs": [],
   "source": [
    "# print('\\n Learning phase values is L ' ,KB.learning_phase())\n",
    "# print('\\n Metrics (_get_deduped_metrics_names():) ') \n",
    "# pp.pprint(model.keras_model._get_deduped_metrics_names())\n",
    "# print('\\n Outputs: ') \n",
    "# pp.pprint(model.keras_model.outputs)\n",
    "# print('\\n Losses (model.metrics_names): ') \n",
    "# pp.pprint(model.keras_model.metrics_names)\n",
    "\n",
    "model.keras_model.summary(line_length = 150) "
   ]
  },
  {
   "cell_type": "markdown",
   "metadata": {
    "hideCode": false,
    "hidePrompt": false
   },
   "source": [
    "### Define Data Generator"
   ]
  },
  {
   "cell_type": "code",
   "execution_count": 12,
   "metadata": {
    "ExecuteTime": {
     "end_time": "2018-04-22T16:11:43.219434Z",
     "start_time": "2018-04-22T16:11:42.986502Z"
    },
    "hideCode": false,
    "hidePrompt": false,
    "scrolled": true
   },
   "outputs": [],
   "source": [
    "train_generator = data_generator(dataset_train, model.config, shuffle=True,\n",
    "                                 batch_size=model.config.BATCH_SIZE,\n",
    "                                 augment = False)\n",
    "val_generator = data_generator(dataset_val, model.config, shuffle=True, \n",
    "                                batch_size=model.config.BATCH_SIZE,\n",
    "                                augment=False)"
   ]
  },
  {
   "cell_type": "markdown",
   "metadata": {
    "hideCode": false,
    "hidePrompt": false
   },
   "source": [
    "### Get next shapes from generator and display loaded shapes"
   ]
  },
  {
   "cell_type": "code",
   "execution_count": 13,
   "metadata": {
    "ExecuteTime": {
     "end_time": "2018-04-22T16:11:45.526519Z",
     "start_time": "2018-04-22T16:11:45.274353Z"
    },
    "hideCode": false,
    "hidePrompt": false,
    "scrolled": false
   },
   "outputs": [
    {
     "name": "stdout",
     "output_type": "stream",
     "text": [
      "\n",
      ">>> Generate pyramid anchors \n",
      "      Anchor  scales:   (8, 16, 32, 64, 128)\n",
      "      Anchor  ratios:   [0.5, 1, 2]\n",
      "      Anchor  stride:   1\n",
      "      Feature shapes:   [[32 32]\n",
      " [16 16]\n",
      " [ 8  8]\n",
      " [ 4  4]\n",
      " [ 2  2]]\n",
      "      Feature strides:  [4, 8, 16, 32, 64]\n",
      "    Size of anchor array is : (4092, 4)\n"
     ]
    }
   ],
   "source": [
    "train_batch_x, train_batch_y = next(train_generator)"
   ]
  },
  {
   "cell_type": "markdown",
   "metadata": {
    "hideCode": false,
    "hidePrompt": false
   },
   "source": [
    "### Display loaded shapes"
   ]
  },
  {
   "cell_type": "code",
   "execution_count": 27,
   "metadata": {
    "ExecuteTime": {
     "end_time": "2018-04-22T16:24:11.832838Z",
     "start_time": "2018-04-22T16:24:10.298439Z"
    },
    "hideCode": false,
    "hideOutput": true,
    "hidePrompt": false,
    "scrolled": false
   },
   "outputs": [
    {
     "name": "stdout",
     "output_type": "stream",
     "text": [
      "Image id:  95\n",
      "Image meta [ 95 128 128   3   0   0 128 128   1   1   1   1]\n",
      "Classes (1: circle, 2: square, 3: triangle ):  [3]\n"
     ]
    },
    {
     "data": {
      "image/png": "[encoded data removed]",
      "text/plain": [
       "<matplotlib.figure.Figure at 0x1448ad00860>"
      ]
     },
     "metadata": {},
     "output_type": "display_data"
    },
    {
     "name": "stdout",
     "output_type": "stream",
     "text": [
      "Image id:  433\n",
      "Image meta [433 128 128   3   0   0 128 128   1   1   1   1]\n",
      "Classes (1: circle, 2: square, 3: triangle ):  [1]\n"
     ]
    },
    {
     "data": {
      "image/png": "[encoded data removed]",
      "text/plain": [
       "<matplotlib.figure.Figure at 0x1448e34c630>"
      ]
     },
     "metadata": {},
     "output_type": "display_data"
    },
    {
     "name": "stdout",
     "output_type": "stream",
     "text": [
      "Image id:  326\n",
      "Image meta [326 128 128   3   0   0 128 128   1   1   1   1]\n",
      "Classes (1: circle, 2: square, 3: triangle ):  [2 3 1]\n"
     ]
    },
    {
     "data": {
      "image/png": "[encoded data removed]",
      "text/plain": [
       "<matplotlib.figure.Figure at 0x1448e459a20>"
      ]
     },
     "metadata": {},
     "output_type": "display_data"
    },
    {
     "name": "stdout",
     "output_type": "stream",
     "text": [
      "Image id:  472\n",
      "Image meta [472 128 128   3   0   0 128 128   1   1   1   1]\n",
      "Classes (1: circle, 2: square, 3: triangle ):  [2 2 1 1]\n"
     ]
    },
    {
     "data": {
      "image/png": "[encoded data removed]",
      "text/plain": [
       "<matplotlib.figure.Figure at 0x14498333940>"
      ]
     },
     "metadata": {},
     "output_type": "display_data"
    },
    {
     "name": "stdout",
     "output_type": "stream",
     "text": [
      "Image id:  338\n",
      "Image meta [338 128 128   3   0   0 128 128   1   1   1   1]\n",
      "Classes (1: circle, 2: square, 3: triangle ):  [3 3 3]\n"
     ]
    },
    {
     "data": {
      "image/png": "[encoded data removed]",
      "text/plain": [
       "<matplotlib.figure.Figure at 0x14498375518>"
      ]
     },
     "metadata": {},
     "output_type": "display_data"
    }
   ],
   "source": [
    "# train_batch_x, train_batch_y = next(train_generator)\n",
    "imgmeta_idx = model.keras_model.input_names.index('input_image_meta')\n",
    "img_meta    = train_batch_x[imgmeta_idx]\n",
    "\n",
    "for img_idx in range(config.BATCH_SIZE):\n",
    "    image_id = img_meta[img_idx,0]\n",
    "    image = dataset_train.load_image(image_id)\n",
    "    mask, class_ids = dataset_train.load_mask(image_id)\n",
    "    print('Image id: ',image_id)\n",
    "    print('Image meta', img_meta[img_idx])\n",
    "    print('Classes (1: circle, 2: square, 3: triangle ): ',class_ids)\n",
    "    visualize.display_top_masks(image, mask, class_ids, dataset_train.class_names)\n",
    "\n"
   ]
  },
  {
   "cell_type": "markdown",
   "metadata": {
    "hideCode": false,
    "hidePrompt": false
   },
   "source": [
    "### Push Data thru model using get_layer_output()"
   ]
  },
  {
   "cell_type": "code",
   "execution_count": 29,
   "metadata": {
    "ExecuteTime": {
     "end_time": "2018-04-22T16:26:28.403222Z",
     "start_time": "2018-04-22T16:26:24.376833Z"
    },
    "hideCode": false,
    "hidePrompt": false,
    "scrolled": true
   },
   "outputs": [
    {
     "name": "stdout",
     "output_type": "stream",
     "text": [
      "/* Inputs */\n",
      "Input 0:  (input_image             ) \t  Input shape: (5, 128, 128, 3)\n",
      "Input 1:  (input_image_meta        ) \t  Input shape: (5, 12)\n",
      "Input 2:  (input_rpn_match         ) \t  Input shape: (5, 4092, 1)\n",
      "Input 3:  (input_rpn_bbox          ) \t  Input shape: (5, 256, 4)\n",
      "Input 4:  (input_gt_class_ids      ) \t  Input shape: (5, 100)\n",
      "Input 5:  (input_gt_boxes          ) \t  Input shape: (5, 100, 4)\n",
      "Input 6:  (input_gt_masks          ) \t  Input shape: (5, 56, 56, 100)\n",
      "   input_tensor shape is  (5, 4, 32, 8)\n",
      "   num of bboxes per class is :  32\n",
      "   gauss_sum shape            :  (5, 4, 128, 128)\n",
      "   input_tensor shape is  (5, 4, 100, 8)\n",
      "   num of bboxes per class is :  100\n",
      "   gauss_sum shape            :  (5, 4, 128, 128)\n",
      "\n",
      "/* Outputs */\n",
      "Output 0: (output_rois             ) \t  Output shape: (5, 32, 4)\n",
      "Output 1: (proposal_targets        ) \t  Output shape: (5, 32)\n",
      "Output 2: (proposal_targets        ) \t  Output shape: (5, 32, 4)\n",
      "Output 3: (proposal_targets        ) \t  Output shape: (5, 32, 28, 28)\n",
      "Output 4: (rpn_class_logits        ) \t  Output shape: (5, 4092, 2)\n",
      "Output 5: (proposal_rois           ) \t  Output shape: (5, 2000, 4)\n",
      "Output 6: (rpn_class               ) \t  Output shape: (5, 4092, 2)\n",
      "Output 7: (rpn_bbox                ) \t  Output shape: (5, 4092, 4)\n",
      "Output 8: (mrcnn_class_logits      ) \t  Output shape: (5, 32, 4)\n",
      "Output 9: (mrcnn_class             ) \t  Output shape: (5, 32, 4)\n",
      "Output 10: (mrcnn_bbox              ) \t  Output shape: (5, 32, 4, 4)\n",
      "Output 11: (mrcnn_mask              ) \t  Output shape: (5, 32, 28, 28, 4)\n",
      "Output 12: (fcn_bilinear            ) \t  Output shape: (5, 128, 128, 4)\n",
      "Output 13: (rpn_class_loss          ) \t  Output shape: ()\n",
      "Output 14: (rpn_bbox_loss           ) \t  Output shape: ()\n",
      "Output 15: (mrcnn_class_loss        ) \t  Output shape: (1, 1)\n",
      "Output 16: (mrcnn_bbox_loss         ) \t  Output shape: (1, 1)\n",
      "Output 17: (mrcnn_mask_loss         ) \t  Output shape: (1, 1)\n",
      "Output 18: (cntxt_layer             ) \t  Output shape: (5, 128, 128, 4)\n",
      "Output 19: (cntxt_layer             ) \t  Output shape: (5, 4, 32, 8)\n",
      "Output 20: (cntxt_layer             ) \t  Output shape: (5, 4)\n",
      "Output 21: (cntxt_layer             ) \t  Output shape: (5, 128, 128, 4)\n",
      "Output 22: (cntxt_layer             ) \t  Output shape: (5, 4, 100, 8)\n",
      "Output 23: (cntxt_layer             ) \t  Output shape: (5, 4)\n",
      "Output 24: (cntxt_layer_2           ) \t  Output shape: (5, 128, 128, 4)\n",
      "Output 25: (cntxt_layer_2           ) \t  Output shape: (5, 4, 32, 8)\n",
      "Output 26: (cntxt_layer_2           ) \t  Output shape: (5, 4)\n",
      "Output 27: (cntxt_layer_2           ) \t  Output shape: (5, 128, 128, 4)\n",
      "Output 28: (cntxt_layer_2           ) \t  Output shape: (5, 4, 100, 8)\n",
      "Output 29: (cntxt_layer_2           ) \t  Output shape: (5, 4)\n"
     ]
    }
   ],
   "source": [
    "\n",
    "layers_out = get_layer_output_2(model.keras_model, train_batch_x, 1)\n"
   ]
  },
  {
   "cell_type": "markdown",
   "metadata": {
    "hideCode": false,
    "hidePrompt": false
   },
   "source": [
    "## Fine Tuning\n",
    "Fine tune all layers"
   ]
  },
  {
   "cell_type": "code",
   "execution_count": null,
   "metadata": {
    "hideCode": false,
    "hidePrompt": false,
    "scrolled": false
   },
   "outputs": [],
   "source": [
    "# Fine tune all layers\n",
    "# Passing layers=\"all\" trains all layers. You can also \n",
    "# pass a regular expression to select which layers to\n",
    "# train by name pattern.\n",
    "model.train(dataset_train, dataset_val, \n",
    "            learning_rate=config.LEARNING_RATE / 10,\n",
    "            epochs=211,\n",
    "            layers=\"all\")"
   ]
  },
  {
   "cell_type": "markdown",
   "metadata": {
    "hideCode": false,
    "hidePrompt": false
   },
   "source": [
    "## Save "
   ]
  },
  {
   "cell_type": "code",
   "execution_count": null,
   "metadata": {
    "hideCode": false,
    "hidePrompt": false
   },
   "outputs": [],
   "source": [
    "# Save weights\n",
    "# Typically not needed because callbacks save after every epoch\n",
    "# Uncomment to save manually\n",
    "model_path = os.path.join(MODEL_DIR, \"mask_rcnn_shapes.h5\")\n",
    "model.keras_model.save_weights(model_path)"
   ]
  },
  {
   "cell_type": "markdown",
   "metadata": {
    "hideCode": false,
    "hidePrompt": false
   },
   "source": [
    "### Create Model"
   ]
  },
  {
   "cell_type": "code",
   "execution_count": null,
   "metadata": {
    "ExecuteTime": {
     "end_time": "2018-04-14T22:48:21.160813Z",
     "start_time": "2018-04-14T22:48:04.860Z"
    },
    "hideCode": false,
    "hidePrompt": false,
    "scrolled": false
   },
   "outputs": [],
   "source": [
    "\n",
    "# del history\n",
    "try :\n",
    "    del model\n",
    "    gc.collect()\n",
    "except: \n",
    "    pass\n",
    "\n",
    "model = modellib.MaskRCNN(mode=\"training\", config=config, model_dir=MODEL_DIR)\n",
    "#model.keras_model.summary(line_length = 120)\n",
    "# print(model.find_last())\n",
    "\n",
    "# Which weights to start with?\n",
    "init_with = \"last\"  # imagenet, coco, or last\n",
    "if init_with == \"coco\":\n",
    "    # Load weights trained on MS COCO, but skip layers that are different due to the different number of classes\n",
    "    # See README for instructions to download the COCO weights\n",
    "    loc=model.load_weights(COCO_MODEL_PATH, by_name=True,\n",
    "                       exclude=[\"mrcnn_class_logits\", \"mrcnn_bbox_fc\", \n",
    "                                \"mrcnn_bbox\", \"mrcnn_mask\"])\n",
    "elif init_with == \"last\":\n",
    "    # Load the last model you trained and continue training\n",
    "    loc= model.load_weights(model.find_last()[1], by_name=True)\n"
   ]
  },
  {
   "cell_type": "markdown",
   "metadata": {
    "hideCode": false,
    "hidePrompt": false
   },
   "source": [
    "## Training\n",
    "\n",
    "Train in two stages:\n",
    "1. Only the heads. Here we're freezing all the backbone layers and training only the randomly initialized layers (i.e. the ones that we didn't use pre-trained weights from MS COCO). To train only the head layers, pass `layers='heads'` to the `train()` function.\n",
    "\n",
    "2. Fine-tune all layers. For this simple example it's not necessary, but we're including it to show the process. Simply pass `layers=\"all` to train all layers."
   ]
  },
  {
   "cell_type": "markdown",
   "metadata": {
    "hideCode": false,
    "hidePrompt": false
   },
   "source": [
    "## Training head using  Keras.model.fit_generator()"
   ]
  },
  {
   "cell_type": "code",
   "execution_count": null,
   "metadata": {
    "hideCode": false,
    "hidePrompt": false,
    "scrolled": false
   },
   "outputs": [],
   "source": [
    "# Train the head branches\n",
    "# Passing layers=\"heads\" freezes all layers except the head\n",
    "# layers. You can also pass a regular expression to select\n",
    "# which layers to train by name pattern.\n",
    "\n",
    "model.train(dataset_train, dataset_val, \n",
    "            learning_rate=config.LEARNING_RATE, \n",
    "            epochs_to_run =2, \n",
    "            layers='heads')"
   ]
  },
  {
   "cell_type": "markdown",
   "metadata": {
    "hideCode": false,
    "hidePrompt": false
   },
   "source": [
    "## - Training heads using train_in_batches ()\n",
    "\n",
    "We need to use this method for the time being as the fit generator does not have provide EASY access to the output in Keras call backs. By training in batches, we pass a batch through the network, pick up the generated RoI detections and bounding boxes and generate our semantic / gaussian tensors ...\n"
   ]
  },
  {
   "cell_type": "code",
   "execution_count": null,
   "metadata": {
    "hideCode": false,
    "hidePrompt": false
   },
   "outputs": [],
   "source": [
    "model.train_in_batches(dataset_train, dataset_val, \n",
    "            learning_rate=config.LEARNING_RATE, \n",
    "            epochs_to_run = 2,\n",
    "            layers='heads')"
   ]
  },
  {
   "cell_type": "markdown",
   "metadata": {
    "hideCode": false,
    "hidePrompt": false
   },
   "source": [
    "## Simulate one training iteration - 1"
   ]
  },
  {
   "cell_type": "code",
   "execution_count": null,
   "metadata": {
    "hideCode": false,
    "hidePrompt": false,
    "scrolled": false
   },
   "outputs": [],
   "source": [
    "from mrcnn.datagen import data_generator, load_image_gt\n",
    "np.set_printoptions(linewidth=100)\n",
    "learning_rate=model.config.LEARNING_RATE\n",
    "epochs_to_run = 2\n",
    "layers='heads'\n",
    "batch_size = 0\n",
    "steps_per_epoch = 0\n",
    "# assert self.mode == \"training\", \"Create model in training mode.\"\n",
    "# Pre-defined layer regular expressions\n",
    "layer_regex = {\n",
    "    # all layers but the backbone\n",
    "    \"heads\": r\"(mrcnn\\_.*)|(rpn\\_.*)|(fpn\\_.*)\",\n",
    "    # From a specific Resnet stage and up\n",
    "    \"3+\": r\"(res3.*)|(bn3.*)|(res4.*)|(bn4.*)|(res5.*)|(bn5.*)|(mrcnn\\_.*)|(rpn\\_.*)|(fpn\\_.*)\",\n",
    "    \"4+\": r\"(res4.*)|(bn4.*)|(res5.*)|(bn5.*)|(mrcnn\\_.*)|(rpn\\_.*)|(fpn\\_.*)\",\n",
    "    \"5+\": r\"(res5.*)|(bn5.*)|(mrcnn\\_.*)|(rpn\\_.*)|(fpn\\_.*)\",\n",
    "    # All layers\n",
    "    \"all\": \".*\",\n",
    "}\n",
    "\n",
    "if layers in layer_regex.keys():\n",
    "    layers = layer_regex[layers]\n",
    "if batch_size == 0 :\n",
    "    batch_size = model.config.BATCH_SIZE            \n",
    "if steps_per_epoch == 0:\n",
    "    steps_per_epoch = model.config.STEPS_PER_EPOCH\n",
    "\n",
    "# Data generators\n",
    "train_generator = data_generator(dataset_train, model.config, shuffle=True,\n",
    "                                 batch_size=batch_size)\n",
    "val_generator   = data_generator(dataset_val, model.config, shuffle=True,\n",
    "                                 batch_size=batch_size,\n",
    "                                 augment=False)\n",
    "\n",
    "# Train\n",
    "log(\"Last epoch completed : {} \".format(model.epoch))\n",
    "log(\"Starting from epoch {} for {} epochs. LR={}\".format(model.epoch, epochs_to_run, learning_rate))\n",
    "log(\"Steps per epoch:    {} \".format(steps_per_epoch))\n",
    "log(\"Batchsize      :    {} \".format(batch_size))\n",
    "log(\"Checkpoint Folder:  {} \".format(model.checkpoint_path))\n",
    "epochs = model.epoch + epochs_to_run\n",
    "\n",
    "from tensorflow.python.platform import gfile\n",
    "if not gfile.IsDirectory(model.log_dir):\n",
    "    log('Creating checkpoint folder')\n",
    "    gfile.MakeDirs(model.log_dir)\n",
    "else:\n",
    "    log('Checkpoint folder already exists')\n",
    "\n",
    "model.set_trainable(layers)            \n",
    "model.compile(learning_rate, model.config.LEARNING_MOMENTUM)        \n",
    "\n",
    "out_labels = model.keras_model._get_deduped_metrics_names()\n",
    "callback_metrics = out_labels + ['val_' + n for n in out_labels]\n",
    "\n",
    "progbar = keras.callbacks.ProgbarLogger(count_mode='steps')\n",
    "progbar.set_model(model.keras_model)\n",
    "progbar.set_params({\n",
    "    'epochs': epochs,\n",
    "    'steps': steps_per_epoch,\n",
    "    'verbose': 1,\n",
    "    'do_validation': False,\n",
    "    'metrics': callback_metrics,\n",
    "})\n",
    "\n",
    "progbar.set_model(model.keras_model) \n",
    "\n",
    "chkpoint = keras.callbacks.ModelCheckpoint(model.checkpoint_path, \n",
    "                                           monitor='loss', verbose=1, save_best_only = True, save_weights_only=True)\n",
    "chkpoint.set_model(model.keras_model)\n",
    "\n",
    "progbar.on_train_begin()\n",
    "epoch_idx = model.epoch"
   ]
  },
  {
   "cell_type": "markdown",
   "metadata": {
    "hideCode": false,
    "hidePrompt": false
   },
   "source": [
    "## Simulate one training iteration - 2"
   ]
  },
  {
   "cell_type": "code",
   "execution_count": null,
   "metadata": {
    "ExecuteTime": {
     "end_time": "2018-04-13T14:03:38.566464Z",
     "start_time": "2018-04-13T14:03:38.322749Z"
    },
    "hideCode": false,
    "hidePrompt": false
   },
   "outputs": [],
   "source": [
    "if epoch_idx >= epochs:\n",
    "    print('Final epoch {} has already completed - Training will not proceed'.format(epochs))\n",
    "\n",
    "# while epoch_idx < epochs :\n",
    "progbar.on_epoch_begin(epoch_idx)\n",
    "steps_index = 0\n",
    "# for steps_index in range(steps_per_epoch):\n",
    "\n",
    "batch_logs = {}\n",
    "print(' self.epoch {}   epochs {}  step {} '.format(model.epoch, epochs, steps_index))\n",
    "batch_logs['batch'] = steps_index\n",
    "batch_logs['size']  = batch_size\n",
    "progbar.on_batch_begin(steps_index, batch_logs)"
   ]
  },
  {
   "cell_type": "markdown",
   "metadata": {
    "hideCode": false,
    "hidePrompt": false
   },
   "source": [
    "## Simulate one training iteration - 3"
   ]
  },
  {
   "cell_type": "code",
   "execution_count": null,
   "metadata": {
    "hideCode": false,
    "hidePrompt": false
   },
   "outputs": [],
   "source": [
    "imgmeta_idx= model.keras_model.input_names.index('input_image_meta')\n",
    "img_meta  =  train_batch_x[imgmeta_idx]\n",
    "\n",
    "image_id = img_meta[0,0]\n",
    "print('Image id: ',image_id)\n",
    "image = dataset_train.load_image(image_id)\n",
    "mask, class_ids = dataset_train.load_mask(image_id)\n",
    "visualize.display_top_masks(image, mask, class_ids, dataset_train.class_names)\n",
    "\n",
    "image_id = img_meta[1,0]\n",
    "print('Image id: ',image_id)\n",
    "image = dataset_train.load_image(image_id)\n",
    "mask, class_ids = dataset_train.load_mask(image_id)\n",
    "visualize.display_top_masks(image, mask, class_ids, dataset_train.class_names)\n",
    "\n",
    "outs = model.keras_model.train_on_batch(train_batch_x, train_batch_y)"
   ]
  }
 ],
 "metadata": {
  "anaconda-cloud": {},
  "celltoolbar": "Hide code",
  "hide_code_all_hidden": false,
  "kernelspec": {
   "display_name": "Python [TF_gpu]",
   "language": "python",
   "name": "Python [TF_gpu]"
  },
  "language_info": {
   "codemirror_mode": {
    "name": "ipython",
    "version": 3
   },
   "file_extension": ".py",
   "mimetype": "text/x-python",
   "name": "python",
   "nbconvert_exporter": "python",
   "pygments_lexer": "ipython3",
   "version": "3.5.4"
  }
 },
 "nbformat": 4,
 "nbformat_minor": 2
}
