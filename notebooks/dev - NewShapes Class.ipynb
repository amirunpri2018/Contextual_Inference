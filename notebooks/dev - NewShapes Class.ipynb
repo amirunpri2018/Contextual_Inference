{
 "cells": [
  {
   "cell_type": "code",
   "execution_count": 1,
   "metadata": {
    "ExecuteTime": {
     "end_time": "2018-05-21T21:20:01.608974Z",
     "start_time": "2018-05-21T21:19:58.573165Z"
    }
   },
   "outputs": [
    {
     "data": {
      "text/html": [
       "<style>.container { width:90% !important; }</style>"
      ],
      "text/plain": [
       "<IPython.core.display.HTML object>"
      ]
     },
     "metadata": {},
     "output_type": "display_data"
    },
    {
     "name": "stderr",
     "output_type": "stream",
     "text": [
      "D:\\Program Files\\Anaconda3\\envs\\TF_gpu\\lib\\site-packages\\h5py\\__init__.py:36: FutureWarning: Conversion of the second argument of issubdtype from `float` to `np.floating` is deprecated. In future, it will be treated as `np.float64 == np.dtype(float).type`.\n",
      "  from ._conv import register_converters as _register_converters\n"
     ]
    }
   ],
   "source": [
    "from IPython.core.display import display, HTML\n",
    "display(HTML(\"<style>.container { width:90% !important; }</style>\"))\n",
    "\n",
    "%matplotlib inline\n",
    "%load_ext autoreload\n",
    "%autoreload 2\n",
    "import sys\n",
    "import math\n",
    "import random\n",
    "import numpy as np\n",
    "import cv2\n",
    "sys.path.append('../')\n",
    "from mrcnn.visualize  import display_images\n",
    "from mrcnn.dataset    import Dataset\n",
    "from mrcnn.shapes     import ShapesConfig\n",
    "from mrcnn.datagen    import load_image_gt\n",
    "from mrcnn.new_shapes import NewShapesConfig, NewShapesDataset\n",
    "import  mrcnn.visualize as visualize\n",
    "import  mrcnn.utils     as utils\n",
    "import pprint\n",
    "pp = pprint.PrettyPrinter(indent=2, width=100)\n",
    "\n",
    " "
   ]
  },
  {
   "cell_type": "markdown",
   "metadata": {},
   "source": [
    "###  Routines that accept shape type and dimensions as inputs"
   ]
  },
  {
   "cell_type": "code",
   "execution_count": null,
   "metadata": {
    "ExecuteTime": {
     "end_time": "2018-05-07T10:19:04.885565Z",
     "start_time": "2018-05-07T10:19:04.533628Z"
    },
    "hideCode": false,
    "hideOutput": true,
    "scrolled": true
   },
   "outputs": [],
   "source": [
    "    \n",
    "'''\n",
    "-------------------------------------------------------------------------------\n",
    "'''\n",
    "def semi_random_image(self, height, width):\n",
    "    '''\n",
    "    Creates random specifications of an image with multiple shapes.\n",
    "    Returns the background color of the image and a list of shape\n",
    "    specifications that can be used to draw the image.\n",
    "    '''\n",
    "    # Pick random background color\n",
    "    bg_color = np.array([random.randint(0, 255) for _ in range(3)])\n",
    "    # Generate a few random shapes and record their\n",
    "    # bounding boxes\n",
    "    shapes = []\n",
    "    boxes = []\n",
    "    N = random.randint(1, 4)\n",
    "\n",
    "    for _ in range(N):\n",
    "        shape, color, dims = self.random_shape(height, width)\n",
    "        shapes.append((shape, color, dims))\n",
    "        x, y, sx, sy = dims\n",
    "        boxes.append([y - sy, x - sx, y + sy, x + sx])\n",
    "\n",
    "    # Suppress occulsions more than 0.3 IoU    \n",
    "    # Apply non-max suppression with 0.3 threshold to avoid shapes covering each other\n",
    "    keep_ixs = utils.non_max_suppression(np.array(boxes), np.arange(N), 0.3)\n",
    "\n",
    "    shapes = [s for i, s in enumerate(shapes) if i in keep_ixs]\n",
    "\n",
    "    # print('Original number of shapes {}  # after NMS {}'.format(N, len(shapes)))\n",
    "    return bg_color, shapes\n",
    "\n",
    "def semi_random_shape(height, width, shape = None, x = 0, y = 0, sx = 0, sy = 0):\n",
    "    \"\"\"Generates specifications of a random shape that lies within\n",
    "    the given height and width boundaries.\n",
    "    Returns a tuple of three valus:\n",
    "    * The shape name (square, circle, ...)\n",
    "    * Shape color: a tuple of 3 values, RGB.\n",
    "    * Shape dimensions: A tuple of values that define the shape size\n",
    "                        and location. Differs per shape type.\n",
    "    \"\"\"\n",
    "    # Shape\n",
    "    if shape is None:\n",
    "        shape = random.choice([\"square\", \"circle\", \"triangle\", \"rectangle\"])\n",
    "    # Color\n",
    "    color = tuple([random.randint(0, 255) for _ in range(3)])\n",
    "    # Center x, y\n",
    "    buffer = 20\n",
    "    if y == 0:\n",
    "        y = random.randint(buffer, height - buffer - 1)\n",
    "    if x == 0: \n",
    "        x = random.randint(buffer, width - buffer - 1)\n",
    "    # Size\n",
    "    if sx == 0 :\n",
    "        sx = random.randint(buffer, width // 4)\n",
    "    if shape == \"rectangle\" and sy == 0 :\n",
    "        sy = random.randint(buffer, height // 4)\n",
    "    else:\n",
    "        sy = sx\n",
    "#     print(' Shape : {}     Cntr (x,y) : ({} , {})    Size_x: {} Size_y: {}'.format(shape,x,y,sx, sy))    \n",
    "    return shape, color, (x, y, sx, sy)\n",
    "\n",
    "def semi_draw_shape(image, shape, dims, color):\n",
    "    \"\"\"Draws a shape from the given specs.\"\"\"\n",
    "    # Get the center x, y and the size s\n",
    "    x, y, sx, sy = dims\n",
    "    print(' Shape : {}     Cntr (x,y) : ({} , {})    Size_x: {} Size_y: {}'.format(shape,x,y,sx, sy))    \n",
    "    if shape == 'square':\n",
    "        image = cv2.rectangle(image, (x - sx, y - sy), (x + sx, y + sy), color, -1)\n",
    "    elif shape == 'rectangle':\n",
    "        image = cv2.rectangle(image, (x - sx, y - sy), (x + sx, y + sy), color, -1)        \n",
    "\n",
    "    elif shape == \"circle\":\n",
    "        image = cv2.circle(image, (x, y), sx, color, -1)\n",
    "\n",
    "    elif shape == \"triangle\":\n",
    "        sin60 = math.sin(math.radians(60))\n",
    "        points = np.array([[(x, y - sx),\n",
    "                            (x - (sx / sin60), y + sx),\n",
    "                            (x + (sx / sin60), y + sx),\n",
    "                            ]], dtype=np.int32)\n",
    "#         print(' points.shape is : ',points.shape)\n",
    "#         print(points)\n",
    "        image = cv2.fillPoly(image, points, color)\n",
    "    return image            "
   ]
  },
  {
   "cell_type": "markdown",
   "metadata": {},
   "source": [
    "###  Non Max Suppression "
   ]
  },
  {
   "cell_type": "code",
   "execution_count": null,
   "metadata": {
    "ExecuteTime": {
     "end_time": "2018-05-08T16:02:18.983077Z",
     "start_time": "2018-05-08T16:02:18.744401Z"
    },
    "hideCode": true,
    "hideOutput": true
   },
   "outputs": [],
   "source": [
    "from mrcnn.utils import compute_iou\n",
    "def non_max_suppression(boxes, scores, threshold):\n",
    "    \"\"\"Performs non-maximum supression and returns indicies of kept boxes.\n",
    "    boxes: [N, (y1, x1, y2, x2)]. Notice that (y2, x2) lays outside the box.\n",
    "    scores: 1-D array of box scores.\n",
    "    threshold: Float. IoU threshold to use for filtering.\n",
    "    \"\"\"\n",
    "    assert boxes.shape[0] > 0\n",
    "    if boxes.dtype.kind != \"f\":\n",
    "        boxes = boxes.astype(np.float32)\n",
    "    # print(' non_max_suppression ')\n",
    "    # Compute box areas\n",
    "    y1 = boxes[:, 0]\n",
    "    x1 = boxes[:, 1]\n",
    "    y2 = boxes[:, 2]\n",
    "    x2 = boxes[:, 3]\n",
    "    area = (y2 - y1) * (x2 - x1)\n",
    "\n",
    "    # Get indicies of boxes sorted by scores (highest first)\n",
    "    ixs = scores.argsort()[::-1]\n",
    "\n",
    "    pick = []\n",
    "    print('====> Initial Ixs: ', ixs)\n",
    "    while len(ixs) > 0:\n",
    "        # Pick top box and add its index to the list\n",
    "        i = ixs[0]\n",
    "        cy = y1[i] + (y2[i]-y1[i])//2\n",
    "        cx = x1[i] + (x2[i]-x1[i])//2\n",
    "        print('     ix : ', ixs, 'ctr (x,y)', cx,' ',cy,' box:', boxes[i], ' compare ',i, ' with ', ixs[1:])\n",
    "        pick.append(i)\n",
    "        \n",
    "        # Compute IoU of the picked box with the rest\n",
    "        iou = compute_iou(boxes[i], boxes[ixs[1:]], area[i], area[ixs[1:]])\n",
    "        print('     ious:', iou)\n",
    "        # Identify boxes with IoU over the threshold. This\n",
    "        # returns indicies into ixs[1:], so add 1 to get\n",
    "        # indicies into ixs.\n",
    "        tst =  np.where(iou>threshold)\n",
    "        remove_ixs = np.where(iou > threshold)[0] + 1\n",
    "        print('     np.where( iou > threshold) : ' ,tst, 'tst[0] (index into ixs[1:]: ', tst[0], \n",
    "         ' remove_ixs (index into ixs) : ',remove_ixs)\n",
    "        \n",
    "        # Remove indicies of the picked and overlapped boxes.\n",
    "        ixs = np.delete(ixs, remove_ixs)\n",
    "        ixs = np.delete(ixs, 0)\n",
    "        print(' ending ixs (after deleting ixs[0]): ', ixs, ' picked so far: ',pick)\n",
    "    print('====> Final Picks: ', pick)\n",
    "    return np.array(pick, dtype=np.int32)\n",
    "\n"
   ]
  },
  {
   "cell_type": "markdown",
   "metadata": {},
   "source": [
    "###  NewShape Class Definition"
   ]
  },
  {
   "cell_type": "code",
   "execution_count": null,
   "metadata": {
    "ExecuteTime": {
     "end_time": "2018-05-08T17:16:48.906247Z",
     "start_time": "2018-05-08T17:16:44.513492Z"
    },
    "hideCode": true
   },
   "outputs": [],
   "source": [
    "class NewShapesConfig(ShapesConfig):\n",
    "    '''\n",
    "    Configuration for training on the toy shapes dataset.\n",
    "    Derives from the base Config class and overrides values specific\n",
    "    to the toy shapes dataset.\n",
    "    '''\n",
    "    # Give the configuration a recognizable name\n",
    "#     NAME = \"shapes\"\n",
    "\n",
    "    # Number of classes (including background)\n",
    "    NUM_CLASSES = 1 + 4  # background + 3 shapes\n",
    "\n",
    "\n",
    "class NewShapesDataset(Dataset):\n",
    "    '''\n",
    "    Generates the shapes synthetic dataset. The dataset consists of simple\n",
    "    shapes (triangles, squares, circles) placed randomly on a blank surface.\n",
    "    The images are generated on the fly. No file access required.\n",
    "    '''\n",
    "\n",
    "    def load_shapes(self, count, height, width):\n",
    "        '''\n",
    "        Generate the requested number of synthetic images.\n",
    "        count: number of images to generate.\n",
    "        height, width: the size of the generated images.\n",
    "        '''\n",
    "        \n",
    "        # Add classes\n",
    "        self.add_class(\"shapes\", 1, \"circle\")  # used to be class 2\n",
    "        self.add_class(\"shapes\", 2, \"square\")  # used to be class 1\n",
    "        self.add_class(\"shapes\", 3, \"triangle\")\n",
    "        self.add_class(\"shapes\", 4, \"rectangle\")\n",
    "        self.add_class(\"shapes\", 5, \"person\")\n",
    "        self.add_class(\"shapes\", 6, \"car\")\n",
    "        self.add_class(\"shapes\", 7, \"sun\")\n",
    "        self.add_class(\"shapes\", 8, \"building\")\n",
    "        self.add_class(\"shapes\", 9, \"tree\")\n",
    "        self.add_class(\"shapes\",10, \"cloud\")\n",
    "\n",
    "        # Add images\n",
    "        # Generate random specifications of images (i.e. color and\n",
    "        # list of shapes sizes and locations). This is more compact than\n",
    "        # actual images. Images are generated on the fly in load_image().\n",
    "        for i in range(count):\n",
    "            bg_color, shapes = self.random_image(height, width)\n",
    "            self.add_image(\"shapes\", image_id=i, path=None,\n",
    "                           width=width, height=height,\n",
    "                           bg_color=bg_color, shapes=shapes)\n",
    "\n",
    "    def load_image(self, image_id):\n",
    "        '''\n",
    "        Generate an image from the specs of the given image ID.\n",
    "        Typically this function loads the image from a file, but in this case it\n",
    "        generates the image on the fly from the specs in image_info.\n",
    "        '''\n",
    "        \n",
    "        info = self.image_info[image_id]\n",
    "        bg_color = np.array(info['bg_color']).reshape([1, 1, 3])\n",
    "        \n",
    "        image = np.ones([info['height'], info['width'], 3], dtype=np.uint8)\n",
    "        image = image * bg_color.astype(np.uint8)\n",
    "        print(\" Load Image \")\n",
    "        pp.pprint(info['shapes'])\n",
    "\n",
    "        #--------------------------------------------------------------------------------\n",
    "        # rearrange the shapes by ascending Y, so that items closer to bottom of \n",
    "        # image overlay items further up\n",
    "        #--------------------------------------------------------------------------------\n",
    "        sort_lst = [itm[2][1] for itm in info['shapes']]\n",
    "        sorted_shape_ind = np.argsort(np.array(sort_lst))\n",
    "        \n",
    "        for shape_ind in sorted_shape_ind:\n",
    "#             print(' shape ind :', shape_ind, 'shape', shape, ' color:', color,' dims ',dims)\n",
    "            shape, color, dims =  info['shapes'][shape_ind]\n",
    "            image = self.draw_shape(image, shape, dims, color)\n",
    "        return image\n",
    "\n",
    "    \n",
    "    def image_reference(self, image_id):\n",
    "        \"\"\"Return the shapes data of the image.\"\"\"\n",
    "        info = self.image_info[image_id]\n",
    "        if info[\"source\"] == \"shapes\":\n",
    "            return info[\"shapes\"]\n",
    "        else:\n",
    "            super(self.__class__).image_reference(self, image_id)    \n",
    "\n",
    "            \n",
    "    def load_mask(self, image_id):\n",
    "        '''\n",
    "        Generate instance masks for shapes of the given image ID.\n",
    "        '''\n",
    "        # print(' Loading shapes obj mask infofor image_id : ',image_id)\n",
    "        info   = self.image_info[image_id]\n",
    "        shapes = info['shapes']\n",
    "        # print('\\n Load Mask information (shape, (color rgb), (x_ctr, y_ctr, size) ): ')\n",
    "        # pp.pprint(info['shapes'])\n",
    "        count  = len(shapes)\n",
    "        mask   = np.zeros([info['height'], info['width'], count], dtype=np.uint8)\n",
    "        \n",
    "        print(' Shapes obj mask shape is :',mask.shape)\n",
    "        for i, (shape, _, dims) in enumerate(info['shapes']):\n",
    "            mask[:, :, i:i + 1] = self.draw_shape(mask[:, :, i:i + 1].copy(), shape, dims, 1)\n",
    "        \n",
    "        # Handle occlusions\n",
    "        occlusion = np.logical_not(mask[:, :, -1]).astype(np.uint8)\n",
    "        for i in range(count - 2, -1, -1):\n",
    "            mask[:, :, i] = mask[:, :, i] * occlusion\n",
    "            occlusion = np.logical_and(\n",
    "                occlusion, np.logical_not(mask[:, :, i]))\n",
    "        \n",
    "        # Map class names to class IDs.\n",
    "        class_ids = np.array([self.class_names.index(s[0]) for s in shapes])\n",
    "        return mask, class_ids.astype(np.int32)\n",
    "    \n",
    "    def draw_shape(self, image, shape, dims, color):\n",
    "        \"\"\"Draws a shape from the given specs.\"\"\"\n",
    "        # Get the center x, y and the size s\n",
    "        x, y, sx, sy = dims\n",
    "        print(' Shape : {:20s}   Cntr (x,y): ({:3d} , {:3d})    Size_x: {:3d}   Size_y: {:3d} {}'.format(shape,x,y,sx, sy,color))        \n",
    "        \n",
    "        if shape == \"square\":\n",
    "            image = cv2.rectangle(image, (x - sx, y - sy), (x + sx, y + sy), color, -1)\n",
    "\n",
    "        elif shape in [\"rectangle\", \"building\"]:\n",
    "            image = cv2.rectangle(image, (x - sx, y - sy), (x + sx, y + sy), color, -1)        \n",
    "#             print('X :', x, 'y:', y , '     sx: ',sx , 'sy: ', sy, 'hs:', hs)\n",
    "        \n",
    "        elif shape == \"car\":\n",
    "            body_y = sy //3\n",
    "            wheel_x = sx //2\n",
    "            wheel_r = sx //5\n",
    "            top_x   = sx //4\n",
    "            bot_x   = 3*sx //4\n",
    "            image = cv2.rectangle(image, (x - sx, y - body_y), (x + sx, y + body_y), color, -1)    \n",
    "            image = cv2.circle(image, (x - wheel_x , y + body_y), wheel_r, color, -1)     \n",
    "            image = cv2.circle(image, (x + wheel_x , y + body_y), wheel_r, color, -1)     \n",
    "\n",
    "            points = np.array([[(x - top_x , y - sy),   (x + top_x, y - sy),\n",
    "                                (x + bot_x,  y - body_y),(x - bot_x, y - body_y), ]], dtype=np.int32)\n",
    "            image = cv2.fillPoly(image, points, color)                     \n",
    "            \n",
    "        elif shape == \"person\":\n",
    "#             hy = sy // 4   # head height\n",
    "#             by = sy - hy   # body height\n",
    "#             print('X :', x, 'y:', y , 'sx: ',sx , 'sy: ', sy, 'hs:', hs)                         \n",
    "#             image = cv2.rectangle(image, (x - sx, y - by), (x + sx, y + by), color, -1)    \n",
    "#             image = cv2.circle(image, (x , y -(by+hy) ), sx, color, -1)            \n",
    "\n",
    "            hy = sy // 4   # head height\n",
    "            by = sy - hy   # body height\n",
    "#             print('X :', x, 'y:', y , 'sx: ',sx , 'sy: ', sy, 'hs:', hs)            \n",
    "            # torso\n",
    "            image = cv2.rectangle(image, (x - sx, y - by), (x + sx, y + by//4), color, -1)    \n",
    "            # legs\n",
    "            image = cv2.rectangle(image, (x - sx, y + by//4), (x - sx +sx//4, y + by), color, -1)    \n",
    "            image = cv2.rectangle(image, (x + sx - sx//4, y + by//4), (x + sx, y + by), color, -1)    \n",
    "            #head\n",
    "            image = cv2.circle(image, (x , y -(by+hy) ), sx, color, -1)           \n",
    "        elif shape in [\"circle\", \"sun\"]:\n",
    "            image = cv2.circle(image, (x, y), sx, color, -1)\n",
    "\n",
    "        elif shape in [\"cloud\", \"ellipse\"]:\n",
    "            image = cv2.ellipse(image,(x,y),(sx, sy),0,0,360,color,-1)            \n",
    "\n",
    "        elif shape == \"triangle\":\n",
    "            sin60 = math.sin(math.radians(60))\n",
    "            # orde of points: top, left, right\n",
    "            points = np.array([[(x, y - sx),\n",
    "                                (x - (sx / sin60), y + sx),\n",
    "                                (x + (sx / sin60), y + sx),\n",
    "                                ]], dtype=np.int32)\n",
    "            image = cv2.fillPoly(image, points, color)\n",
    "        \n",
    "        elif shape == \"tree\":\n",
    "            sin60 = math.sin(math.radians(60))\n",
    "            ty = sy //3            # trunk length\n",
    "            by = sy - ty           # body length\n",
    "            tx = int((by /sin60)//5)   # trunk width\n",
    "        #     print('sx: ',sx , 'sy: ', sy, 'tx/ty :', tx, ' bx: ',bx)\n",
    "            sin60 = math.sin(math.radians(60))\n",
    "            # orde of points: top, left, right\n",
    "            points = np.array([[(x, y - by),\n",
    "                                (x - (by / sin60), y + by),\n",
    "                                (x + (by / sin60), y + by),\n",
    "                                ]], dtype=np.int32)\n",
    "            image = cv2.fillPoly(image, points, color)             \n",
    "            image = cv2.rectangle(image,(x-tx,y+by), (x+tx, y+by+ty),color, -1)                      \n",
    "            \n",
    "        return image            \n",
    "\n",
    "    def random_shape(self, shape, height, width):\n",
    "        \"\"\"Generates specifications of a random shape that lies within\n",
    "        the given height and width boundaries.\n",
    "        Returns a tuple of three valus:\n",
    "        * The shape name (square, circle, ...)\n",
    "        * Shape color: a tuple of 3 values, RGB.\n",
    "        * Shape dimensions: A tuple of values that define the shape size\n",
    "                            and location. Differs per shape type.\n",
    "        \"\"\"\n",
    "        # Shape\n",
    "#         shape = random.choice([\"square\", \"circle\", \"triangle\", \"rectangle\", \"person\", \"car\"])\n",
    "        \n",
    "        # Color\n",
    "        color = tuple([random.randint(0, 255) for _ in range(3)])\n",
    "        buffer = 20\n",
    "        \n",
    "        if shape == \"person\":\n",
    "            min_range_x = buffer\n",
    "            max_range_x = width - buffer - 1\n",
    "#             min_range_y = (height //3) * 2\n",
    "            min_range_y = (height //2)\n",
    "            max_range_y = height - buffer - 1\n",
    "            min_height = 10\n",
    "            max_height = 22\n",
    "            x = random.randint(min_range_x, max_range_x)\n",
    "            y = random.randint(min_range_y, max_range_y)\n",
    "#             sy = random.randint(min_height, max_height)\n",
    "            sy = int(np.interp([y],[min_range_y, max_range_y], [min_height, max_height]))\n",
    "            sx = sy //5    # body width \n",
    "\n",
    "        elif shape == \"car\":\n",
    "#             min_range_x = buffer\n",
    "#             max_range_x = width - buffer - 1\n",
    "#             min_range_y = height //2\n",
    "#             max_range_y = height - buffer - 1\n",
    "#             min_width = 12\n",
    "#             max_width = 15\n",
    "#             x = random.randint(min_range_x, max_range_x)\n",
    "#             y = random.randint(min_range_y, max_range_y)            \n",
    "#             sx = random.randint(min_width , max_width)\n",
    "#             sy = sx //3 \n",
    "\n",
    "            min_range_x = buffer\n",
    "            max_range_x = width - buffer - 1\n",
    "            min_range_y = height //2\n",
    "            max_range_y = height - buffer - 1\n",
    "\n",
    "            min_width = 15\n",
    "            max_width = 30 \n",
    "            x = random.randint(min_range_x, max_range_x)\n",
    "            y = random.randint(min_range_y, max_range_y)            \n",
    "            ## scale width based on location on the image. Images closer to the bottom \n",
    "            ## will be larger\n",
    "            sx = int(np.interp([y],[min_range_y, max_range_y], [min_width, max_width]))\n",
    "            ## old method\n",
    "            ## sx = random.randint(min_width , max_width)            \n",
    "            sy = sx //2            \n",
    "            \n",
    "        elif shape == \"building\":            \n",
    "            min_range_x = buffer\n",
    "            max_range_x = width - buffer - 1           \n",
    "            min_range_y = height //3\n",
    "            max_range_y = 3 * height //4   ##* min_range_y\n",
    "            x = random.randint(min_range_x, max_range_x)\n",
    "            y = random.randint(min_range_y, max_range_y)            \n",
    "            min_height = 10\n",
    "            max_height = 30\n",
    "            sy = int(np.interp([y],[min_range_y, max_range_y], [min_height, max_height]))\n",
    "            #     sy = random.randint(min_height, max_height)\n",
    "            #     sx = random.randint(5,15)\n",
    "            sx = sy //2 + 5            \n",
    "            \n",
    "        elif shape == \"sun\":\n",
    "            min_range_x = buffer //3\n",
    "            max_range_x = width - (buffer//3) - 1           \n",
    "            min_range_y = buffer //3\n",
    "            max_range_y = height //5    ##* min_range_y\n",
    "            x = random.randint(min_range_x, max_range_x)\n",
    "            y = random.randint(min_range_y, max_range_y)                      \n",
    "            min_height = 4\n",
    "            max_height = 10\n",
    "            sx = int(np.interp([y],[min_range_y, max_range_y], [min_height, max_height]))\n",
    "#             sx = random.randint(min_height, max_height)            \n",
    "            sy = sx\n",
    "\n",
    "        elif shape == \"tree\":\n",
    "            min_range_x = buffer  \n",
    "            max_range_x = width - (buffer) - 1           \n",
    "            min_range_y = height // 3\n",
    "            max_range_y = width - (buffer) - 1    ##* min_range_y\n",
    "            x = random.randint(min_range_x, max_range_x)\n",
    "            y = random.randint(min_range_y, max_range_y)                      \n",
    "            min_height = 8\n",
    "            max_height = 24\n",
    "            sy = int(np.interp([y],[min_range_y, max_range_y], [min_height, max_height]))    \n",
    "            #     sy = random.randint(min_height, max_height)            \n",
    "            sx = sy\n",
    "                      \n",
    "        elif shape == \"cloud\":               \n",
    "            min_range_x = buffer//2 \n",
    "            max_range_x = width - (buffer//2) - 1           \n",
    "            min_range_y = buffer\n",
    "            max_range_y = height //4\n",
    "            x = random.randint(min_range_x, max_range_x)\n",
    "            y = random.randint(min_range_y, max_range_y)                      \n",
    "            min_width , max_width  = 15, 40 \n",
    "        #     sx = random.randint(min_width, max_width)            \n",
    "            sx = int(np.interp([y],[min_range_y, max_range_y], [min_width, max_width]))\n",
    "        #     min_height ,max_height = 10, 20\n",
    "        #     sy = random.randint(min_height, max_height)            \n",
    "            sy = sx //  random.randint(3, 5)\n",
    "                    \n",
    "        else :\n",
    "            min_range_x = buffer\n",
    "            min_range_y = buffer\n",
    "            max_range_x = width - buffer - 1\n",
    "            max_range_y = height - buffer - 1\n",
    "            min_size_x  = buffer\n",
    "            max_size_x  = width // 4\n",
    "            min_size_y  = buffer\n",
    "            max_size_y  = height //4 \n",
    "\n",
    "            x = random.randint(min_range_x, max_range_x)\n",
    "            y = random.randint(min_range_y, max_range_y)\n",
    "            sx = random.randint(min_size_x, max_size_x)\n",
    "\n",
    "            if shape == \"rectangle\":\n",
    "                sy = random.randint(min_size_y, max_size_y)    \n",
    "            else:\n",
    "                ## other shapes have same sx and sy             \n",
    "                sy = sx\n",
    "\n",
    "        return  color, (x, y, sx, sy)\n",
    "    \n",
    "    def random_image(self, height, width):\n",
    "        '''\n",
    "        Creates random specifications of an image with multiple shapes.\n",
    "        Returns the background color of the image and a list of shape\n",
    "        specifications that can be used to draw the image.\n",
    "        '''\n",
    "        # Pick random background color\n",
    "        bg_color = np.array([random.randint(0, 255) for _ in range(3)])\n",
    "\n",
    "        # Generate a few random shapes and record their\n",
    "        # bounding boxes\n",
    "        tmp_shapes = []\n",
    "        shapes = []\n",
    "        boxes  = []\n",
    "        N = random.randint(1, 7)\n",
    "        shape_choices = [\"person\", \"car\", \"sun\", \"building\", \"tree\", \"cloud\"]\n",
    "        \n",
    "        for _ in range(N):\n",
    "            shape = random.choice(shape_choices)            \n",
    "            color, dims = self.random_shape(shape, height, width)\n",
    "            tmp_shapes.append((shape, color, dims))\n",
    "            if shape == \"sun\":\n",
    "                shape_choices.remove(\"sun\")\n",
    "            x, y, sx, sy = dims\n",
    "#             boxes.append([y - sy, x - sx, y + sy, x + sx])\n",
    "\n",
    "        #--------------------------------------------------------------------------------\n",
    "        # order shape objects based on closeness to bottom of image\n",
    "        # this will result in items closer to the viewer have higher priority in NMS\n",
    "        #--------------------------------------------------------------------------------\n",
    "        print(\" Random Image Routine \")\n",
    "        pp.pprint(tmp_shapes)\n",
    "\n",
    "        sort_lst = [itm[2][1] for itm in tmp_shapes]\n",
    "        print(sort_lst)\n",
    "        sorted_shape_ind = np.argsort(np.array(sort_lst))[::-1]\n",
    "        print(sorted_shape_ind)\n",
    "        \n",
    "        for i in sorted_shape_ind:\n",
    "            shapes.append(tmp_shapes[i])\n",
    "            x, y, sx, sy = tmp_shapes[i][2]\n",
    "            boxes.append([y - sy, x - sx, y + sy, x + sx])            \n",
    "            \n",
    "        print('=== Sahpes after sorting ===')\n",
    "        pp.pprint(shapes)\n",
    "        pp.pprint(boxes)\n",
    "        # Suppress occulsions more than 0.3 IoU    \n",
    "        # Apply non-max suppression with 0.3 threshold to avoid shapes covering each other\n",
    "        # object scores (which dictate the priority) are assigned in the order they were created\n",
    "        print('===== non-max-suppression =====')\n",
    "        keep_ixs =  non_max_suppression(np.array(boxes), np.arange(N), 0.29)\n",
    "        \n",
    "        shapes = [s for i, s in enumerate(shapes) if i in keep_ixs]\n",
    "        \n",
    "        print('===> Original number of shapes {}  # after NMS {}'.format(N, len(shapes)))\n",
    "        return bg_color, shapes    \n",
    "    \n",
    "    "
   ]
  },
  {
   "cell_type": "code",
   "execution_count": 2,
   "metadata": {
    "ExecuteTime": {
     "end_time": "2018-05-21T21:20:47.922352Z",
     "start_time": "2018-05-21T21:20:47.415799Z"
    },
    "hideCode": false,
    "hideOutput": true,
    "scrolled": false
   },
   "outputs": [
    {
     "name": "stdout",
     "output_type": "stream",
     "text": [
      " Shapes Per Image:  7\n",
      " Add image --->  0\n",
      "    ===> Image Id : ( 6 )   ---- Zero Mask Encountered \n",
      "    ------ Original Shapes ------\n",
      "[       ('cloud', (145, 184, 235), (98, 20, 15, 3)),\n",
      "        ('tree', (231, 5, 101), (27, 55, 11, 11)),\n",
      "        ('tree', (248, 41, 144), (44, 82, 17, 17)),\n",
      "        ('building', (233, 232, 186), (39, 84, 19, 29)),\n",
      "        ('tree', (61, 220, 109), (84, 89, 19, 19)),\n",
      "        ('person', (148, 203, 149), (93, 103, 4, 24)),\n",
      "        ('tree', (148, 222, 35), (82, 104, 23, 23))]\n",
      "    ------ shapes after removal of totally hidden shapes ------\n",
      "[       ('cloud', (145, 184, 235), (98, 20, 15, 3)),\n",
      "        ('tree', (231, 5, 101), (27, 55, 11, 11)),\n",
      "        ('building', (233, 232, 186), (39, 84, 19, 29)),\n",
      "        ('tree', (61, 220, 109), (84, 89, 19, 19)),\n",
      "        ('person', (148, 203, 149), (93, 103, 4, 24)),\n",
      "        ('tree', (148, 222, 35), (82, 104, 23, 23))]\n",
      "    Number of shapes now is :  6\n",
      " Initialize config object - super\n",
      "(56, 56)\n"
     ]
    },
    {
     "data": {
      "text/plain": [
       "array([0, 1, 2, 3, 4, 5, 6, 7, 8, 9])"
      ]
     },
     "execution_count": 2,
     "metadata": {},
     "output_type": "execute_result"
    }
   ],
   "source": [
    "test  = NewShapesDataset()\n",
    "test.load_shapes(10, 128, 128)\n",
    "test.prepare()\n",
    "test_config = NewShapesConfig()\n",
    "test.image_ids"
   ]
  },
  {
   "cell_type": "code",
   "execution_count": null,
   "metadata": {},
   "outputs": [],
   "source": [
    "# train_batch_x, train_batch_y = next(train_generator)\n",
    "imgmeta_idx = model.keras_model.input_names.index('input_image_meta')\n",
    "img_meta    = train_batch_x[imgmeta_idx]\n",
    "\n",
    "for img_idx in range(config.BATCH_SIZE):\n",
    "    image_id = img_meta[img_idx,0]\n",
    "    image = dataset_train.load_image(image_id)\n",
    "    mask, class_ids = dataset_train.load_mask(image_id)\n",
    "    print('Image id: ',image_id)\n",
    "    print('Image meta', img_meta[img_idx])\n",
    "    print('Classes (1: circle, 2: square, 3: triangle ): ',class_ids)\n",
    "    visualize.display_top_masks(image, mask, class_ids, dataset_train.class_names)"
   ]
  },
  {
   "cell_type": "markdown",
   "metadata": {},
   "source": [
    "###  Display Images "
   ]
  },
  {
   "cell_type": "code",
   "execution_count": 3,
   "metadata": {
    "ExecuteTime": {
     "end_time": "2018-05-21T21:21:08.321020Z",
     "start_time": "2018-05-21T21:21:06.904038Z"
    },
    "hideCode": false,
    "hideOutput": true,
    "scrolled": false
   },
   "outputs": [
    {
     "name": "stdout",
     "output_type": "stream",
     "text": [
      "(1,) (1, 4) (128, 128, 1)\n",
      "[[49 77 69 97]]\n",
      "[5]\n"
     ]
    },
    {
     "data": {
      "image/png": "[encoded data removed]",
      "text/plain": [
       "<matplotlib.figure.Figure at 0x1f4b01e6a90>"
      ]
     },
     "metadata": {},
     "output_type": "display_data"
    },
    {
     "name": "stdout",
     "output_type": "stream",
     "text": [
      "(2,) (2, 4) (128, 128, 2)\n",
      "[[13 22 32 41]\n",
      " [60 51 96 58]]\n",
      "[3 1]\n"
     ]
    },
    {
     "data": {
      "image/png": "[encoded data removed]",
      "text/plain": [
       "<matplotlib.figure.Figure at 0x1f4b0510358>"
      ]
     },
     "metadata": {},
     "output_type": "display_data"
    },
    {
     "name": "stdout",
     "output_type": "stream",
     "text": [
      "(4,) (4, 4) (128, 128, 4)\n",
      "[[  5  44  16  55]\n",
      " [ 54  68  77  90]\n",
      " [ 63  42  89  62]\n",
      " [ 53   3 110  42]]\n",
      "[3 5 5 4]\n"
     ]
    },
    {
     "data": {
      "image/png": "[encoded data removed]",
      "text/plain": [
       "<matplotlib.figure.Figure at 0x1f4b052e780>"
      ]
     },
     "metadata": {},
     "output_type": "display_data"
    },
    {
     "name": "stdout",
     "output_type": "stream",
     "text": [
      "(2,) (2, 4) (128, 128, 2)\n",
      "[[ 34  14  55  35]\n",
      " [ 35  85  60 108]]\n",
      "[4 4]\n"
     ]
    },
    {
     "data": {
      "image/png": "[encoded data removed]",
      "text/plain": [
       "<matplotlib.figure.Figure at 0x1f4b082f278>"
      ]
     },
     "metadata": {},
     "output_type": "display_data"
    },
    {
     "name": "stdout",
     "output_type": "stream",
     "text": [
      "(2,) (2, 4) (128, 128, 2)\n",
      "[[11  7 26 22]\n",
      " [57 64 70 95]]\n",
      "[3 2]\n"
     ]
    },
    {
     "data": {
      "image/png": "[encoded data removed]",
      "text/plain": [
       "<matplotlib.figure.Figure at 0x1f4b0820fd0>"
      ]
     },
     "metadata": {},
     "output_type": "display_data"
    },
    {
     "name": "stdout",
     "output_type": "stream",
     "text": [
      "(4,) (4, 4) (128, 128, 4)\n",
      "[[  5 100  16 111]\n",
      " [ 16  63  27  98]\n",
      " [ 35  82  60 105]\n",
      " [ 60  63  85  87]]\n",
      "[3 6 4 5]\n"
     ]
    },
    {
     "data": {
      "image/png": "[encoded data removed]",
      "text/plain": [
       "<matplotlib.figure.Figure at 0x1f4b0adf0f0>"
      ]
     },
     "metadata": {},
     "output_type": "display_data"
    },
    {
     "name": "stdout",
     "output_type": "stream",
     "text": [
      "(5,) (5, 4) (128, 128, 5)\n",
      "[[ 17  83  24 114]\n",
      " [ 47  17  64  32]\n",
      " [ 55  20 114  59]\n",
      " [ 75  89 122  98]\n",
      " [ 88  63 128 101]]\n",
      "[6 5 4 1 5]\n"
     ]
    },
    {
     "data": {
      "image/png": "[encoded data removed]",
      "text/plain": [
       "<matplotlib.figure.Figure at 0x1f4b207cc88>"
      ]
     },
     "metadata": {},
     "output_type": "display_data"
    },
    {
     "name": "stdout",
     "output_type": "stream",
     "text": [
      "(6,) (6, 4) (128, 128, 6)\n",
      "[[  7  78  16  91]\n",
      " [ 15  71  26 100]\n",
      " [ 16  94  31 128]\n",
      " [ 37  75  66 100]\n",
      " [ 50  74  82  81]\n",
      " [ 64  68 104  77]]\n",
      "[3 6 6 4 1 1]\n"
     ]
    },
    {
     "data": {
      "image/png": "[encoded data removed]",
      "text/plain": [
       "<matplotlib.figure.Figure at 0x1f4b208a6a0>"
      ]
     },
     "metadata": {},
     "output_type": "display_data"
    },
    {
     "name": "stdout",
     "output_type": "stream",
     "text": [
      "(6,) (6, 4) (128, 128, 6)\n",
      "[[ 15 105  34 124]\n",
      " [ 22  12  39  83]\n",
      " [ 40  39  55  53]\n",
      " [ 40  53  73  80]\n",
      " [ 55  24  78  46]\n",
      " [ 77  51  96  98]]\n",
      "[3 6 5 4 5 2]\n"
     ]
    },
    {
     "data": {
      "image/png": "[encoded data removed]",
      "text/plain": [
       "<matplotlib.figure.Figure at 0x1f4b23687f0>"
      ]
     },
     "metadata": {},
     "output_type": "display_data"
    },
    {
     "name": "stdout",
     "output_type": "stream",
     "text": [
      "(7,) (7, 4) (128, 128, 7)\n",
      "[[  5  47  16  58]\n",
      " [ 35  66  58  87]\n",
      " [ 65  84  81 117]\n",
      " [ 67  12  97  36]\n",
      " [ 53  36 108  73]\n",
      " [ 68  87 110  96]\n",
      " [ 70  77 114  86]]\n",
      "[3 4 2 5 4 1 1]\n"
     ]
    },
    {
     "data": {
      "image/png": "[encoded data removed]",
      "text/plain": [
       "<matplotlib.figure.Figure at 0x1f4b290c4a8>"
      ]
     },
     "metadata": {},
     "output_type": "display_data"
    }
   ],
   "source": [
    "for image_id in range(len(test.image_ids)):\n",
    "#     print('Classes (1: circle, 2: square, 3: triangle ): ',class_ids)\n",
    "    image, image_meta, gt_class_ids, gt_boxes, gt_masks = \\\n",
    "                    load_image_gt(test, test_config, image_id, augment=False, use_mini_mask=False) \n",
    "        \n",
    "#     print(test.image_info[image_id])\n",
    "#     for shape, color, dims in test.image_info[image_id]['shapes']:        \n",
    "#         x, y, sx, sy = dims\n",
    "#         print(' Shape : {:20s}     Cntr (x,y): ({:3d} , {:3d})    Size_x: {:3d}   Size_y: {:3d}'.format(shape,x,y,sx, sy))            \n",
    "    print(gt_class_ids.shape, gt_boxes.shape, gt_masks.shape)\n",
    "    print(gt_boxes)\n",
    "    print(gt_class_ids)\n",
    "    visualize.display_images([image], cols = 1, width = 8)                     \n",
    "#     visualize.display_instances(image, gt_boxes, gt_masks, gt_class_ids, test.class_names, figsize=(8, 8))\n",
    "#     visualize.display_top_masks(image, gt_masks, gt_class_ids, test.class_names)\n",
    "    "
   ]
  },
  {
   "cell_type": "markdown",
   "metadata": {},
   "source": [
    "###  Construct a semi-random image "
   ]
  },
  {
   "cell_type": "code",
   "execution_count": null,
   "metadata": {
    "ExecuteTime": {
     "end_time": "2018-05-07T10:10:11.218099Z",
     "start_time": "2018-05-07T10:10:10.949384Z"
    },
    "hideCode": false,
    "hideOutput": true
   },
   "outputs": [],
   "source": [
    "bg_color = np.array([random.randint(0, 255) for _ in range(3)])\n",
    "color = tuple([random.randint(0, 255) for _ in range(3)])\n",
    "\n",
    "image = np.ones([img_h, img_w, 3], dtype=np.uint8)\n",
    "image = image * bg_color.astype(np.uint8)\n",
    "for i in range(5):\n",
    "    shape , color, dims = semi_random_shape(img_h, img_w )\n",
    "    image = semi_draw_shape(image , shape, dims ,color)\n",
    "\n",
    "display_images([image], cols = 1, width = 6)"
   ]
  },
  {
   "cell_type": "markdown",
   "metadata": {},
   "source": [
    "###  Display one image"
   ]
  },
  {
   "cell_type": "code",
   "execution_count": null,
   "metadata": {
    "ExecuteTime": {
     "end_time": "2018-05-07T12:36:18.383220Z",
     "start_time": "2018-05-07T12:36:18.111504Z"
    },
    "hideCode": false,
    "hideOutput": true
   },
   "outputs": [],
   "source": [
    "image_index = 3\n",
    "image_id = test.image_ids[image_index]\n",
    "image, image_meta, gt_class_ids, gt_boxes, gt_masks = \\\n",
    "                load_image_gt(test, test_config, image_id, augment=False, use_mini_mask=False)\n",
    "    \n",
    "print(gt_class_ids.shape, gt_boxes.shape, gt_masks.shape)\n",
    "print(gt_boxes)\n",
    "print(gt_class_ids)\n",
    "display_images([image], cols = 1, width = 6)\n",
    "# draw_boxes(image, gt_boxes)    "
   ]
  },
  {
   "cell_type": "markdown",
   "metadata": {},
   "source": [
    "### Experiemnt building shapes"
   ]
  },
  {
   "cell_type": "code",
   "execution_count": null,
   "metadata": {
    "ExecuteTime": {
     "end_time": "2018-05-07T18:01:03.729479Z",
     "start_time": "2018-05-07T18:01:03.415650Z"
    },
    "hideCode": false,
    "hideOutput": true,
    "scrolled": false
   },
   "outputs": [],
   "source": [
    "height , width = 128, 128\n",
    "bg_color = np.array([random.randint(0, 255) for _ in range(3)])\n",
    "buffer = 10\n",
    "image = np.ones([img_h, img_w, 3], dtype=np.uint8)\n",
    "image = image * bg_color.astype(np.uint8)\n",
    "\n",
    "for i in range(4):\n",
    "    color = tuple([random.randint(0, 255) for _ in range(3)])\n",
    "    min_range_x = buffer\n",
    "    max_range_x = width - buffer - 1           \n",
    "    min_range_y = height //3\n",
    "    max_range_y = 3 * height //4   ##* min_range_y\n",
    "    x = random.randint(min_range_x, max_range_x)\n",
    "    y = random.randint(min_range_y, max_range_y)            \n",
    "\n",
    "\n",
    "    min_height = 10\n",
    "    max_height = 30\n",
    "    sy = np.interp([y],[min_range_y, max_range_y], [min_height, max_height])    \n",
    "    #     sy = random.randint(min_height, max_height)\n",
    "#     sx = random.randint(5,15)\n",
    "    sx = sy //2 + 5\n",
    "\n",
    "    image = cv2.rectangle(image, (x - sx, y - sy), (x + sx, y + sy), color, -1)      \n",
    "display_images([image], cols = 1, width = 8)"
   ]
  },
  {
   "cell_type": "markdown",
   "metadata": {},
   "source": [
    "###  Automobile"
   ]
  },
  {
   "cell_type": "code",
   "execution_count": null,
   "metadata": {
    "ExecuteTime": {
     "end_time": "2018-05-07T17:34:39.000923Z",
     "start_time": "2018-05-07T17:34:38.645002Z"
    },
    "hideCode": false,
    "hideOutput": true,
    "scrolled": false
   },
   "outputs": [],
   "source": [
    "height , width = 128, 128\n",
    "bg_color = np.array([random.randint(0, 255) for _ in range(3)])\n",
    "buffer = 10\n",
    "image = np.ones([img_h, img_w, 3], dtype=np.uint8)\n",
    "image = image * bg_color.astype(np.uint8)\n",
    "\n",
    "for i in range(4):\n",
    "    color = tuple([random.randint(0, 255) for _ in range(3)])\n",
    "    min_range_x = buffer\n",
    "    max_range_x = width - buffer - 1\n",
    "    min_range_y = height //2\n",
    "    max_range_y = height - buffer - 1\n",
    "    x = random.randint(min_range_x, max_range_x)\n",
    "    y = random.randint(min_range_y, max_range_y)          \n",
    "    min_width = 12\n",
    "    max_width = 26     \n",
    "    ## scale width based on location on the image. Images closer to the bottom \n",
    "    ## will be larger\n",
    "    sx = np.interp([y],[min_range_y, max_range_y], [min_width, max_width])\n",
    "    ## old method\n",
    "    ## sx = random.randint(min_width , max_width)\n",
    "    sy = sx //2\n",
    "\n",
    "    print('X :', x, 'y:', y , '     sx: ',sx , 'sy: ', sy)\n",
    "    \n",
    "    body_y  = sy //3\n",
    "    wheel_x = sx //2\n",
    "    wheel_r = sx //5\n",
    "    top_x   = sx //4\n",
    "    bot_x   = 3*sx //4\n",
    "    image = cv2.rectangle(image, (x - sx, y - body_y), (x + sx, y + body_y), color, -1)    \n",
    "    image = cv2.circle(image, (x - wheel_x , y + body_y), wheel_r, color, -1)     \n",
    "    image = cv2.circle(image, (x + wheel_x , y + body_y), wheel_r, color, -1)     \n",
    "    \n",
    "    points = np.array([[(x - top_x , y - sy),   (x + top_x, y - sy),\n",
    "                        (x + bot_x,  y - body_y),(x - bot_x, y - body_y), ]], dtype=np.int32)\n",
    "    image = cv2.fillPoly(image, points, color)             \n",
    "    \n",
    "display_images([image], cols = 1, width = 8)"
   ]
  },
  {
   "cell_type": "markdown",
   "metadata": {},
   "source": [
    "### Trees"
   ]
  },
  {
   "cell_type": "code",
   "execution_count": null,
   "metadata": {
    "ExecuteTime": {
     "end_time": "2018-05-07T17:39:40.036487Z",
     "start_time": "2018-05-07T17:39:39.698620Z"
    },
    "hideCode": true,
    "hideOutput": true,
    "scrolled": false
   },
   "outputs": [],
   "source": [
    "height , width = 128, 128\n",
    "bg_color = np.array([random.randint(0, 255) for _ in range(3)])\n",
    "buffer = 20\n",
    "sin60 = math.sin(math.radians(60))\n",
    "\n",
    "image = np.ones([img_h, img_w, 3], dtype=np.uint8)\n",
    "image = image * bg_color.astype(np.uint8)\n",
    "\n",
    "for i in range(7):\n",
    "    color = tuple([random.randint(0, 255) for _ in range(3)])\n",
    "    min_range_x = buffer  \n",
    "    max_range_x = width - (buffer) - 1           \n",
    "    min_range_y = height // 3\n",
    "    max_range_y = width - (buffer) - 1    ##* min_range_y\n",
    "    x = random.randint(min_range_x, max_range_x)\n",
    "    y = random.randint(min_range_y, max_range_y)                      \n",
    "    min_height = 8\n",
    "    max_height = 24\n",
    "    sy = np.interp([y],[min_range_y, max_range_y], [min_height, max_height])    \n",
    "#     sy = random.randint(min_height, max_height)            \n",
    "    sx = sy\n",
    "    \n",
    "    ty = sy //3            # trunk length - 1/3 total length \n",
    "    by = sy - ty           # body length  ~ 2/3 total length\n",
    "    tx = int((by /sin60)//5)   # trunk width\n",
    "#    print('sx: ',sx , 'sy: ', sy, 'tx/ty :', tx, ' bx: ',bx)\n",
    "    # orde of points: top, left, right\n",
    "    points = np.array([[(x, y - by),\n",
    "                        (x - (by / sin60), y + by),\n",
    "                        (x + (by / sin60), y + by),\n",
    "                        ]], dtype=np.int32)\n",
    "\n",
    "    image = cv2.fillPoly(image, points, color)             \n",
    "    image = cv2.rectangle(image,(x-tx,y+by), (x+tx, y+by+ty),color, -1)\n",
    "\n",
    "# for i in range(5):\n",
    "#     shape , color, dims = semi_random_shape(img_h, img_w )\n",
    "#     image = semi_draw_shape(image , shape, dims ,color)\n",
    "\n",
    "display_images([image], cols = 1, width = 6)"
   ]
  },
  {
   "cell_type": "markdown",
   "metadata": {},
   "source": [
    "###  Airplane"
   ]
  },
  {
   "cell_type": "code",
   "execution_count": null,
   "metadata": {
    "ExecuteTime": {
     "end_time": "2018-05-07T17:45:58.690525Z",
     "start_time": "2018-05-07T17:45:58.360648Z"
    },
    "hideCode": true,
    "hideOutput": true,
    "scrolled": true
   },
   "outputs": [],
   "source": [
    "height , width = 128, 128\n",
    "bg_color = np.array([random.randint(0, 255) for _ in range(3)])\n",
    "buffer = 20\n",
    "image = np.ones([img_h, img_w, 3], dtype=np.uint8)\n",
    "image = image * bg_color.astype(np.uint8)\n",
    "\n",
    "for i in range(7):\n",
    "    color = tuple([random.randint(0, 255) for _ in range(3)])\n",
    "    min_range_x = buffer //3\n",
    "    max_range_x = width - (buffer//3) - 1           \n",
    "    min_range_y = height //3\n",
    "    max_range_y = 2* height // 3    ##* min_range_y\n",
    "    x = random.randint(min_range_x, max_range_x)\n",
    "    y = random.randint(min_range_y, max_range_y)                      \n",
    "    min_height = 8\n",
    "    max_height = 24\n",
    "    sy = random.randint(min_height, max_height)            \n",
    "    sx = sy\n",
    "\n",
    "### DRAW ------------------------------------------------    \n",
    "    \n",
    "    tx = sx //3            # trunk length - 1/3 of total length \n",
    "    bx = sx - tx           # body length\n",
    "    by = (bx/sin60)        # body width\n",
    "    ty = int(by//5)   # trunk width\n",
    "\n",
    "#     print('sx: ',sx , 'sy: ', sy, 'tx/ty :', tx, ' bx: ',bx)\n",
    "    sin60 = math.sin(math.radians(60))\n",
    "    # orde of points: top, left, right\n",
    "#     points = np.array([[(x, y - by),\n",
    "#                         (x - (by / sin60), y + by),\n",
    "#                         (x + (by / sin60), y + by),\n",
    "#                         ]], dtype=np.int32)\n",
    "    points = np.array([[(x - bx , y),\n",
    "                        (x + bx , y - by),\n",
    "                        (x + bx , y + by),\n",
    "                        ]], dtype=np.int32)\n",
    "\n",
    "    image = cv2.fillPoly(image, points, color)             \n",
    "    image = cv2.rectangle(image,(x+bx,y-ty), (x+bx+tx, y+ty),color, -1)\n",
    "\n",
    "# for i in range(5):\n",
    "#     shape , color, dims = semi_random_shape(img_h, img_w )\n",
    "#     image = semi_draw_shape(image , shape, dims ,color)\n",
    "\n",
    "display_images([image], cols = 1, width = 6)"
   ]
  },
  {
   "cell_type": "markdown",
   "metadata": {},
   "source": [
    "###  person"
   ]
  },
  {
   "cell_type": "code",
   "execution_count": null,
   "metadata": {
    "ExecuteTime": {
     "end_time": "2018-05-07T17:45:58.690525Z",
     "start_time": "2018-05-07T17:45:58.360648Z"
    },
    "hideCode": true,
    "hideOutput": true,
    "scrolled": false
   },
   "outputs": [],
   "source": [
    "height , width = 128, 128\n",
    "bg_color = np.array([random.randint(0, 255) for _ in range(3)])\n",
    "buffer = 10\n",
    "image = np.ones([img_h, img_w, 3], dtype=np.uint8)\n",
    "image = image * bg_color.astype(np.uint8)\n",
    "\n",
    "for i in range(7):\n",
    "    color = tuple([random.randint(0, 255) for _ in range(3)])\n",
    "    min_range_x = buffer\n",
    "    max_range_x = width - buffer - 1\n",
    "    min_range_y = (height //2)\n",
    "    max_range_y = height - buffer - 1\n",
    "    min_height = 10\n",
    "    max_height = 22\n",
    "    x = random.randint(min_range_x, max_range_x)\n",
    "    y = random.randint(min_range_y, max_range_y)\n",
    "#     sy = random.randint(min_height, max_height)\n",
    "    sy = np.interp([y],[min_range_y, max_range_y], [min_height, max_height]) \n",
    "    sx = sy // 5   # body width \n",
    "    \n",
    "### DRAW ------------------------------------------------    \n",
    "    \n",
    "    hy = sy // 4   # head height\n",
    "    by = sy - hy   # body height\n",
    "    print('X :', x, 'y:', y , 'sx: ',sx , 'sy: ', sy)\n",
    "    \n",
    "    # torso\n",
    "    image = cv2.rectangle(image, (x - sx, y - by), (x + sx, y + by//4), color, -1)    \n",
    "    # legs\n",
    "    image = cv2.rectangle(image, (x - sx, y + by//4), (x - sx +sx//4, y + by), color, -1)    \n",
    "    image = cv2.rectangle(image, (x + sx - sx//4, y + by//4), (x + sx, y + by), color, -1)    \n",
    "    #head\n",
    "    image = cv2.circle(image, (x , y -(by+hy) ), sx, color, -1)     \n",
    "\n",
    "display_images([image], cols = 1, width = 6)"
   ]
  },
  {
   "cell_type": "markdown",
   "metadata": {},
   "source": [
    "###  Ellipse"
   ]
  },
  {
   "cell_type": "code",
   "execution_count": null,
   "metadata": {
    "ExecuteTime": {
     "end_time": "2018-05-07T17:51:02.161995Z",
     "start_time": "2018-05-07T17:51:01.858189Z"
    },
    "hideCode": true,
    "hideOutput": true,
    "scrolled": true
   },
   "outputs": [],
   "source": [
    "height , width = 128, 128\n",
    "bg_color = np.array([random.randint(0, 255) for _ in range(3)])\n",
    "buffer = 10\n",
    "image = np.ones([img_h, img_w, 3], dtype=np.uint8)\n",
    "image = image * bg_color.astype(np.uint8)\n",
    "\n",
    "for i in range(3):\n",
    "    color = tuple([random.randint(0, 255) for _ in range(3)])\n",
    "    min_range_x = buffer//2 \n",
    "    max_range_x = width - (buffer//2) - 1           \n",
    "    min_range_y = buffer\n",
    "    max_range_y = height //4\n",
    "    x = random.randint(min_range_x, max_range_x)\n",
    "    y = random.randint(min_range_y, max_range_y)                      \n",
    "    min_width , max_width  = 15, 40 \n",
    "#     sx = random.randint(min_width, max_width)            \n",
    "    sx = np.interp([y],[min_range_y, max_range_y], [min_width, max_width]) \n",
    "#     min_height ,max_height = 10, 20\n",
    "#     sy = random.randint(min_height, max_height)            \n",
    "    sy = sx //  random.randint(3, 5)\n",
    "    \n",
    "### DRAW ------------------------------------------------      \n",
    "    \n",
    "    print('sx: ',sx , 'sy: ', sy, 'tx/ty :', tx)\n",
    "    image = cv2.ellipse(image,(x,y),(sx, sy),0,0,360,color,-1)\n",
    "\n",
    "display_images([image], cols = 1, width = 6)"
   ]
  },
  {
   "cell_type": "code",
   "execution_count": null,
   "metadata": {},
   "outputs": [],
   "source": []
  }
 ],
 "metadata": {
  "anaconda-cloud": {},
  "celltoolbar": "Hide code",
  "kernelspec": {
   "display_name": "Python [conda env:TF_gpu]",
   "language": "python",
   "name": "conda-env-TF_gpu-py"
  },
  "language_info": {
   "codemirror_mode": {
    "name": "ipython",
    "version": 3
   },
   "file_extension": ".py",
   "mimetype": "text/x-python",
   "name": "python",
   "nbconvert_exporter": "python",
   "pygments_lexer": "ipython3",
   "version": "3.5.4"
  }
 },
 "nbformat": 4,
 "nbformat_minor": 2
}
