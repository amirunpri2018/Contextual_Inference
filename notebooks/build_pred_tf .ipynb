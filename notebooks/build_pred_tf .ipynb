{
 "cells": [
  {
   "cell_type": "markdown",
   "metadata": {
    "hideCode": false,
    "hidePrompt": false
   },
   "source": [
    "###  Simulate `build_gaussian_tf` function \n",
    "- Setup model, load weights and data generators \n",
    "- get items from data generator\n",
    "- pass through network"
   ]
  },
  {
   "cell_type": "code",
   "execution_count": 1,
   "metadata": {
    "ExecuteTime": {
     "end_time": "2018-05-04T16:55:37.704666Z",
     "start_time": "2018-05-04T16:55:24.711866Z"
    },
    "hideCode": false,
    "hidePrompt": false,
    "scrolled": true
   },
   "outputs": [
    {
     "data": {
      "text/html": [
       "<style>.container { width:90% !important; }</style>"
      ],
      "text/plain": [
       "<IPython.core.display.HTML object>"
      ]
     },
     "metadata": {},
     "output_type": "display_data"
    },
    {
     "name": "stderr",
     "output_type": "stream",
     "text": [
      "D:\\Program Files\\Anaconda3\\envs\\TF_gpu\\lib\\site-packages\\h5py\\__init__.py:36: FutureWarning: Conversion of the second argument of issubdtype from `float` to `np.floating` is deprecated. In future, it will be treated as `np.float64 == np.dtype(float).type`.\n",
      "  from ._conv import register_converters as _register_converters\n",
      "Using TensorFlow backend.\n"
     ]
    },
    {
     "name": "stdout",
     "output_type": "stream",
     "text": [
      "Tensorflow Version: 1.6.0   Keras Version : 2.1.4 \n",
      " Initialize config object - super\n",
      " COCO Model Path       :  E:\\Models\\mask_rcnn_coco.h5\n",
      " Checkpoint folder Path:  E:\\Models\\mrcnn_logs\n",
      "E:\\Models\n",
      "E:\\Models\\mask_rcnn_coco.h5\n",
      "E:\\Models\\resnet50_weights_tf_dim_ordering_tf_kernels_notop.h5\n",
      "E:\\Models\\mrcnn_logs\n",
      "    set_log_dir: Checkpoint path set to : E:\\Models\\mrcnn_logs\\shapes20180504T1855\\mask_rcnn_shapes_{epoch:04d}.h5\n",
      "    set_log_dir: self.epoch set to 0 \n",
      "\n",
      ">>> Resnet Graph \n",
      "     Input_image shape : (?, 128, 128, 3)\n",
      "     After ZeroPadding2D  : (?, 134, 134, 3) (?, 134, 134, 3)\n",
      "     After Conv2D padding : (?, 64, 64, 64) (?, 64, 64, 64)\n",
      "     After BatchNorm      : (?, 64, 64, 64) (?, 64, 64, 64)\n",
      "     After MaxPooling2D   : (?, 32, 32, 64) (?, 32, 32, 64)\n",
      "\n",
      ">>> Feature Pyramid Network (FPN) Graph \n",
      "     FPN P2 shape : (None, 32, 32, 256)\n",
      "     FPN P3 shape : (None, 16, 16, 256)\n",
      "     FPN P4 shape : (None, 8, 8, 256)\n",
      "     FPN P5 shape : (None, 4, 4, 256)\n",
      "     FPN P6 shape : (None, 2, 2, 256)\n",
      "\n",
      ">>> RPN Layer \n",
      "     Input_feature_map shape : (?, ?, ?, 256)\n",
      "     anchors_per_location    : 3\n",
      "     depth                   : 256\n",
      "     Input_feature_map shape : (?, ?, ?, 256)\n",
      "     anchors_per_location    : 3\n",
      "     anchor_stride           : 1\n",
      "\n",
      ">>> RPN Outputs  <class 'list'>\n",
      "      rpn_class_logits/concat:0\n",
      "      rpn_class/concat:0\n",
      "      rpn_bbox/concat:0\n",
      "\n",
      ">>> Proposal Layer - generate  2000  proposals\n",
      "    Init complete. Size of anchors:  (4092, 4)\n",
      "     Scores :  (3, 4092)\n",
      "     Deltas :  (3, 4092, 4)\n",
      "     Anchors:  (3, 4092, 4)\n",
      "     Boxes shape / type after processing:  (3, 4092, 4) <class 'tensorflow.python.framework.ops.Tensor'>\n",
      "     Output: Prposals shape :  (3, ?, ?) (3, None, None)\n",
      "\n",
      ">>> Detection Target Layer \n",
      "    Detection Target Layer : call()  <class 'list'> 4\n",
      "     proposals.shape    : (3, ?, ?) (3, ?, ?) (None, 2000, 4)\n",
      "     gt_class_ids.shape : (?, ?) (?, ?) (None, None)\n",
      "     gt_bboxes.shape    : (?, ?, 4) (?, ?, 4) (None, None, 4)\n",
      "     gt_masks.shape     : (?, 56, 56, ?) (?, 56, 56, ?) (None, 56, 56, None)\n",
      ">>> detection_targets_graph \n",
      "     propsals.shape        : (?, ?) (?, ?) (None, None)\n",
      "     gt_boxes.shape        : (?, 4) (None, 4)\n",
      "     gt_class_ids.shape    : (?,) (None,)\n",
      "     gt_masks.shape        : (56, 56, ?) (56, 56, None)\n",
      "\t>>> detection_targets_graph - calculate Overlaps_graph\n",
      "\t     overlaps_graph: shape of boxes1 before reshape:  (?, ?) (None, None)\n",
      "\t     overlaps_graph: shape of boxes2 before reshape:  (?, 4) (None, None)\n",
      "\t>>> detection_targets_graph - calculate Overlaps_graph\n",
      "\t     overlaps_graph: shape of boxes1 before reshape:  (?, ?) (None, None)\n",
      "\t     overlaps_graph: shape of boxes2 before reshape:  (?, 4) (None, None)\n",
      ">>> detection_targets_graph \n",
      "     propsals.shape        : (?, ?) (?, ?) (None, None)\n",
      "     gt_boxes.shape        : (?, 4) (None, 4)\n",
      "     gt_class_ids.shape    : (?,) (None,)\n",
      "     gt_masks.shape        : (56, 56, ?) (56, 56, None)\n",
      "\t>>> detection_targets_graph - calculate Overlaps_graph\n",
      "\t     overlaps_graph: shape of boxes1 before reshape:  (?, ?) (None, None)\n",
      "\t     overlaps_graph: shape of boxes2 before reshape:  (?, 4) (None, None)\n",
      "\t>>> detection_targets_graph - calculate Overlaps_graph\n",
      "\t     overlaps_graph: shape of boxes1 before reshape:  (?, ?) (None, None)\n",
      "\t     overlaps_graph: shape of boxes2 before reshape:  (?, 4) (None, None)\n",
      ">>> detection_targets_graph \n",
      "     propsals.shape        : (?, ?) (?, ?) (None, None)\n",
      "     gt_boxes.shape        : (?, 4) (None, 4)\n",
      "     gt_class_ids.shape    : (?,) (None,)\n",
      "     gt_masks.shape        : (56, 56, ?) (56, 56, None)\n",
      "\t>>> detection_targets_graph - calculate Overlaps_graph\n",
      "\t     overlaps_graph: shape of boxes1 before reshape:  (?, ?) (None, None)\n",
      "\t     overlaps_graph: shape of boxes2 before reshape:  (?, 4) (None, None)\n",
      "\t>>> detection_targets_graph - calculate Overlaps_graph\n",
      "\t     overlaps_graph: shape of boxes1 before reshape:  (?, ?) (None, None)\n",
      "\t     overlaps_graph: shape of boxes2 before reshape:  (?, 4) (None, None)\n",
      "\n",
      "    Detection Target Layer : return  <class 'list'> 5\n",
      "     output 0  shape (3, ?, ?)  type <class 'tensorflow.python.framework.ops.Tensor'> \n",
      "     output 1  shape (3, ?)  type <class 'tensorflow.python.framework.ops.Tensor'> \n",
      "     output 2  shape (3, ?, ?)  type <class 'tensorflow.python.framework.ops.Tensor'> \n",
      "     output 3  shape (3, ?, ?, ?)  type <class 'tensorflow.python.framework.ops.Tensor'> \n",
      "     output 4  shape (3, ?, ?)  type <class 'tensorflow.python.framework.ops.Tensor'> \n",
      "\n",
      ">>> FPN Classifier Graph \n",
      "     rois shape          : (3, ?, ?)\n",
      "     feature_maps : 4\n",
      "     feature_maps shape  : (?, 32, 32, 256)\n",
      "     feature_maps shape  : (?, 16, 16, 256)\n",
      "     feature_maps shape  : (?, 8, 8, 256)\n",
      "     feature_maps shape  : (?, 4, 4, 256)\n",
      "     input_shape         : [128 128   3]\n",
      "     pool_size           : 7\n",
      "\n",
      ">>> FPN Mask Graph \n",
      "     rois shape          : (3, ?, ?)\n",
      "     feature_maps : 4\n",
      "     feature_maps shape  : (?, 32, 32, 256)\n",
      "     feature_maps shape  : (?, 16, 16, 256)\n",
      "     feature_maps shape  : (?, 8, 8, 256)\n",
      "     feature_maps shape  : (?, 4, 4, 256)\n",
      "     input_shape         : [128 128   3]\n",
      "     pool_size           : 14\n",
      "     FPN Mask Graph output shape : (?, 32, 28, 28, 4)\n",
      "\n",
      ">>> PCN Layer TF \n",
      "   > PCNLayerTF Call()  5\n",
      "     mrcnn_class.shape    : (?, 32, 4) (None, 32, 4)\n",
      "     mrcnn_bbox.shape     : (?, 32, 4, 4) (None, 32, 4, 4)\n",
      "     output_rois.shape    : (3, ?, ?) (None, 32, 4)\n",
      "     gt_class_ids.shape   : (?, ?) (None, None)\n",
      "     gt_bboxes.shape      : (?, ?, 4) (None, None, 4)\n",
      "\n",
      "  > BUILD_PREDICTIONS_TF()\n",
      "    num_rois          :  32\n",
      "    mrcnn_class shape :  Tensor(\"cntxt_layer/Shape:0\", shape=(3,), dtype=int32) (None, 32, 4)\n",
      "    mrcnn_bbox.shape  :  Tensor(\"cntxt_layer/Shape_1:0\", shape=(4,), dtype=int32) (None, 32, 4, 4) (?, 32, 4, 4)\n",
      "    output_rois.shape :  Tensor(\"cntxt_layer/Shape_2:0\", shape=(3,), dtype=int32) (3, None, 4)\n",
      "    pred_classes     :  (?, 32)\n",
      "    pred_classes_exp :  (?, 32, 1)\n",
      "    pred_scores      :  (?, 32, 1)\n",
      "    batch_grid       :  (3, 32)\n",
      "    roi_grid         :  (3, 32)\n",
      "    bbox_idx         :  (3, 32, 1)\n",
      "\n",
      "    -- pred_tensor tf ------------------------------\n",
      "    pred_array shape: (3, 32, 6)\n",
      "    pred_scatter shape is  (3, 4, 32, 6) Tensor(\"cntxt_layer/ScatterNd:0\", shape=(3, 4, 32, 6), dtype=float32)\n",
      "    sort inds shape :  (3, 4, 32)\n",
      "    class_grid   <class 'tensorflow.python.framework.ops.Tensor'> shape (3, 4, 32)\n",
      "    batch_grid   <class 'tensorflow.python.framework.ops.Tensor'> shape (3, 4, 32)\n",
      "    roi_grid shape (3, 4, 32) roi_grid_exp shape  (3, 4, 32, 1)\n",
      "    gather_inds  <class 'tensorflow.python.framework.ops.Tensor'> shape (3, 4, 32, 3)\n",
      "    pred_tensor (gathered)  :  (3, 4, 32, 6)\n",
      "    -- pred_tensor results (bboxes sorted by score) ----\n",
      "    final pred_tensor shape  :  (3, 4, 32, 6)\n",
      "    final pred_cls_cnt shape :  (3, 4)\n",
      "    complete\n",
      "\n",
      "\n",
      "  > BUILD_GROUND TRUTH_TF()\n",
      "    gt_class_ids shape :  (?, ?)     notm_gt_bbox.shape  :  (?, ?, 4)\n",
      "    gt_classes_exp shape  (?, ?, 1)\n",
      "    pred_ scores shape  (?, ?)\n",
      "    bbox_idx shape     (3, 100, 1)\n",
      "    gt_array shape     (?, ?, 6)\n",
      "    bbox_grid  shape   (3, 100)\n",
      "    batch_grid shape   (3, 100)\n",
      "    scatter_ind shape  (3, 100, 3)\n",
      "    gt_scatter shape  (3, 4, 100, 6)\n",
      "    build gathering indexes to use in sorting -------\n",
      "    sort inds shape :  (3, 4, 100)\n",
      "    class_grid  shape  (3, 4, 100)\n",
      "    batch_grid  shape  (3, 4, 100)\n",
      "    bbox_grid   shape  (3, 4, 100)  bbox_grid_exp shape  (3, 4, 100, 1)\n",
      "    gather_inds shape      :  (3, 4, 100, 3)\n",
      "    gt_tensor (gathered)   :  (3, 4, 100, 6)\n",
      "    final gt_tensor shape  :  (3, 4, 100, 6)\n",
      "    final gt_cls_cnt shape :  (3, 4)\n",
      "    complete\n",
      "\n",
      " \n",
      "  > BUILD_GAUSSIAN_TF() for  ['pred_gaussian']\n",
      "    orignal in_tensor shape :  (3, 4, 32, 6)\n",
      "    modified in_tensor shape :  (3, 4, 32, 6)\n",
      "    num of bboxes per class is :  Tensor(\"cntxt_layer/ToInt32_1/x:0\", shape=(), dtype=int32)\n",
      "    after transpose  (128, 128, 3, 32, 2)\n",
      "    pt2_sum shape  (3, 4, 32)\n",
      "    dense shape  (?, 6)\n",
      "    Build Stacked output from dynamically partitioned lists --------------\n",
      "    >> input to MVN.PROB: pos_grid (meshgrid) shape:  (128, 128, 3, 32, 2)\n",
      "    << output probabilities shape: (3, 32, 128, 128)\n",
      "\n",
      "    Scatter out the probability distributions based on class --------------\n",
      "    gaussian_grid      :  (3, 32, 128, 128)\n",
      "    class shape        :  (3, ?)\n",
      "    roi_grid shape     :  (3, 32)\n",
      "    batch_grid shape   :  (3, 32)\n",
      "    scatter_classes    :  (3, 32, 3)\n",
      "    gaussian scattered :  (3, 4, 32, 128, 128)\n",
      "\n",
      "    Reduce sum based on class ---------------------------------------------\n",
      "    gaussian sum type/name :  <class 'tensorflow.python.framework.ops.Tensor'> cntxt_layer/pred_gaussian_1:0 pred_gaussian\n",
      "    gaussian_sum shape     :  (3, 128, 128, 4) Keras tensor  False\n",
      "\n",
      " \n",
      "  > BUILD_GAUSSIAN_TF() for  ['gt_gaussian']\n",
      "    orignal in_tensor shape :  (3, 4, 100, 6)\n",
      "    modified in_tensor shape :  (3, 4, 100, 6)\n",
      "    num of bboxes per class is :  Tensor(\"cntxt_layer/ToInt32_4/x:0\", shape=(), dtype=int32)\n",
      "    after transpose  (128, 128, 3, 100, 2)\n",
      "    pt2_sum shape  (3, 4, 100)\n",
      "    dense shape  (?, 6)\n",
      "    Build Stacked output from dynamically partitioned lists --------------\n"
     ]
    },
    {
     "name": "stdout",
     "output_type": "stream",
     "text": [
      "    >> input to MVN.PROB: pos_grid (meshgrid) shape:  (128, 128, 3, 100, 2)\n",
      "    << output probabilities shape: (3, 100, 128, 128)\n",
      "\n",
      "    Scatter out the probability distributions based on class --------------\n",
      "    gaussian_grid      :  (3, 100, 128, 128)\n",
      "    class shape        :  (3, ?)\n",
      "    roi_grid shape     :  (3, 100)\n",
      "    batch_grid shape   :  (3, 100)\n",
      "    scatter_classes    :  (3, 100, 3)\n",
      "    gaussian scattered :  (3, 4, 100, 128, 128)\n",
      "\n",
      "    Reduce sum based on class ---------------------------------------------\n",
      "    gaussian sum type/name :  <class 'tensorflow.python.framework.ops.Tensor'> cntxt_layer/gt_gaussian:0 gt_gaussian\n",
      "    gaussian_sum shape     :  (3, 128, 128, 4) Keras tensor  False\n",
      "\n",
      "    Output build_gaussian_tf \n",
      "     pred_gaussian :  (3, 128, 128, 4) Keras tensor  False\n",
      "     gt_gaussian   :  (3, 128, 128, 4) Keras tensor  False\n",
      "<<<  shape of pred_gaussian   :  (3, 128, 128, 4)  Keras tensor  True\n",
      "<<<  shape of gt_gaussian     :  (3, 128, 128, 4)  Keras tensor  True\n",
      "\n",
      ">>> rpn_bbox_loss_graph\n",
      "    rpn_match size : (?, ?)\n",
      "    rpn_bbox  size : (?, ?, 4)\n",
      "    tf default session:  None\n",
      "\n",
      ">>> rpn_bbox_loss_graph\n",
      "    rpn_match size : (?, ?)\n",
      "    rpn_bbox  size : (?, ?, 4)\n",
      "    tf default session:  None\n",
      "\n",
      ">>> mrcnn_class_loss_graph \n",
      "    target_class_ids  size : (3, ?)\n",
      "    pred_class_logits size : (?, 32, 4)\n",
      "    active_class_ids  size : (?, ?)\n",
      "\n",
      ">>> mrcnn_class_loss_graph \n",
      "    target_class_ids  size : (?, 1)\n",
      "    pred_class_logits size : (?, 32, 4)\n",
      "    active_class_ids  size : (?, ?)\n",
      "\n",
      ">>> mrcnn_bbox_loss_graph \n",
      "    target_class_ids  size : (3, ?)\n",
      "    pred_bbox size         : (?, 32, 4, 4)\n",
      "    target_bbox size       : (3, ?, ?)\n",
      "\n",
      ">>> mrcnn_bbox_loss_graph \n",
      "    target_class_ids  size : (?, 1)\n",
      "    pred_bbox size         : (?, 32, 4, 4)\n",
      "    target_bbox size       : (?, 32, 4)\n",
      "\n",
      ">>> mrcnn_mask_loss_graph \n",
      "    target_class_ids shape : (3, ?)\n",
      "    target_masks     shape : (3, ?, ?, ?)\n",
      "    pred_masks       shape : (?, 32, 28, 28, 4)\n",
      "    target_class_ids shape : (?,)\n",
      "    target_shape       shape : (4,)\n",
      "    target_masks     shape : (?, ?, ?)\n",
      "    pred_shape       shape : (5,)\n",
      "    pred_masks       shape : (?, ?, ?, ?)\n",
      "     y_true shape: (?, ?, ?)\n",
      "     y_pred shape: (?, ?, ?)\n",
      "     final loss shape: (1, 1) <class 'tensorflow.python.framework.ops.Tensor'> False\n",
      "\n",
      ">>> mrcnn_mask_loss_graph \n",
      "    target_class_ids shape : (?, 1)\n",
      "    target_masks     shape : (?, 32, 28, 28)\n",
      "    pred_masks       shape : (?, 32, 28, 28, 4)\n",
      "    target_class_ids shape : (?,)\n",
      "    target_shape       shape : (4,)\n",
      "    target_masks     shape : (?, ?, ?)\n",
      "    pred_shape       shape : (5,)\n",
      "    pred_masks       shape : (?, ?, ?, ?)\n",
      "     y_true shape: (?, ?, ?)\n",
      "     y_pred shape: (?, ?, ?)\n",
      "     final loss shape: (1, 1) <class 'tensorflow.python.framework.ops.Tensor'> False\n",
      "\n",
      "\n",
      "---------------------------------------------------\n",
      "    building fcn_loss\n",
      "---------------------------------------------------\n",
      "\n",
      "\n",
      "\n",
      "\n",
      "---------------------------------------------------\n",
      "    building fcn_norm_loss\n",
      "---------------------------------------------------\n",
      "\n",
      " Keras Tensors?? \n",
      " output_rois       : True\n",
      " pred_gaussian     : True\n",
      " gt_gaussian       : True\n",
      " mask_loss         : True\n",
      " rpn_proposal_rois : True\n",
      ">>> MaskRCNN build complete\n",
      ">>> MaskRCNN initialization complete\n"
     ]
    }
   ],
   "source": [
    "from IPython.core.display import display, HTML\n",
    "display(HTML(\"<style>.container { width:90% !important; }</style>\"))\n",
    "\n",
    "%matplotlib inline\n",
    "%load_ext autoreload\n",
    "%autoreload 2\n",
    "import os\n",
    "import sys\n",
    "import random\n",
    "import math\n",
    "import re\n",
    "import  gc\n",
    "import time\n",
    "import numpy as np\n",
    "import cv2\n",
    "import matplotlib\n",
    "import matplotlib.pyplot as plt\n",
    "import tensorflow as tf\n",
    "import keras\n",
    "\n",
    "import keras.backend as KB\n",
    "sys.path.append('../')\n",
    "\n",
    "import mrcnn.model     as modellib\n",
    "import mrcnn.visualize as visualize\n",
    "import mrcnn.shapes    as shapes\n",
    "from mrcnn.config      import Config\n",
    "from mrcnn.model       import log\n",
    "from mrcnn.dataset     import Dataset \n",
    "\n",
    "from mrcnn.utils       import stack_tensors, stack_tensors_3d\n",
    "from mrcnn.datagen     import data_generator, load_image_gt\n",
    "from mrcnn.callbacks   import get_layer_output_1,get_layer_output_2\n",
    "from mrcnn.visualize   import plot_gaussian\n",
    "# from mrcnn.pc_layer    import PCTensor\n",
    "# from mrcnn.pc_layer   import PCNLayer\n",
    "\n",
    "# Root directory of the project\n",
    "ROOT_DIR = os.getcwd()\n",
    "MODEL_PATH = 'E:\\Models'\n",
    "# Directory to save logs and trained model\n",
    "MODEL_DIR = os.path.join(MODEL_PATH, \"mrcnn_logs\")\n",
    "# Path to COCO trained weights\n",
    "COCO_MODEL_PATH   = os.path.join(MODEL_PATH, \"mask_rcnn_coco.h5\")\n",
    "RESNET_MODEL_PATH = os.path.join(MODEL_PATH, \"resnet50_weights_tf_dim_ordering_tf_kernels_notop.h5\")\n",
    "\n",
    "print(\"Tensorflow Version: {}   Keras Version : {} \".format(tf.__version__,keras.__version__))\n",
    "import pprint\n",
    "pp = pprint.PrettyPrinter(indent=2, width=100)\n",
    "np.set_printoptions(linewidth=100,precision=4)\n",
    "\n",
    "\n",
    "# Build configuration object -----------------------------------------------\n",
    "config = shapes.ShapesConfig()\n",
    "config.BATCH_SIZE      = 3                  # Batch size is 2 (# GPUs * images/GPU).\n",
    "config.IMAGES_PER_GPU  = 3                  # Must match BATCH_SIZE\n",
    "config.STEPS_PER_EPOCH = 2\n",
    "config.FCN_INPUT_SHAPE = config.IMAGE_SHAPE[0:2]\n",
    "# config.display() \n",
    "\n",
    "# Build shape dataset        -----------------------------------------------\n",
    "# Training dataset\n",
    "# generate 500 shapes \n",
    "dataset_train = shapes.ShapesDataset()\n",
    "dataset_train.load_shapes(500, config.IMAGE_SHAPE[0], config.IMAGE_SHAPE[1])\n",
    "dataset_train.prepare()\n",
    "\n",
    "# Validation dataset\n",
    "dataset_val = shapes.ShapesDataset()\n",
    "dataset_val.load_shapes(50, config.IMAGE_SHAPE[0], config.IMAGE_SHAPE[1])\n",
    "dataset_val.prepare()\n",
    "\n",
    "try :\n",
    "    del model, train_generator, val_generator, mm\n",
    "    gc.collect()\n",
    "except: \n",
    "    pass\n",
    "# Load and display random samples\n",
    "# image_ids = np.random.choice(dataset_train.image_ids, 3)\n",
    "# for image_id in [3]:\n",
    "#     image = dataset_train.load_image(image_id)\n",
    "#     mask, class_ids = dataset_train.load_mask(image_id)\n",
    "#     visualize.display_top_masks(image, mask, class_ids, dataset_train.class_names)\n",
    "print(' COCO Model Path       : ', COCO_MODEL_PATH)\n",
    "print(' Checkpoint folder Path: ', MODEL_DIR)\n",
    "print(MODEL_PATH)\n",
    "print(COCO_MODEL_PATH)\n",
    "print(RESNET_MODEL_PATH)\n",
    "print(MODEL_DIR)\n",
    "\n",
    "\n",
    "np.set_printoptions(linewidth=100, precision=4)\n",
    "\n",
    "\n",
    "batch_size = 3\n",
    "num_rois = 32\n",
    "num_classes = 4\n",
    "num_detections = 100\n",
    "num_rois_per_image = 32\n",
    "rois_per_image = 32\n",
    "\n",
    "try :\n",
    "    del model\n",
    "    print('delete model is successful')\n",
    "    gc.collect()\n",
    "except: \n",
    "    pass\n",
    "\n",
    "# tf.reset_default_graph()\n",
    "# KB.clear_session()\n",
    "model = modellib.MaskRCNN(mode=\"training\", config=config, model_dir=MODEL_DIR)"
   ]
  },
  {
   "cell_type": "code",
   "execution_count": 2,
   "metadata": {
    "ExecuteTime": {
     "end_time": "2018-05-04T16:55:49.389264Z",
     "start_time": "2018-05-04T16:55:40.877759Z"
    },
    "hideCode": false,
    "hidePrompt": false,
    "scrolled": false
   },
   "outputs": [
    {
     "name": "stdout",
     "output_type": "stream",
     "text": [
      "('E:\\\\Models\\\\mrcnn_logs\\\\shapes20180428T1819', 'E:\\\\Models\\\\mrcnn_logs\\\\shapes20180428T1819\\\\mask_rcnn_shapes_5784.h5')\n",
      ">>> load_weights()\n",
      "    load_weights: Loading weights from: E:\\Models\\mrcnn_logs\\shapes20180428T1819\\mask_rcnn_shapes_5784.h5\n",
      "    load_weights: Log directory set to : E:\\Models\\mrcnn_logs\\shapes20180428T1819\\mask_rcnn_shapes_5784.h5\n",
      "    set_log_dir: Checkpoint path set to : E:\\Models\\mrcnn_logs\\shapes20180428T1819\\mask_rcnn_shapes_{epoch:04d}.h5\n",
      "    set_log_dir: self.epoch set to 5785 \n",
      "    Load weights complete :  E:\\Models\\mrcnn_logs\\shapes20180428T1819\\mask_rcnn_shapes_5784.h5\n",
      "Load weights complete\n",
      "\n",
      " Outputs: \n",
      "0      Tensor(\"rpn_class_logits/concat:0\", shape=(?, ?, 2), dtype=float32)\n",
      "1      Tensor(\"rpn_class/concat:0\", shape=(?, ?, 2), dtype=float32)\n",
      "2      Tensor(\"rpn_bbox/concat:0\", shape=(?, ?, 4), dtype=float32)\n",
      "3      Tensor(\"rpn_proposal_rois/packed_2:0\", shape=(3, ?, ?), dtype=float32)\n",
      "4      Tensor(\"proposal_targets/output_rois:0\", shape=(3, ?, ?), dtype=float32)\n",
      "5      Tensor(\"proposal_targets/target_class_ids:0\", shape=(3, ?), dtype=int32)\n",
      "6      Tensor(\"proposal_targets/target_bbox_deltas:0\", shape=(3, ?, ?), dtype=float32)\n",
      "7      Tensor(\"proposal_targets/target_mask:0\", shape=(3, ?, ?, ?), dtype=float32)\n",
      "8      Tensor(\"proposal_targets/roi_gt_boxes:0\", shape=(3, ?, ?), dtype=float32)\n",
      "9      Tensor(\"mrcnn_class_logits/Reshape_1:0\", shape=(?, 32, 4), dtype=float32)\n",
      "10      Tensor(\"mrcnn_class/Reshape_1:0\", shape=(?, 32, 4), dtype=float32)\n",
      "11      Tensor(\"mrcnn_bbox/Reshape:0\", shape=(?, 32, 4, 4), dtype=float32)\n",
      "12      Tensor(\"mrcnn_mask/Reshape_1:0\", shape=(?, 32, 28, 28, 4), dtype=float32)\n",
      "13      Tensor(\"rpn_class_loss/Reshape_2:0\", shape=(1, 1), dtype=float32)\n",
      "14      Tensor(\"rpn_bbox_loss/Reshape:0\", shape=(1, 1), dtype=float32)\n",
      "15      Tensor(\"mrcnn_class_loss/Reshape:0\", shape=(1, 1), dtype=float32)\n",
      "16      Tensor(\"mrcnn_bbox_loss/Reshape_3:0\", shape=(1, 1), dtype=float32)\n",
      "17      Tensor(\"mrcnn_mask_loss/Reshape_3:0\", shape=(1, 1), dtype=float32)\n",
      "18      Tensor(\"cntxt_layer/pred_gaussian_1:0\", shape=(3, 128, 128, 4), dtype=float32)\n",
      "19      Tensor(\"cntxt_layer/gt_gaussian:0\", shape=(3, 128, 128, 4), dtype=float32)\n",
      "20      Tensor(\"cntxt_layer/pred_tensor:0\", shape=(3, 4, 32, 6), dtype=float32)\n",
      "21      Tensor(\"cntxt_layer/gt_tensor:0\", shape=(3, 4, 100, 6), dtype=float32)\n"
     ]
    }
   ],
   "source": [
    "print(model.find_last())\n",
    "# Which weights to start with?\n",
    "init_with = \"last\"  # imagenet, coco, or last\n",
    "\n",
    "if init_with == \"imagenet\":\n",
    "#     loc=model.load_weights(model.get_imagenet_weights(), by_name=True)\n",
    "    loc=model.load_weights(RESNET_MODEL_PATH, by_name=True)\n",
    "elif init_with == \"coco\":\n",
    "    # Load weights trained on MS COCO, but skip layers that\n",
    "    # are different due to the different number of classes\n",
    "    \n",
    "    # See README for instructions to download the COCO weights\n",
    "    loc=model.load_weights(COCO_MODEL_PATH, by_name=True,\n",
    "                       exclude=[\"mrcnn_class_logits\", \"mrcnn_bbox_fc\", \n",
    "                                \"mrcnn_bbox\", \"mrcnn_mask\"])\n",
    "elif init_with == \"last\":\n",
    "    # Load the last model you trained and continue training\n",
    "    loc= model.load_weights(model.find_last()[1], by_name=True)\n",
    "print('Load weights complete')\n",
    "\n",
    "train_generator = data_generator(dataset_train, model.config, shuffle=True,\n",
    "                                 batch_size=model.config.BATCH_SIZE,\n",
    "                                 augment = False)\n",
    "val_generator = data_generator(dataset_val, model.config, shuffle=True, \n",
    "                                batch_size=model.config.BATCH_SIZE,\n",
    "                                augment=False)\n",
    "\n",
    "print('\\n Outputs: ') \n",
    "for i, out in enumerate(model.keras_model.outputs):\n",
    "    print(i , '    ', out)\n"
   ]
  },
  {
   "cell_type": "code",
   "execution_count": null,
   "metadata": {
    "ExecuteTime": {
     "end_time": "2018-05-04T16:47:55.833757Z",
     "start_time": "2018-05-04T16:47:55.584063Z"
    }
   },
   "outputs": [],
   "source": [
    "# print('\\n Outputs: ') \n",
    "# for i, out in enumerate(model.keras_model.outputs):\n",
    "#     print(i , '    ', out)\n"
   ]
  },
  {
   "cell_type": "code",
   "execution_count": 3,
   "metadata": {
    "ExecuteTime": {
     "end_time": "2018-05-04T16:55:58.049173Z",
     "start_time": "2018-05-04T16:55:57.798489Z"
    },
    "hideCode": false,
    "hidePrompt": false
   },
   "outputs": [],
   "source": [
    "train_batch_x, train_batch_y = next(train_generator)"
   ]
  },
  {
   "cell_type": "code",
   "execution_count": 4,
   "metadata": {
    "ExecuteTime": {
     "end_time": "2018-05-04T16:56:01.808050Z",
     "start_time": "2018-05-04T16:56:00.719073Z"
    },
    "hideCode": false,
    "hidePrompt": false
   },
   "outputs": [
    {
     "name": "stdout",
     "output_type": "stream",
     "text": [
      "Image id:  462\n",
      "Image meta [462 128 128   3   0   0 128 128   1   1   1   1]\n",
      "Classes (1: circle, 2: square, 3: triangle ):  [3 2 2]\n"
     ]
    },
    {
     "data": {
      "image/png": "[encoded data removed]",
      "text/plain": [
       "<matplotlib.figure.Figure at 0x2327a72cd30>"
      ]
     },
     "metadata": {},
     "output_type": "display_data"
    },
    {
     "name": "stdout",
     "output_type": "stream",
     "text": [
      "Image id:  288\n",
      "Image meta [288 128 128   3   0   0 128 128   1   1   1   1]\n",
      "Classes (1: circle, 2: square, 3: triangle ):  [1 1]\n"
     ]
    },
    {
     "data": {
      "image/png": "[encoded data removed]",
      "text/plain": [
       "<matplotlib.figure.Figure at 0x2327a772550>"
      ]
     },
     "metadata": {},
     "output_type": "display_data"
    },
    {
     "name": "stdout",
     "output_type": "stream",
     "text": [
      "Image id:  306\n",
      "Image meta [306 128 128   3   0   0 128 128   1   1   1   1]\n",
      "Classes (1: circle, 2: square, 3: triangle ):  [3]\n"
     ]
    },
    {
     "data": {
      "image/png": "[encoded data removed]",
      "text/plain": [
       "<matplotlib.figure.Figure at 0x232008c3b70>"
      ]
     },
     "metadata": {},
     "output_type": "display_data"
    }
   ],
   "source": [
    "# train_batch_x, train_batch_y = next(train_generator)\n",
    "imgmeta_idx = model.keras_model.input_names.index('input_image_meta')\n",
    "img_meta    = train_batch_x[imgmeta_idx]\n",
    "\n",
    "for img_idx in range(config.BATCH_SIZE):\n",
    "    image_id = img_meta[img_idx,0]\n",
    "    image = dataset_train.load_image(image_id)\n",
    "    mask, class_ids = dataset_train.load_mask(image_id)\n",
    "    print('Image id: ',image_id)\n",
    "    print('Image meta', img_meta[img_idx])\n",
    "    print('Classes (1: circle, 2: square, 3: triangle ): ',class_ids)\n",
    "    visualize.display_top_masks(image, mask, class_ids, dataset_train.class_names)"
   ]
  },
  {
   "cell_type": "code",
   "execution_count": 5,
   "metadata": {
    "ExecuteTime": {
     "end_time": "2018-05-04T16:56:13.509497Z",
     "start_time": "2018-05-04T16:56:07.494159Z"
    },
    "hideCode": false,
    "hidePrompt": false,
    "scrolled": false
   },
   "outputs": [
    {
     "name": "stdout",
     "output_type": "stream",
     "text": [
      "/* Inputs */\n",
      "Input  0:  (input_image:0                           ) \t  Input shape: (3, 128, 128, 3)\n",
      "Input  1:  (input_image_meta:0                      ) \t  Input shape: (3, 12)\n",
      "Input  2:  (input_rpn_match:0                       ) \t  Input shape: (3, 4092, 1)\n",
      "Input  3:  (input_rpn_bbox:0                        ) \t  Input shape: (3, 256, 4)\n",
      "Input  4:  (input_gt_class_ids:0                    ) \t  Input shape: (3, 100)\n",
      "Input  5:  (input_gt_boxes:0                        ) \t  Input shape: (3, 100, 4)\n",
      "Input  6:  (input_gt_masks:0                        ) \t  Input shape: (3, 56, 56, 100)\n",
      "<class 'list'>\n",
      "\n",
      "/* Outputs */\n",
      "Output  0: (rpn_class_logits/concat:0               ) \t  Output shape: (3, 4092, 2)\n",
      "Output  1: (rpn_class/concat:0                      ) \t  Output shape: (3, 4092, 2)\n",
      "Output  2: (rpn_bbox/concat:0                       ) \t  Output shape: (3, 4092, 4)\n",
      "Output  3: (rpn_proposal_rois/packed_2:0            ) \t  Output shape: (3, 2000, 4)\n",
      "Output  4: (proposal_targets/output_rois:0          ) \t  Output shape: (3, 32, 4)\n",
      "Output  5: (proposal_targets/target_class_ids:0     ) \t  Output shape: (3, 32)\n",
      "Output  6: (proposal_targets/target_bbox_deltas:0   ) \t  Output shape: (3, 32, 4)\n",
      "Output  7: (proposal_targets/target_mask:0          ) \t  Output shape: (3, 32, 28, 28)\n",
      "Output  8: (proposal_targets/roi_gt_boxes:0         ) \t  Output shape: (3, 32, 4)\n",
      "Output  9: (mrcnn_class_logits/Reshape_1:0          ) \t  Output shape: (3, 32, 4)\n",
      "Output 10: (mrcnn_class/Reshape_1:0                 ) \t  Output shape: (3, 32, 4)\n",
      "Output 11: (mrcnn_bbox/Reshape:0                    ) \t  Output shape: (3, 32, 4, 4)\n",
      "Output 12: (mrcnn_mask/Reshape_1:0                  ) \t  Output shape: (3, 32, 28, 28, 4)\n",
      "Output 13: (rpn_class_loss/Reshape_2:0              ) \t  Output shape: (1, 1)\n",
      "Output 14: (rpn_bbox_loss/Reshape:0                 ) \t  Output shape: (1, 1)\n",
      "Output 15: (mrcnn_class_loss/Reshape:0              ) \t  Output shape: (1, 1)\n",
      "Output 16: (mrcnn_bbox_loss/Reshape_3:0             ) \t  Output shape: (1, 1)\n",
      "Output 17: (mrcnn_mask_loss/Reshape_3:0             ) \t  Output shape: (1, 1)\n",
      "Output 18: (cntxt_layer/pred_gaussian_1:0           ) \t  Output shape: (3, 128, 128, 4)\n",
      "Output 19: (cntxt_layer/gt_gaussian:0               ) \t  Output shape: (3, 128, 128, 4)\n",
      "Output 20: (cntxt_layer/pred_tensor:0               ) \t  Output shape: (3, 4, 32, 6)\n",
      "Output 21: (cntxt_layer/gt_tensor:0                 ) \t  Output shape: (3, 4, 100, 6)\n"
     ]
    }
   ],
   "source": [
    "\n",
    "model_output = get_layer_output_2(model.keras_model, train_batch_x, 1)\n"
   ]
  },
  {
   "cell_type": "code",
   "execution_count": 10,
   "metadata": {
    "ExecuteTime": {
     "end_time": "2018-05-04T17:00:47.081028Z",
     "start_time": "2018-05-04T17:00:46.512626Z"
    },
    "hideCode": false,
    "hidePrompt": false
   },
   "outputs": [
    {
     "name": "stdout",
     "output_type": "stream",
     "text": [
      "<tensorflow.python.client.session.InteractiveSession object at 0x00000232052D90F0>\n",
      "22\n"
     ]
    }
   ],
   "source": [
    "# KB.clear_session()\n",
    "KB.clear_session()\n",
    "sess = tf.InteractiveSession()\n",
    "KB.set_session(sess)\n",
    "print(sess)\n",
    "print(len(model_output))"
   ]
  },
  {
   "cell_type": "markdown",
   "metadata": {},
   "source": [
    "###  Extract input parms to `build_pred_tf()`"
   ]
  },
  {
   "cell_type": "code",
   "execution_count": 15,
   "metadata": {
    "ExecuteTime": {
     "end_time": "2018-05-04T17:02:13.819244Z",
     "start_time": "2018-05-04T17:02:13.543510Z"
    },
    "hideCode": false,
    "hidePrompt": false
   },
   "outputs": [
    {
     "name": "stdout",
     "output_type": "stream",
     "text": [
      "(3, 128, 128, 3)\n"
     ]
    }
   ],
   "source": [
    "mrcnn_class = KB.constant(model_output[10])\n",
    "mrcnn_bbox  = KB.constant(model_output[11])\n",
    "output_rois = KB.constant(model_output[4])\n",
    "input_image        = KB.constant(train_batch_x[0])\n",
    "input_gt_class_ids = KB.constant(train_batch_x[4])\n",
    "input_gt_boxes     = KB.constant(train_batch_x[5])\n",
    "print(input_image.shape)\n",
    "h, w = KB.shape(input_image)[1], KB.shape(input_image)[2]\n",
    "image_scale = KB.cast(KB.stack([h, w, h, w], axis=0), tf.float32)\n",
    "\n",
    "input_normlzd_gt_boxes =  input_gt_boxes / image_scale\n",
    "\n",
    "pred_tensor = KB.constant(model_output[20])"
   ]
  },
  {
   "cell_type": "code",
   "execution_count": 16,
   "metadata": {
    "ExecuteTime": {
     "end_time": "2018-05-04T17:02:19.624366Z",
     "start_time": "2018-05-04T17:02:19.055037Z"
    },
    "hideCode": false,
    "hidePrompt": false,
    "scrolled": false
   },
   "outputs": [
    {
     "name": "stdout",
     "output_type": "stream",
     "text": [
      "[[[  0.         0.         0.         0.         0.         0.999996]\n",
      "  [  0.         0.         0.         0.         0.         0.999996]\n",
      "  [ 85.53507   57.621796 128.       101.088135   0.         0.999995]\n",
      "  [ 76.024704   0.       128.        60.0402     0.         0.999982]\n",
      "  [ 13.289261  65.24481   62.54151  113.18568    0.         0.999974]\n",
      "  [ 22.103733  75.61586   50.462715 103.19139    0.         0.999942]\n",
      "  [ 21.93049   72.280685  56.9629   105.66049    0.         0.999915]\n",
      "  [  0.         0.        94.127884 128.         0.         0.999888]\n",
      "  [ 25.06613   65.813965  60.284325  99.44057    0.         0.999874]\n",
      "  [  3.208536  27.019587  51.526016  72.50126    0.         0.999793]\n",
      "  [ 72.223274  76.13063  126.47227  121.77056    0.         0.999707]\n",
      "  [ 19.160496   0.        80.75029   42.71232    0.         0.999678]\n",
      "  [ 37.764294   0.       128.        55.171047   0.         0.999625]\n",
      "  [  0.        56.657253  51.620148 128.         0.         0.999528]\n",
      "  [  7.62859   33.039814 104.88701  128.         0.         0.999216]\n",
      "  [ 28.28253   46.65799   69.76117   98.52748    0.         0.999091]\n",
      "  [ 39.668236  48.950325  85.00543   94.27112    0.         0.99874 ]\n",
      "  [ 32.595512  55.211975  75.8089   103.41943    0.         0.997991]\n",
      "  [ 50.646225   0.        88.0361    31.553295   0.         0.993914]\n",
      "  [ 17.931507   6.661655 110.50281   86.550995   0.         0.975749]\n",
      "  [ 37.389977  30.59627   75.85254   70.861786   0.         0.948895]\n",
      "  [ 31.651695  74.65646   66.68011  115.540115   0.         0.563684]\n",
      "  [  0.         0.         0.         0.         0.         0.      ]\n",
      "  [  0.         0.         0.         0.         0.         0.      ]\n",
      "  [  0.         0.         0.         0.         0.         0.      ]\n",
      "  [  0.         0.         0.         0.         0.         0.      ]\n",
      "  [  0.         0.         0.         0.         0.         0.      ]\n",
      "  [  0.         0.         0.         0.         0.         0.      ]\n",
      "  [  0.         0.         0.         0.         0.         0.      ]\n",
      "  [  0.         0.         0.         0.         0.         0.      ]\n",
      "  [  0.         0.         0.         0.         0.         0.      ]\n",
      "  [  0.         0.         0.         0.         0.         0.      ]]\n",
      "\n",
      " [[  0.         0.         0.         0.         0.         0.      ]\n",
      "  [  0.         0.         0.         0.         0.         0.      ]\n",
      "  [  0.         0.         0.         0.         0.         0.      ]\n",
      "  [  0.         0.         0.         0.         0.         0.      ]\n",
      "  [  0.         0.         0.         0.         0.         0.      ]\n",
      "  [  0.         0.         0.         0.         0.         0.      ]\n",
      "  [  0.         0.         0.         0.         0.         0.      ]\n",
      "  [  0.         0.         0.         0.         0.         0.      ]\n",
      "  [  0.         0.         0.         0.         0.         0.      ]\n",
      "  [  0.         0.         0.         0.         0.         0.      ]\n",
      "  [  0.         0.         0.         0.         0.         0.      ]\n",
      "  [  0.         0.         0.         0.         0.         0.      ]\n",
      "  [  0.         0.         0.         0.         0.         0.      ]\n",
      "  [  0.         0.         0.         0.         0.         0.      ]\n",
      "  [  0.         0.         0.         0.         0.         0.      ]\n",
      "  [  0.         0.         0.         0.         0.         0.      ]\n",
      "  [  0.         0.         0.         0.         0.         0.      ]\n",
      "  [  0.         0.         0.         0.         0.         0.      ]\n",
      "  [  0.         0.         0.         0.         0.         0.      ]\n",
      "  [  0.         0.         0.         0.         0.         0.      ]\n",
      "  [  0.         0.         0.         0.         0.         0.      ]\n",
      "  [  0.         0.         0.         0.         0.         0.      ]\n",
      "  [  0.         0.         0.         0.         0.         0.      ]\n",
      "  [  0.         0.         0.         0.         0.         0.      ]\n",
      "  [  0.         0.         0.         0.         0.         0.      ]\n",
      "  [  0.         0.         0.         0.         0.         0.      ]\n",
      "  [  0.         0.         0.         0.         0.         0.      ]\n",
      "  [  0.         0.         0.         0.         0.         0.      ]\n",
      "  [  0.         0.         0.         0.         0.         0.      ]\n",
      "  [  0.         0.         0.         0.         0.         0.      ]\n",
      "  [  0.         0.         0.         0.         0.         0.      ]\n",
      "  [  0.         0.         0.         0.         0.         0.      ]]\n",
      "\n",
      " [[ 45.083824  32.18334   97.64604   87.51439    2.         0.999887]\n",
      "  [ 46.05226   27.336245  91.739105  73.24072    2.         0.999876]\n",
      "  [ 27.482496  26.001875  84.69858   76.72437    2.         0.998388]\n",
      "  [ 23.027287  14.403336  94.34796   79.4651     2.         0.99614 ]\n",
      "  [ 35.961975  35.89977   89.3286    90.298355   2.         0.987482]\n",
      "  [  1.260284   1.859102  49.335773  50.546135   2.         0.969502]\n",
      "  [ 57.371735  32.360435 110.22365   85.14821    2.         0.667941]\n",
      "  [  0.         9.386072  50.1433    59.014763   2.         0.575274]\n",
      "  [  0.         0.         0.         0.         0.         0.      ]\n",
      "  [  0.         0.         0.         0.         0.         0.      ]\n",
      "  [  0.         0.         0.         0.         0.         0.      ]\n",
      "  [  0.         0.         0.         0.         0.         0.      ]\n",
      "  [  0.         0.         0.         0.         0.         0.      ]\n",
      "  [  0.         0.         0.         0.         0.         0.      ]\n",
      "  [  0.         0.         0.         0.         0.         0.      ]\n",
      "  [  0.         0.         0.         0.         0.         0.      ]\n",
      "  [  0.         0.         0.         0.         0.         0.      ]\n",
      "  [  0.         0.         0.         0.         0.         0.      ]\n",
      "  [  0.         0.         0.         0.         0.         0.      ]\n",
      "  [  0.         0.         0.         0.         0.         0.      ]\n",
      "  [  0.         0.         0.         0.         0.         0.      ]\n",
      "  [  0.         0.         0.         0.         0.         0.      ]\n",
      "  [  0.         0.         0.         0.         0.         0.      ]\n",
      "  [  0.         0.         0.         0.         0.         0.      ]\n",
      "  [  0.         0.         0.         0.         0.         0.      ]\n",
      "  [  0.         0.         0.         0.         0.         0.      ]\n",
      "  [  0.         0.         0.         0.         0.         0.      ]\n",
      "  [  0.         0.         0.         0.         0.         0.      ]\n",
      "  [  0.         0.         0.         0.         0.         0.      ]\n",
      "  [  0.         0.         0.         0.         0.         0.      ]\n",
      "  [  0.         0.         0.         0.         0.         0.      ]\n",
      "  [  0.         0.         0.         0.         0.         0.      ]]\n",
      "\n",
      " [[ 30.623621  83.05907   76.388374 128.         3.         0.998463]\n",
      "  [ 27.737436  61.387985  80.916405 116.49542    3.         0.989199]\n",
      "  [  0.         0.         0.         0.         0.         0.      ]\n",
      "  [  0.         0.         0.         0.         0.         0.      ]\n",
      "  [  0.         0.         0.         0.         0.         0.      ]\n",
      "  [  0.         0.         0.         0.         0.         0.      ]\n",
      "  [  0.         0.         0.         0.         0.         0.      ]\n",
      "  [  0.         0.         0.         0.         0.         0.      ]\n",
      "  [  0.         0.         0.         0.         0.         0.      ]\n",
      "  [  0.         0.         0.         0.         0.         0.      ]\n",
      "  [  0.         0.         0.         0.         0.         0.      ]\n",
      "  [  0.         0.         0.         0.         0.         0.      ]\n",
      "  [  0.         0.         0.         0.         0.         0.      ]\n",
      "  [  0.         0.         0.         0.         0.         0.      ]\n",
      "  [  0.         0.         0.         0.         0.         0.      ]\n",
      "  [  0.         0.         0.         0.         0.         0.      ]\n",
      "  [  0.         0.         0.         0.         0.         0.      ]\n",
      "  [  0.         0.         0.         0.         0.         0.      ]\n",
      "  [  0.         0.         0.         0.         0.         0.      ]\n",
      "  [  0.         0.         0.         0.         0.         0.      ]\n",
      "  [  0.         0.         0.         0.         0.         0.      ]\n",
      "  [  0.         0.         0.         0.         0.         0.      ]\n",
      "  [  0.         0.         0.         0.         0.         0.      ]\n",
      "  [  0.         0.         0.         0.         0.         0.      ]\n",
      "  [  0.         0.         0.         0.         0.         0.      ]\n",
      "  [  0.         0.         0.         0.         0.         0.      ]\n",
      "  [  0.         0.         0.         0.         0.         0.      ]\n",
      "  [  0.         0.         0.         0.         0.         0.      ]\n",
      "  [  0.         0.         0.         0.         0.         0.      ]\n",
      "  [  0.         0.         0.         0.         0.         0.      ]\n",
      "  [  0.         0.         0.         0.         0.         0.      ]\n",
      "  [  0.         0.         0.         0.         0.         0.      ]]]\n"
     ]
    }
   ],
   "source": [
    "# print(input_gt_boxes[0].eval())\n",
    "# print(input_normlzd_gt_boxes[0].eval())\n",
    "print(pred_tensor[0].eval())"
   ]
  },
  {
   "cell_type": "markdown",
   "metadata": {
    "hideCode": false,
    "hidePrompt": false
   },
   "source": [
    "\n",
    "###  Display for visual check - `pred_tensor` is the final result which is passed on to  `build_gaussian_tf()`"
   ]
  },
  {
   "cell_type": "code",
   "execution_count": 18,
   "metadata": {
    "ExecuteTime": {
     "end_time": "2018-05-04T17:02:56.458407Z",
     "start_time": "2018-05-04T17:02:55.838938Z"
    },
    "hideCode": false,
    "hidePrompt": false,
    "scrolled": false
   },
   "outputs": [
    {
     "name": "stdout",
     "output_type": "stream",
     "text": [
      "pred_tensor shape is  (3, 4, 32, 6)\n",
      "Image  0 / Class 0 ------------\n",
      "[[  0.         0.         0.         0.         0.         0.999996]\n",
      " [  0.         0.         0.         0.         0.         0.999996]\n",
      " [ 85.53507   57.621796 128.       101.088135   0.         0.999995]\n",
      " [ 76.024704   0.       128.        60.0402     0.         0.999982]\n",
      " [ 13.289261  65.24481   62.54151  113.18568    0.         0.999974]\n",
      " [ 22.103733  75.61586   50.462715 103.19139    0.         0.999942]\n",
      " [ 21.93049   72.280685  56.9629   105.66049    0.         0.999915]\n",
      " [  0.         0.        94.127884 128.         0.         0.999888]\n",
      " [ 25.06613   65.813965  60.284325  99.44057    0.         0.999874]\n",
      " [  3.208536  27.019587  51.526016  72.50126    0.         0.999793]\n",
      " [ 72.223274  76.13063  126.47227  121.77056    0.         0.999707]\n",
      " [ 19.160496   0.        80.75029   42.71232    0.         0.999678]\n",
      " [ 37.764294   0.       128.        55.171047   0.         0.999625]\n",
      " [  0.        56.657253  51.620148 128.         0.         0.999528]\n",
      " [  7.62859   33.039814 104.88701  128.         0.         0.999216]\n",
      " [ 28.28253   46.65799   69.76117   98.52748    0.         0.999091]\n",
      " [ 39.668236  48.950325  85.00543   94.27112    0.         0.99874 ]\n",
      " [ 32.595512  55.211975  75.8089   103.41943    0.         0.997991]\n",
      " [ 50.646225   0.        88.0361    31.553295   0.         0.993914]\n",
      " [ 17.931507   6.661655 110.50281   86.550995   0.         0.975749]\n",
      " [ 37.389977  30.59627   75.85254   70.861786   0.         0.948895]\n",
      " [ 31.651695  74.65646   66.68011  115.540115   0.         0.563684]\n",
      " [  0.         0.         0.         0.         0.         0.      ]\n",
      " [  0.         0.         0.         0.         0.         0.      ]\n",
      " [  0.         0.         0.         0.         0.         0.      ]\n",
      " [  0.         0.         0.         0.         0.         0.      ]\n",
      " [  0.         0.         0.         0.         0.         0.      ]\n",
      " [  0.         0.         0.         0.         0.         0.      ]\n",
      " [  0.         0.         0.         0.         0.         0.      ]\n",
      " [  0.         0.         0.         0.         0.         0.      ]\n",
      " [  0.         0.         0.         0.         0.         0.      ]\n",
      " [  0.         0.         0.         0.         0.         0.      ]]\n",
      "Image  0 / Class 1 ------------\n",
      "[[0. 0. 0. 0. 0. 0.]\n",
      " [0. 0. 0. 0. 0. 0.]\n",
      " [0. 0. 0. 0. 0. 0.]\n",
      " [0. 0. 0. 0. 0. 0.]\n",
      " [0. 0. 0. 0. 0. 0.]\n",
      " [0. 0. 0. 0. 0. 0.]\n",
      " [0. 0. 0. 0. 0. 0.]\n",
      " [0. 0. 0. 0. 0. 0.]\n",
      " [0. 0. 0. 0. 0. 0.]\n",
      " [0. 0. 0. 0. 0. 0.]\n",
      " [0. 0. 0. 0. 0. 0.]\n",
      " [0. 0. 0. 0. 0. 0.]\n",
      " [0. 0. 0. 0. 0. 0.]\n",
      " [0. 0. 0. 0. 0. 0.]\n",
      " [0. 0. 0. 0. 0. 0.]\n",
      " [0. 0. 0. 0. 0. 0.]\n",
      " [0. 0. 0. 0. 0. 0.]\n",
      " [0. 0. 0. 0. 0. 0.]\n",
      " [0. 0. 0. 0. 0. 0.]\n",
      " [0. 0. 0. 0. 0. 0.]\n",
      " [0. 0. 0. 0. 0. 0.]\n",
      " [0. 0. 0. 0. 0. 0.]\n",
      " [0. 0. 0. 0. 0. 0.]\n",
      " [0. 0. 0. 0. 0. 0.]\n",
      " [0. 0. 0. 0. 0. 0.]\n",
      " [0. 0. 0. 0. 0. 0.]\n",
      " [0. 0. 0. 0. 0. 0.]\n",
      " [0. 0. 0. 0. 0. 0.]\n",
      " [0. 0. 0. 0. 0. 0.]\n",
      " [0. 0. 0. 0. 0. 0.]\n",
      " [0. 0. 0. 0. 0. 0.]\n",
      " [0. 0. 0. 0. 0. 0.]]\n",
      "Image  0 / Class 2 ------------\n",
      "[[ 45.083824  32.18334   97.64604   87.51439    2.         0.999887]\n",
      " [ 46.05226   27.336245  91.739105  73.24072    2.         0.999876]\n",
      " [ 27.482496  26.001875  84.69858   76.72437    2.         0.998388]\n",
      " [ 23.027287  14.403336  94.34796   79.4651     2.         0.99614 ]\n",
      " [ 35.961975  35.89977   89.3286    90.298355   2.         0.987482]\n",
      " [  1.260284   1.859102  49.335773  50.546135   2.         0.969502]\n",
      " [ 57.371735  32.360435 110.22365   85.14821    2.         0.667941]\n",
      " [  0.         9.386072  50.1433    59.014763   2.         0.575274]\n",
      " [  0.         0.         0.         0.         0.         0.      ]\n",
      " [  0.         0.         0.         0.         0.         0.      ]\n",
      " [  0.         0.         0.         0.         0.         0.      ]\n",
      " [  0.         0.         0.         0.         0.         0.      ]\n",
      " [  0.         0.         0.         0.         0.         0.      ]\n",
      " [  0.         0.         0.         0.         0.         0.      ]\n",
      " [  0.         0.         0.         0.         0.         0.      ]\n",
      " [  0.         0.         0.         0.         0.         0.      ]\n",
      " [  0.         0.         0.         0.         0.         0.      ]\n",
      " [  0.         0.         0.         0.         0.         0.      ]\n",
      " [  0.         0.         0.         0.         0.         0.      ]\n",
      " [  0.         0.         0.         0.         0.         0.      ]\n",
      " [  0.         0.         0.         0.         0.         0.      ]\n",
      " [  0.         0.         0.         0.         0.         0.      ]\n",
      " [  0.         0.         0.         0.         0.         0.      ]\n",
      " [  0.         0.         0.         0.         0.         0.      ]\n",
      " [  0.         0.         0.         0.         0.         0.      ]\n",
      " [  0.         0.         0.         0.         0.         0.      ]\n",
      " [  0.         0.         0.         0.         0.         0.      ]\n",
      " [  0.         0.         0.         0.         0.         0.      ]\n",
      " [  0.         0.         0.         0.         0.         0.      ]\n",
      " [  0.         0.         0.         0.         0.         0.      ]\n",
      " [  0.         0.         0.         0.         0.         0.      ]\n",
      " [  0.         0.         0.         0.         0.         0.      ]]\n",
      "Image  0 / Class 3 ------------\n",
      "[[ 30.623621  83.05907   76.388374 128.         3.         0.998463]\n",
      " [ 27.737436  61.387985  80.916405 116.49542    3.         0.989199]\n",
      " [  0.         0.         0.         0.         0.         0.      ]\n",
      " [  0.         0.         0.         0.         0.         0.      ]\n",
      " [  0.         0.         0.         0.         0.         0.      ]\n",
      " [  0.         0.         0.         0.         0.         0.      ]\n",
      " [  0.         0.         0.         0.         0.         0.      ]\n",
      " [  0.         0.         0.         0.         0.         0.      ]\n",
      " [  0.         0.         0.         0.         0.         0.      ]\n",
      " [  0.         0.         0.         0.         0.         0.      ]\n",
      " [  0.         0.         0.         0.         0.         0.      ]\n",
      " [  0.         0.         0.         0.         0.         0.      ]\n",
      " [  0.         0.         0.         0.         0.         0.      ]\n",
      " [  0.         0.         0.         0.         0.         0.      ]\n",
      " [  0.         0.         0.         0.         0.         0.      ]\n",
      " [  0.         0.         0.         0.         0.         0.      ]\n",
      " [  0.         0.         0.         0.         0.         0.      ]\n",
      " [  0.         0.         0.         0.         0.         0.      ]\n",
      " [  0.         0.         0.         0.         0.         0.      ]\n",
      " [  0.         0.         0.         0.         0.         0.      ]\n",
      " [  0.         0.         0.         0.         0.         0.      ]\n",
      " [  0.         0.         0.         0.         0.         0.      ]\n",
      " [  0.         0.         0.         0.         0.         0.      ]\n",
      " [  0.         0.         0.         0.         0.         0.      ]\n",
      " [  0.         0.         0.         0.         0.         0.      ]\n",
      " [  0.         0.         0.         0.         0.         0.      ]\n",
      " [  0.         0.         0.         0.         0.         0.      ]\n",
      " [  0.         0.         0.         0.         0.         0.      ]\n",
      " [  0.         0.         0.         0.         0.         0.      ]\n",
      " [  0.         0.         0.         0.         0.         0.      ]\n",
      " [  0.         0.         0.         0.         0.         0.      ]\n",
      " [  0.         0.         0.         0.         0.         0.      ]]\n"
     ]
    }
   ],
   "source": [
    "np.set_printoptions(linewidth=150, precision=6)\n",
    "# print('scatter shape is ', pred_scatt.get_shape())\n",
    "print('pred_tensor shape is ', pred_tensor.get_shape() )\n",
    "img = 0\n",
    "print('Image ', img , '/ Class 0 ------------')\n",
    "print(pred_tensor[img,0].eval())\n",
    "print('Image ', img , '/ Class 1 ------------')\n",
    "print(pred_tensor[img,1].eval())\n",
    "print('Image ', img , '/ Class 2 ------------')\n",
    "print(pred_tensor[img,2].eval())\n",
    "print('Image ', img , '/ Class 3 ------------')\n",
    "print(pred_tensor[img,3].eval())\n",
    " \n",
    "# cls = 3\n",
    "# print('Image 0 / Class ', cls ,' ------------')\n",
    "# print(pred_tensor[0, cls].eval())\n",
    "# print('Image 1 / Class ', cls ,' ------------')\n",
    "# print(pred_tensor[1, cls].eval())\n",
    "# print('Image 2 / Class ', cls ,' ------------')\n",
    "# print(pred_tensor[2, cls].eval())\n",
    "\n",
    "\n",
    "\n",
    "# print(pred_tensor_out.shape)\n",
    "# print(pred_tensor_out[2,2, :].eval())\n",
    "# print(pred_tensor.shape)\n",
    "# pred_tensor_tst = pred_tensor *[128, 128, 128,128,1,1]\n",
    "# print(pred_tensor_tst[2,2,:].eval())"
   ]
  },
  {
   "cell_type": "markdown",
   "metadata": {
    "hideCode": false,
    "hidePrompt": false
   },
   "source": [
    "##  `build_pred_tf ()` \n",
    "\n",
    "###  Build Pred_Tensor\n",
    "\n",
    "`pred_tensor[:,:,:,1:7]`  == `[116.9736  21.8213  36.2715  45.6026   0.    0.9139   ]`\n",
    "\n",
    "\n",
    "Detections returned by `detect()` routine:\n",
    "\n",
    "`[[ 25.          18.          80.          72.           2.           0.99936014]\n",
    "  [ 51.           3.         106.          71.           3.           0.99924326]`"
   ]
  },
  {
   "cell_type": "code",
   "execution_count": null,
   "metadata": {
    "ExecuteTime": {
     "end_time": "2018-05-04T16:50:10.424178Z",
     "start_time": "2018-05-04T16:50:09.806990Z"
    }
   },
   "outputs": [],
   "source": [
    "def build_predictions_tf(mrcnn_class, mrcnn_bbox, norm_output_rois, config):\n",
    "    # // pass model to TensorBuilder\n",
    "    batch_size      = config.BATCH_SIZE\n",
    "    num_classes     = config.NUM_CLASSES\n",
    "    h, w            = config.IMAGE_SHAPE[:2]\n",
    "    # num_rois        = config.TRAIN_ROIS_PER_IMAGE\n",
    "    num_cols        = 6\n",
    "    num_rois        = KB.int_shape(norm_output_rois)[1]\n",
    "    output_rois = norm_output_rois * np.array([h,w,h,w])   \n",
    "\n",
    "    print()\n",
    "    print('  > BUILD_PREDICTIONS_TF()')\n",
    "    print('    num_rois          : ', num_rois )\n",
    "    print('    mrcnn_class shape : ', KB.shape(mrcnn_class), KB.int_shape(mrcnn_class))\n",
    "    print('    mrcnn_bbox.shape  : ', KB.shape(mrcnn_bbox), KB.int_shape(mrcnn_bbox), mrcnn_bbox.shape )\n",
    "    print('    output_rois.shape : ', KB.shape(output_rois), KB.int_shape(output_rois))\n",
    "    #---------------------------------------------------------------------------\n",
    "    # use the argmaxof each row to determine the dominating (predicted) class\n",
    "    #---------------------------------------------------------------------------\n",
    "    pred_classes     = tf.to_int32(tf.argmax( mrcnn_class,axis=-1))\n",
    "    pred_classes_exp = tf.to_float(tf.expand_dims(pred_classes ,axis=-1))\n",
    "    pred_scores      = tf.reduce_max(mrcnn_class ,axis=-1, keepdims=True)   # (32,)\n",
    "    \n",
    "    # np.set_printoptions(linewidth=100, precision=4)\n",
    "    # print('    pred_classes with highest scores:', pred_classes.get_shape() )\n",
    "    # pred_scores_exp = tf.to_float(tf.expand_dims(pred_scores, axis=-1))\n",
    "    # print('    pred_ scores:', pred_scores.get_shape())\n",
    "    \n",
    "    print('    pred_classes     : ', pred_classes.shape)\n",
    "    print('    pred_classes_exp : ', pred_classes_exp.shape)\n",
    "    print('    pred_scores      : ', pred_scores.shape)\n",
    "    \n",
    "\n",
    "    batch_grid, roi_grid = tf.meshgrid( tf.range(batch_size, dtype=tf.int32),\n",
    "                                        tf.range(num_rois, dtype=tf.int32), indexing = 'ij' )\n",
    "    bbox_idx             = tf.to_float(tf.expand_dims(roi_grid , axis = -1))    \n",
    "    \n",
    "    print('    batch_grid       : ', batch_grid.shape)\n",
    "    print('    roi_grid         : ', roi_grid.shape)\n",
    "    print('    bbox_idx         : ', bbox_idx.shape)\n",
    "    # print(roi_grid.eval())\n",
    "    # print(batch_grid.eval())\n",
    "\n",
    "    #-----------------------------------------------------------------------------------\n",
    "    # This part is used if we want to gather bbox coordinates from mrcnn_bbox \n",
    "    #  Currently we are gathering bbox coordinates form output_roi so we dont need this\n",
    "    #-----------------------------------------------------------------------------------\n",
    "    # bbox_selected    = tf.zeros_like(norm_output_rois)\n",
    "    # print('    bbox_selected    : ', bbox_selected.shape)\n",
    "    # gather_boxes    = tf.stack([batch_grid, roi_grid, pred_classes, ], axis = -1)\n",
    "    # print('-- gather_boxes  ----')\n",
    "    # print('gather_boxes inds', type(gather_boxes), 'shape',tf.shape(gather_boxes).eval())\n",
    "    # print(gather_boxes.eval())\n",
    "    # bbox_selected   = tf.gather_nd(mrcnn_bbox, gather_boxes)\n",
    "    # print('    bbox_selected shape : ', bbox_selected.get_shape())\n",
    "    # print(bbox_selected[0].eval())    \n",
    "    #-----------------------------------------------------------------------------------\n",
    "    \n",
    "    ## moved pred_scores to end -- 30-04-2018\n",
    "    print('\\n    -- pred_tensor tf ------------------------------') \n",
    "    # pred_array  = tf.concat([bbox_idx , output_rois, pred_classes_exp , pred_scores], axis=-1)\n",
    "    pred_array  = tf.concat([ output_rois, pred_classes_exp , pred_scores], axis=-1)\n",
    "    print('    pred_array shape:', pred_array.shape)\n",
    "    \n",
    "    # pred_array = pred_array[~np.all(pred_array[:,:,2:6] == 0, axis=1)]    \n",
    "    # class_ids = tf.to_int32(pred_array[:,:,6])\n",
    "    # print('    class shape: ', class_ids.get_shape())\n",
    "    # print(class_ids.eval())\n",
    "\n",
    "\n",
    "    scatter_ind          = tf.stack([batch_grid , pred_classes, roi_grid],axis = -1)\n",
    "    pred_scatt = tf.scatter_nd(scatter_ind, pred_array, [batch_size, num_classes, num_rois, num_cols])\n",
    "    # print('scatter_ind', type(scatter_ind), 'shape',tf.shape(scatter_ind).eval())\n",
    "    print('    pred_scatter shape is ', pred_scatt.get_shape(), pred_scatt)\n",
    "    \n",
    "    #------------------------------------------------------------------------------------\n",
    "    ## sort pred_scatter in each class dimension based on prediction score (last column)\n",
    "    #------------------------------------------------------------------------------------\n",
    "    # _, sort_inds = tf.nn.top_k(pred_scatt[:,:,:,1], k=pred_scatt.shape[2])   <-- moved score to last column 30-4-2018\n",
    "    _, sort_inds = tf.nn.top_k(pred_scatt[:,:,:,-1], k=pred_scatt.shape[2])\n",
    "    print('    sort inds shape : ', sort_inds.get_shape())\n",
    "\n",
    "    # build indexes to gather rows from pred_scatter based on sort order \n",
    "    \n",
    "    class_grid, batch_grid, roi_grid = tf.meshgrid(tf.range(num_classes),tf.range(batch_size), tf.range(num_rois))\n",
    "    roi_grid_exp = tf.to_float(tf.expand_dims(roi_grid, axis = -1))\n",
    "    \n",
    "    gather_inds  = tf.stack([batch_grid , class_grid, sort_inds],axis = -1)\n",
    "    pred_tensor  = tf.gather_nd(pred_scatt, gather_inds, name = 'pred_tensor')\n",
    "    \n",
    "    print('    class_grid  ', type(class_grid) , 'shape', class_grid.get_shape())\n",
    "    print('    batch_grid  ', type(batch_grid) , 'shape', batch_grid.get_shape())\n",
    "    print('    roi_grid shape', roi_grid.get_shape(), 'roi_grid_exp shape ', roi_grid_exp.get_shape())\n",
    "    print('    gather_inds ', type(gather_inds), 'shape', gather_inds.get_shape())\n",
    "    print('    pred_tensor (gathered)  : ', pred_tensor.get_shape())\n",
    "\n",
    "    # append an index to the end of each row --- commented out 30-04-2018\n",
    "    # pred_tensor  = tf.concat([pred_tensor, roi_grid_exp], axis = -1)\n",
    "    \n",
    "    # count based on pred score > 0 (changed from index 0 to -1 on 30-04-2018)\n",
    "    pred_cls_cnt = tf.count_nonzero(pred_tensor[:,:,:,-1], axis = -1, name = 'pred_cls_count')\n",
    "    \n",
    "    print('    -- pred_tensor results (bboxes sorted by score) ----')    \n",
    "    print('    final pred_tensor shape  : ', pred_tensor.get_shape())\n",
    "    print('    final pred_cls_cnt shape : ',pred_cls_cnt.get_shape())\n",
    "    print('    complete')\n",
    "\n",
    "    return  [pred_tensor, pred_cls_cnt] \n",
    "    "
   ]
  },
  {
   "cell_type": "code",
   "execution_count": null,
   "metadata": {
    "ExecuteTime": {
     "end_time": "2018-05-04T16:50:11.217011Z",
     "start_time": "2018-05-04T16:50:10.858625Z"
    },
    "hideCode": false,
    "hideOutput": true,
    "hidePrompt": false,
    "scrolled": true
   },
   "outputs": [],
   "source": [
    " pred_tensor , pred_cls_cnt  = build_predictions_tf(mrcnn_class, mrcnn_bbox, output_rois, model.config)"
   ]
  },
  {
   "cell_type": "markdown",
   "metadata": {
    "hideCode": false,
    "hidePrompt": false
   },
   "source": [
    "### Copy of `build_gaussian_tf()`"
   ]
  },
  {
   "cell_type": "code",
   "execution_count": null,
   "metadata": {
    "ExecuteTime": {
     "end_time": "2018-05-04T16:41:56.948577Z",
     "start_time": "2018-05-04T16:41:56.257759Z"
    }
   },
   "outputs": [],
   "source": [
    "def development_build_predictions_tf(mrcnn_class, mrcnn_bbox, norm_output_rois, config):\n",
    "    # // pass model to TensorBuilder\n",
    "    batch_size      = config.BATCH_SIZE\n",
    "    num_classes     = config.NUM_CLASSES\n",
    "    h, w            = config.IMAGE_SHAPE[:2]\n",
    "    # num_rois        = config.TRAIN_ROIS_PER_IMAGE\n",
    "    num_cols        = 6\n",
    "    num_rois        = KB.int_shape(norm_output_rois)[1]\n",
    "    output_rois = norm_output_rois * np.array([h,w,h,w])   \n",
    "\n",
    "    print()\n",
    "    print('  > BUILD_PREDICTIONS_TF()')\n",
    "    print('    num_rois          : ', num_rois )\n",
    "    print('    mrcnn_class shape : ', KB.shape(mrcnn_class), KB.int_shape(mrcnn_class))\n",
    "    print('    mrcnn_bbox.shape  : ', KB.shape(mrcnn_bbox), KB.int_shape(mrcnn_bbox), mrcnn_bbox.shape )\n",
    "    print('    output_rois.shape : ', KB.shape(output_rois), KB.int_shape(output_rois))\n",
    "    #---------------------------------------------------------------------------\n",
    "    # use the argmaxof each row to determine the dominating (predicted) class\n",
    "    #---------------------------------------------------------------------------\n",
    "    pred_classes     = tf.to_int32(tf.argmax( mrcnn_class,axis=-1))\n",
    "    pred_classes_exp = tf.to_float(tf.expand_dims(pred_classes ,axis=-1))\n",
    "    pred_scores      = tf.reduce_max(mrcnn_class ,axis=-1, keepdims=True)   # (32,)   \n",
    "    pred_scores_exp  = tf.to_float(tf.expand_dims(pred_scores, axis=-1))\n",
    "    np.set_printoptions(linewidth=100, precision=4)\n",
    "    \n",
    "    print('    pred_classes with highest scores:', pred_classes.get_shape() )\n",
    "#   print('    pred_ scores:', pred_scores.eval())\n",
    "    \n",
    "    print('    pred_classes     : ', pred_classes.shape)\n",
    "    print('    pred_classes_exp : ', pred_classes_exp.shape)\n",
    "    print('    pred_scores      : ', pred_scores.shape)\n",
    "    \n",
    "    _temp = tf.stack([tf.to_float(pred_classes), tf.squeeze(pred_scores)],axis = -1)\n",
    "    print(_temp.shape)\n",
    "    print(_temp[0].eval())\n",
    "    \n",
    "    batch_grid, roi_grid = tf.meshgrid( tf.range(batch_size, dtype=tf.int32),\n",
    "                                        tf.range(num_rois, dtype=tf.int32), indexing = 'ij' )\n",
    "    bbox_idx             = tf.to_float(tf.expand_dims(roi_grid , axis = -1))    \n",
    "    \n",
    "    print('    batch_grid       : ', batch_grid.shape)\n",
    "    print('    roi_grid         : ', roi_grid.shape)\n",
    "    print('    bbox_idx         : ', bbox_idx.shape)\n",
    "    # print(roi_grid.eval())\n",
    "    # print(batch_grid.eval())\n",
    "\n",
    "    #-----------------------------------------------------------------------------------\n",
    "    # This part is used if we want to gather bbox coordinates from mrcnn_bbox \n",
    "    #  Currently we are gathering bbox coordinates form output_roi so we dont need this\n",
    "    #-----------------------------------------------------------------------------------\n",
    "    # bbox_selected    = tf.zeros_like(norm_output_rois)\n",
    "    # print('    bbox_selected    : ', bbox_selected.shape)\n",
    "    # gather_boxes    = tf.stack([batch_grid, roi_grid, pred_classes, ], axis = -1)\n",
    "    # print('-- gather_boxes  ----')\n",
    "    # print('gather_boxes inds', type(gather_boxes), 'shape',tf.shape(gather_boxes).eval())\n",
    "    # print(gather_boxes.eval())\n",
    "    # bbox_selected   = tf.gather_nd(mrcnn_bbox, gather_boxes)\n",
    "    # print('    bbox_selected shape : ', bbox_selected.get_shape())\n",
    "    # print(bbox_selected[0].eval())    \n",
    "    #-----------------------------------------------------------------------------------\n",
    "    \n",
    "    ## moved pred_scores to end -- 30-04-2018\n",
    "    print('\\n    -- pred_tensor tf ------------------------------') \n",
    "    # pred_array  = tf.concat([bbox_idx , output_rois, pred_classes_exp , pred_scores], axis=-1)\n",
    "    pred_array  = tf.concat([ output_rois, pred_classes_exp , pred_scores], axis=-1)\n",
    "    print('    pred_array shape:', pred_array.shape)\n",
    "    \n",
    "    # pred_array = pred_array[~np.all(pred_array[:,:,2:6] == 0, axis=1)]    \n",
    "    # class_ids = tf.to_int32(pred_array[:,:,6])\n",
    "    # print('    class shape: ', class_ids.get_shape())\n",
    "    # print(class_ids.eval())\n",
    "\n",
    "\n",
    "    scatter_ind          = tf.stack([batch_grid , pred_classes, roi_grid],axis = -1)\n",
    "    pred_scatt = tf.scatter_nd(scatter_ind, pred_array, [batch_size, num_classes, num_rois, num_cols])\n",
    "    # print('scatter_ind', type(scatter_ind), 'shape',tf.shape(scatter_ind).eval())\n",
    "    print('    pred_scatter shape is ', pred_scatt.get_shape(), pred_scatt)\n",
    "    \n",
    "    #------------------------------------------------------------------------------------\n",
    "    ## sort pred_scatter in each class dimension based on prediction score (last column)\n",
    "    #------------------------------------------------------------------------------------\n",
    "    # _, sort_inds = tf.nn.top_k(pred_scatt[:,:,:,1], k=pred_scatt.shape[2])   <-- moved score to last column 30-4-2018\n",
    "    _, sort_inds = tf.nn.top_k(pred_scatt[:,:,:,-1], k=pred_scatt.shape[2])\n",
    "    print('    sort inds shape : ', sort_inds.get_shape())\n",
    "\n",
    "    # build indexes to gather rows from pred_scatter based on sort order \n",
    "    \n",
    "    class_grid, batch_grid, roi_grid = tf.meshgrid(tf.range(num_classes),tf.range(batch_size), tf.range(num_rois))\n",
    "    roi_grid_exp = tf.to_float(tf.expand_dims(roi_grid, axis = -1))\n",
    "    \n",
    "    gather_inds  = tf.stack([batch_grid , class_grid, sort_inds],axis = -1)\n",
    "    pred_tensor  = tf.gather_nd(pred_scatt, gather_inds, name = 'pred_tensor')\n",
    "    \n",
    "    print('    class_grid  ', type(class_grid) , 'shape', class_grid.get_shape())\n",
    "    print('    batch_grid  ', type(batch_grid) , 'shape', batch_grid.get_shape())\n",
    "    print('    roi_grid shape', roi_grid.get_shape(), 'roi_grid_exp shape ', roi_grid_exp.get_shape())\n",
    "    print('    gather_inds ', type(gather_inds), 'shape', gather_inds.get_shape())\n",
    "    print('    pred_tensor (gathered)  : ', pred_tensor.get_shape())\n",
    "\n",
    "    # append an index to the end of each row --- commented out 30-04-2018\n",
    "    # pred_tensor  = tf.concat([pred_tensor, roi_grid_exp], axis = -1)\n",
    "    \n",
    "    # count based on pred score > 0 (changed from index 0 to -1 on 30-04-2018)\n",
    "    pred_cls_cnt = tf.count_nonzero(pred_tensor[:,:,:,-1], axis = -1, name = 'pred_cls_count')\n",
    "    \n",
    "    print('    -- pred_tensor results (bboxes sorted by score) ----')    \n",
    "    print('    final pred_tensor shape  : ', pred_tensor.get_shape())\n",
    "    print('    final pred_cls_cnt shape : ',pred_cls_cnt.get_shape())\n",
    "    print('    complete')\n",
    "\n",
    "    return  [pred_tensor, pred_cls_cnt] \n",
    "    "
   ]
  },
  {
   "cell_type": "code",
   "execution_count": null,
   "metadata": {
    "ExecuteTime": {
     "end_time": "2018-05-04T16:41:57.864229Z",
     "start_time": "2018-05-04T16:41:57.281143Z"
    },
    "hideCode": false,
    "hideOutput": true,
    "hidePrompt": false,
    "scrolled": false
   },
   "outputs": [],
   "source": [
    " pred_tensor2 , pred_cls_cnt2  = development_build_predictions_tf(mrcnn_class, mrcnn_bbox, output_rois, model.config)"
   ]
  },
  {
   "cell_type": "markdown",
   "metadata": {
    "hideCode": false,
    "hidePrompt": false
   },
   "source": [
    "###  Test `means`, `covar`, `gauss_grid`, and `gauss_sum ` between development version and final version"
   ]
  },
  {
   "cell_type": "code",
   "execution_count": null,
   "metadata": {
    "ExecuteTime": {
     "end_time": "2018-05-04T16:29:49.313931Z",
     "start_time": "2018-05-04T16:29:48.092590Z"
    },
    "hideCode": false,
    "hidePrompt": false
   },
   "outputs": [],
   "source": [
    "print(pred_tensor.get_shape(), pred_tensor2.get_shape())\n",
    "print(np.all(pred_tensor.eval() == pred_tensor2.eval()))\n",
    "# tst1 = means.eval()\n",
    "# tst2 = means2.eval()\n",
    "# print(tst1.shape, tst2.shape)\n",
    "\n",
    "# print(tst1[0,:10])\n",
    "# print()\n",
    "# print(tst2[0,:10])\n",
    "# print(np.all(tst1 == tst2))\n",
    "# print()\n",
    "# del tst1, tst2"
   ]
  },
  {
   "cell_type": "code",
   "execution_count": null,
   "metadata": {
    "ExecuteTime": {
     "end_time": "2018-05-04T16:50:26.299995Z",
     "start_time": "2018-05-04T16:50:25.744478Z"
    },
    "hideCode": false,
    "hidePrompt": false,
    "scrolled": false
   },
   "outputs": [],
   "source": [
    "tst1 = pred_tensor.eval()\n",
    "tst2 = pred_tensor2.eval()"
   ]
  },
  {
   "cell_type": "code",
   "execution_count": null,
   "metadata": {
    "ExecuteTime": {
     "end_time": "2018-05-04T16:31:08.683686Z",
     "start_time": "2018-05-04T16:31:08.427534Z"
    },
    "scrolled": false
   },
   "outputs": [],
   "source": [
    "print(tst1[0])"
   ]
  },
  {
   "cell_type": "code",
   "execution_count": null,
   "metadata": {
    "ExecuteTime": {
     "end_time": "2018-05-04T16:46:19.731291Z",
     "start_time": "2018-05-04T16:46:19.281096Z"
    }
   },
   "outputs": [],
   "source": [
    "print(output_rois.eval())"
   ]
  },
  {
   "cell_type": "code",
   "execution_count": null,
   "metadata": {},
   "outputs": [],
   "source": []
  },
  {
   "cell_type": "code",
   "execution_count": null,
   "metadata": {},
   "outputs": [],
   "source": []
  },
  {
   "cell_type": "code",
   "execution_count": null,
   "metadata": {},
   "outputs": [],
   "source": []
  },
  {
   "cell_type": "code",
   "execution_count": null,
   "metadata": {},
   "outputs": [],
   "source": []
  },
  {
   "cell_type": "code",
   "execution_count": null,
   "metadata": {},
   "outputs": [],
   "source": []
  },
  {
   "cell_type": "code",
   "execution_count": null,
   "metadata": {},
   "outputs": [],
   "source": []
  },
  {
   "cell_type": "code",
   "execution_count": null,
   "metadata": {},
   "outputs": [],
   "source": []
  },
  {
   "cell_type": "code",
   "execution_count": null,
   "metadata": {},
   "outputs": [],
   "source": []
  },
  {
   "cell_type": "markdown",
   "metadata": {
    "hideCode": false,
    "hidePrompt": false
   },
   "source": [
    "### Compute min and max of `gauss_sum()`"
   ]
  },
  {
   "cell_type": "code",
   "execution_count": null,
   "metadata": {
    "ExecuteTime": {
     "end_time": "2018-05-02T09:57:11.807587Z",
     "start_time": "2018-05-02T09:56:55.286325Z"
    },
    "hideCode": false,
    "hidePrompt": false
   },
   "outputs": [],
   "source": [
    "print(gauss_sum.shape)\n",
    "for img in [0,1,2]:\n",
    "    for cls in range(4):\n",
    "        gauss_mean = KB.mean(gauss_sum[img,:,:,cls]).eval()\n",
    "        gauss_min  =  KB.min(gauss_sum[img, :,:,cls]).eval()\n",
    "        gauss_max  =  KB.max(gauss_sum[img, :,:,cls]).eval()\n",
    "        print('Img/bbx: ', img, '/',cls ,'   Mean: ', gauss_mean, '\\t Max: ' , gauss_max, '\\t Min :', gauss_min)"
   ]
  },
  {
   "cell_type": "code",
   "execution_count": null,
   "metadata": {
    "hideCode": false,
    "hidePrompt": false
   },
   "outputs": [],
   "source": []
  },
  {
   "cell_type": "code",
   "execution_count": null,
   "metadata": {
    "hideCode": false,
    "hidePrompt": false
   },
   "outputs": [],
   "source": []
  },
  {
   "cell_type": "code",
   "execution_count": null,
   "metadata": {
    "hideCode": false,
    "hidePrompt": false
   },
   "outputs": [],
   "source": []
  },
  {
   "cell_type": "code",
   "execution_count": null,
   "metadata": {
    "ExecuteTime": {
     "end_time": "2018-05-02T08:44:41.071788Z",
     "start_time": "2018-05-02T08:44:33.434419Z"
    },
    "hideCode": false,
    "hidePrompt": false
   },
   "outputs": [],
   "source": [
    "pred_gauss = tf.constant(layers_out[19])\n",
    "print(pred_gauss.shape)\n",
    "for img in [0,1,2]:\n",
    "    for cls in range(4):\n",
    "        gauss_mean = KB.mean(pred_gauss[img,:,:,cls]).eval()\n",
    "        gauss_min  = KB.min(pred_gauss[img, :,:,cls]).eval()\n",
    "        gauss_max  = KB.max(pred_gauss[img, :,:,cls]).eval()\n",
    "        print('Img/bbx: ', img, '/',cls ,'   Mean: ', gauss_mean, '\\t Max: ' , gauss_max, '\\t Min :', gauss_min)"
   ]
  },
  {
   "cell_type": "markdown",
   "metadata": {
    "hideCode": false,
    "hidePrompt": false
   },
   "source": [
    "\n",
    "## Plot Predicted and Ground Truth Probability Heatmaps `pred_gaussian` and `gt_gaussian` (Tensorflow)\n",
    "\n",
    "`pred_gaussian2` and `gt_gaussian2` from Tensorflow PCN layer"
   ]
  },
  {
   "cell_type": "code",
   "execution_count": null,
   "metadata": {
    "hideCode": false,
    "hidePrompt": false
   },
   "outputs": [],
   "source": [
    "%matplotlib notebook\n",
    "# gt_heatmap  = layers_out[27]     # gt_gaussiam \n",
    "# pred_heatmap= layers_out[24]  # pred_gaussian\n",
    "gt_heatmap  = layers_out[19]     # gt_gaussiam \n",
    "pred_heatmap= layers_out[18]  # pred_gaussian\n",
    "print('gt_gaussian heatmap shape : ', gt_heatmap.shape, ' pred_gaussian heatmap shape: ', pred_heatmap.shape)\n",
    "num_images = 1 # config.IMAGES_PER_GPU\n",
    "num_classes = config.NUM_CLASSES\n",
    "\n",
    "img = 0\n",
    "\n",
    "image_id = img_meta[img,0]\n",
    "print('Image id: ',image_id)\n",
    "print('Classes (1: circle, 2: square, 3: triangle ): ')\n",
    "image = dataset_train.load_image(image_id)\n",
    "mask, class_ids = dataset_train.load_mask(image_id)\n",
    "visualize.display_top_masks(image, mask, class_ids, dataset_train.class_names)\n",
    "\n",
    "\n",
    "for cls in range(1,num_classes):\n",
    "    ttl = 'GROUND TRUTH HEATMAP - image :  {} class: {} '.format(img,cls)\n",
    "    print(' *** Zout  ', gt_heatmap[img,:,:,cls].shape, ttl)   \n",
    "    plot_gaussian( gt_heatmap[img,:,:,cls], title = ttl)\n",
    "    \n",
    "    ttl = 'PREDICTED heatmap  - image :  {} class: {} '.format(img,cls)     \n",
    "    print(' *** pred_heatmap ', pred_heatmap[img,:,:,cls].shape, ttl)   \n",
    "    plot_gaussian(pred_heatmap[img,:,:,cls], title = ttl)  "
   ]
  },
  {
   "cell_type": "code",
   "execution_count": null,
   "metadata": {
    "hideCode": false,
    "hidePrompt": false
   },
   "outputs": [],
   "source": []
  },
  {
   "cell_type": "code",
   "execution_count": null,
   "metadata": {
    "hideCode": false,
    "hidePrompt": false
   },
   "outputs": [],
   "source": []
  },
  {
   "cell_type": "markdown",
   "metadata": {
    "hideCode": false,
    "hidePrompt": false
   },
   "source": [
    "###  Softmax Sparse Cross Entropy Ignoring Last Label -- Used in Keras FCN"
   ]
  },
  {
   "cell_type": "code",
   "execution_count": null,
   "metadata": {
    "ExecuteTime": {
     "end_time": "2018-04-27T07:53:31.114036Z",
     "start_time": "2018-04-27T07:53:30.853311Z"
    },
    "hideCode": false,
    "hidePrompt": false
   },
   "outputs": [],
   "source": [
    "import keras.backend as K \n",
    "\n",
    "y_pred = tf.placeholder(dtype=tf.float32, shape=(16,320,320,20))\n",
    "y_true = tf.placeholder(dtype=tf.float32, shape=(16,320,320,1))\n",
    "print(K.int_shape(y_pred), K.int_shape(y_true))\n",
    "y_pred = K.reshape(y_pred, (-1, K.int_shape(y_pred)[-1]))\n",
    "print(K.int_shape(y_pred))\n",
    "log_softmax = tf.nn.log_softmax(y_pred)\n",
    "print(K.int_shape(log_softmax))\n",
    "\n",
    "y_true = K.flatten(y_true)\n",
    "print(K.int_shape(y_true))\n",
    "\n",
    "y_true = K.one_hot(tf.to_int32(y_true), K.int_shape(y_pred)[-1]+1)\n",
    "print(K.int_shape(y_true))\n",
    "\n",
    "unpacked = tf.unstack(y_true, axis=-1)\n",
    "print(len(unpacked), unpacked[0].shape)\n",
    "\n",
    "y_true = tf.stack(unpacked[:-1], axis=-1)\n",
    "print(K.int_shape(y_true))\n",
    "\n",
    "\n",
    "cross_entropy = -K.sum(y_true * log_softmax, axis=1)\n",
    "print(K.int_shape(cross_entropy))\n",
    "\n",
    "cross_entropy_mean = K.mean(cross_entropy)\n",
    "print(K.int_shape(cross_entropy_mean))\n",
    "\n",
    "\n",
    "\n",
    "\n",
    "# import keras.backend as K\n",
    "# print(K.int_shape(bef_pos)[-1])\n",
    "# unpacked  = K.flatten(test)\n",
    "# unpacked.shape"
   ]
  },
  {
   "cell_type": "code",
   "execution_count": null,
   "metadata": {
    "ExecuteTime": {
     "end_time": "2018-04-27T08:11:57.244128Z",
     "start_time": "2018-04-27T08:11:57.021539Z"
    },
    "hideCode": false,
    "hidePrompt": false
   },
   "outputs": [],
   "source": [
    "# pos_grid_1[:,:,0,0,:].eval()"
   ]
  },
  {
   "cell_type": "markdown",
   "metadata": {
    "ExecuteTime": {
     "end_time": "2018-04-16T23:19:54.102900Z",
     "start_time": "2018-04-16T23:19:53.889289Z"
    },
    "hideCode": false,
    "hidePrompt": false
   },
   "source": [
    "### Experimental code to Create mask for class bounding boxes\n"
   ]
  },
  {
   "cell_type": "code",
   "execution_count": null,
   "metadata": {
    "ExecuteTime": {
     "end_time": "2018-04-17T08:37:04.047619Z",
     "start_time": "2018-04-17T08:37:03.810018Z"
    },
    "hideCode": false,
    "hidePrompt": false
   },
   "outputs": [],
   "source": [
    "print(gauss_scatt.shape)\n",
    "print(gauss_grid.shape)"
   ]
  },
  {
   "cell_type": "code",
   "execution_count": null,
   "metadata": {
    "ExecuteTime": {
     "end_time": "2018-04-17T08:44:16.866844Z",
     "start_time": "2018-04-17T08:44:16.635221Z"
    },
    "hideCode": false,
    "hidePrompt": false
   },
   "outputs": [],
   "source": [
    "mask_arr = tf.zeros_like(gauss_grid)\n",
    "mask = mask_arr[0]\n",
    "mask.shape"
   ]
  },
  {
   "cell_type": "code",
   "execution_count": null,
   "metadata": {
    "ExecuteTime": {
     "end_time": "2018-04-17T08:44:30.822194Z",
     "start_time": "2018-04-17T08:44:30.147674Z"
    },
    "hideCode": false,
    "hidePrompt": false
   },
   "outputs": [],
   "source": [
    "boxes = tf.round(stacked_tensor[0,:,1:5]).eval()\n",
    "boxes[0]"
   ]
  },
  {
   "cell_type": "code",
   "execution_count": null,
   "metadata": {
    "ExecuteTime": {
     "end_time": "2018-04-17T08:42:48.813538Z",
     "start_time": "2018-04-17T08:42:48.588945Z"
    },
    "hideCode": false,
    "hidePrompt": false
   },
   "outputs": [],
   "source": [
    "##-----------------------------------------------------------------------------\n",
    "## Build mesh-grid to hold pixel coordinates \n",
    "##-----------------------------------------------------------------------------\n",
    "X = tf.range(img_w, dtype=tf.int32)\n",
    "Y = tf.range(img_h, dtype=tf.int32)\n",
    "X, Y = tf.meshgrid(X, Y)\n",
    "# grid1 = tf.stack([X,Y], axis=-1)\n",
    "# print('grid1 shape ', grid1.shape)\n",
    "# print(grid1[0,:,:].eval())"
   ]
  },
  {
   "cell_type": "code",
   "execution_count": null,
   "metadata": {
    "ExecuteTime": {
     "end_time": "2018-04-16T09:59:30.850107Z",
     "start_time": "2018-04-16T09:59:30.182014Z"
    },
    "hideCode": false,
    "hidePrompt": false,
    "scrolled": false
   },
   "outputs": [],
   "source": [
    "np.set_printoptions(linewidth=150, threshold=10000)\n",
    "from scipy.stats import  multivariate_normal\n",
    "# Build mesh-grid to hold pixel coordinates ----------------------------------\n",
    "XX = np.arange(0, img_w, 1)\n",
    "YY = np.arange(0, img_h, 1)\n",
    "XX, YY = np.meshgrid(XX, YY)\n",
    "pos  = np.empty(XX.shape + (2,))   # concatinate shape of x to make ( x.rows, x.cols, 2)\n",
    "pos[:,:,0] = XX;\n",
    "pos[:,:,1] = YY;\n",
    "# print(XX)\n",
    "# print(YY)\n",
    "# print(pos[0,:,:])\n",
    "# print(pos[0])\n",
    "# print(grid[0].eval())\n",
    "print(' pos type    ', type(pos), type(grid))\n",
    "print(' grid shape ', pos.shape, grid.shape)\n",
    "print(np.all(pos == grid.eval()))\n",
    "print(' mean  ', mean)\n",
    "print(' covar ', covar)\n",
    "mvna    = multivariate_normal(mean, covar)\n",
    "prob_a = mvna.pdf(pos)\n",
    "\n",
    "mvnb = multivariate_normal(mean, covar_sqrd)\n",
    "prob_b = mvnb.pdf(pos)\n",
    "\n",
    "print(prob_a[35:50, 45:54])\n",
    "max_a = np.max(prob_a)\n",
    "print(np.unravel_index(np.argmax(prob_a) , prob_a.shape) )\n",
    "\n",
    "print()\n",
    "\n",
    "print(' covar ', covar_sqrd)\n",
    "print(prob_b[35:50, 45:54])\n",
    "max_b = np.max(prob_b)\n",
    "print(np.unravel_index(np.argmax(prob_b) , prob_b.shape) )\n",
    "\n",
    "print('max a , max_b ', max_a, max_b, max_a/max_b)"
   ]
  },
  {
   "cell_type": "code",
   "execution_count": null,
   "metadata": {
    "hideCode": false,
    "hidePrompt": false
   },
   "outputs": [],
   "source": []
  },
  {
   "cell_type": "code",
   "execution_count": null,
   "metadata": {
    "hideCode": false,
    "hidePrompt": false
   },
   "outputs": [],
   "source": []
  },
  {
   "cell_type": "code",
   "execution_count": null,
   "metadata": {
    "hideCode": false,
    "hidePrompt": false
   },
   "outputs": [],
   "source": []
  },
  {
   "cell_type": "code",
   "execution_count": null,
   "metadata": {
    "hideCode": false,
    "hidePrompt": false
   },
   "outputs": [],
   "source": []
  },
  {
   "cell_type": "code",
   "execution_count": null,
   "metadata": {
    "hideCode": false,
    "hidePrompt": false
   },
   "outputs": [],
   "source": []
  },
  {
   "cell_type": "code",
   "execution_count": null,
   "metadata": {
    "hideCode": false,
    "hidePrompt": false
   },
   "outputs": [],
   "source": []
  },
  {
   "cell_type": "code",
   "execution_count": null,
   "metadata": {
    "hideCode": false,
    "hidePrompt": false
   },
   "outputs": [],
   "source": []
  },
  {
   "cell_type": "code",
   "execution_count": null,
   "metadata": {
    "hideCode": false,
    "hidePrompt": false
   },
   "outputs": [],
   "source": []
  },
  {
   "cell_type": "markdown",
   "metadata": {
    "hideCode": false,
    "hidePrompt": false
   },
   "source": [
    "###  Build indicies to gather bounding boxes from bboxes_4d corrsponding to predicted class\n",
    "#### Only used if we want to use mrcnn_bboxes (batch_size, num_rois, num_classes, 4)\n",
    "\n",
    "batch_size x nuum_detections x 4"
   ]
  },
  {
   "cell_type": "code",
   "execution_count": null,
   "metadata": {
    "hideCode": false,
    "hideOutput": true,
    "hidePrompt": false
   },
   "outputs": [],
   "source": [
    "###  Build indicies to gather bounding boxes from bboxes_4d corrsponding to predicted class\n",
    "###  Only used if we want to use mrcnn_bboxes (batch_size, num_rois, num_classes, 4)\n",
    "\n",
    "# gather_boxes = tf.stack([batch_grid, roi_grid, pred_classes, ], axis = -1)\n",
    "\n",
    "# print('-- gather_boxes  ----')\n",
    "# print('gather_boxes inds', type(gather_boxes), 'shape',tf.shape(gather_boxes).eval())\n",
    "# print(gather_boxes.eval())\n",
    "\n",
    "# mrcnn_bboxes_selected = tf.gather_nd(mrcnn_bboxes, gather_boxes)\n",
    "# print(' padding required for output_rois : ', mrcnn_bboxes_selected.get_shape())\n",
    "# print(mrcnn_bboxes_selected[0].eval())\n",
    "\n",
    "# print(' output_rois shape ', output_rois.get_shape())\n",
    "# print(pred_classes[0].eval())\n",
    "# print(output_rois[0].eval())\n",
    "\n"
   ]
  },
  {
   "cell_type": "markdown",
   "metadata": {
    "hideCode": false,
    "hidePrompt": false
   },
   "source": [
    "## Experimental Code"
   ]
  }
 ],
 "metadata": {
  "anaconda-cloud": {},
  "celltoolbar": "Hide code",
  "hide_code_all_hidden": false,
  "kernelspec": {
   "display_name": "Python [conda env:TF_gpu]",
   "language": "python",
   "name": "conda-env-TF_gpu-py"
  },
  "language_info": {
   "codemirror_mode": {
    "name": "ipython",
    "version": 3
   },
   "file_extension": ".py",
   "mimetype": "text/x-python",
   "name": "python",
   "nbconvert_exporter": "python",
   "pygments_lexer": "ipython3",
   "version": "3.5.4"
  }
 },
 "nbformat": 4,
 "nbformat_minor": 2
}
