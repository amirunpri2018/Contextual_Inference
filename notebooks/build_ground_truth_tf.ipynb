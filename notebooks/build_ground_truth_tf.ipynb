{
 "cells": [
  {
   "cell_type": "code",
   "execution_count": 10,
   "metadata": {
    "ExecuteTime": {
     "end_time": "2018-04-30T16:43:08.439310Z",
     "start_time": "2018-04-30T16:43:07.844168Z"
    },
    "hideCode": false,
    "hidePrompt": false
   },
   "outputs": [
    {
     "data": {
      "text/html": [
       "<style>.container { width:90% !important; }</style>"
      ],
      "text/plain": [
       "<IPython.core.display.HTML object>"
      ]
     },
     "metadata": {},
     "output_type": "display_data"
    },
    {
     "name": "stdout",
     "output_type": "stream",
     "text": [
      "The autoreload extension is already loaded. To reload it, use:\n",
      "  %reload_ext autoreload\n",
      "Tensorflow Version: 1.6.0   Keras Version : 2.1.4 \n",
      "\n",
      "Configurations:\n",
      "BACKBONE_SHAPES                [[32 32]\n",
      " [16 16]\n",
      " [ 8  8]\n",
      " [ 4  4]\n",
      " [ 2  2]]\n",
      "BACKBONE_STRIDES               [4, 8, 16, 32, 64]\n",
      "BATCH_SIZE                     3\n",
      "BBOX_STD_DEV                   [0.1 0.1 0.2 0.2]\n",
      "DETECTION_MAX_INSTANCES        100\n",
      "DETECTION_MIN_CONFIDENCE       0.7\n",
      "DETECTION_NMS_THRESHOLD        0.3\n",
      "FCN_INPUT_SHAPE                [128 128]\n",
      "GPU_COUNT                      1\n",
      "IMAGES_PER_GPU                 3\n",
      "IMAGE_MAX_DIM                  128\n",
      "IMAGE_MIN_DIM                  128\n",
      "IMAGE_PADDING                  True\n",
      "IMAGE_SHAPE                    [128 128   3]\n",
      "LEARNING_MOMENTUM              0.9\n",
      "LEARNING_RATE                  0.001\n",
      "MASK_POOL_SIZE                 14\n",
      "MASK_SHAPE                     [28, 28]\n",
      "MAX_GT_INSTANCES               100\n",
      "MEAN_PIXEL                     [123.7 116.8 103.9]\n",
      "MINI_MASK_SHAPE                (56, 56)\n",
      "NAME                           shapes\n",
      "NUM_CLASSES                    4\n",
      "POOL_SIZE                      7\n",
      "POST_NMS_ROIS_INFERENCE        1000\n",
      "POST_NMS_ROIS_TRAINING         2000\n",
      "ROI_POSITIVE_RATIO             0.33\n",
      "RPN_ANCHOR_RATIOS              [0.5, 1, 2]\n",
      "RPN_ANCHOR_SCALES              (8, 16, 32, 64, 128)\n",
      "RPN_ANCHOR_STRIDE              1\n",
      "RPN_BBOX_STD_DEV               [0.1 0.1 0.2 0.2]\n",
      "RPN_NMS_THRESHOLD              0.7\n",
      "RPN_TRAIN_ANCHORS_PER_IMAGE    256\n",
      "STEPS_PER_EPOCH                2\n",
      "TRAIN_ROIS_PER_IMAGE           32\n",
      "USE_MINI_MASK                  True\n",
      "USE_RPN_ROIS                   True\n",
      "VALIDATION_STEPS               5\n",
      "WEIGHT_DECAY                   0.0001\n",
      "\n",
      "\n"
     ]
    }
   ],
   "source": [
    "\n",
    "from IPython.core.display import display, HTML\n",
    "display(HTML(\"<style>.container { width:90% !important; }</style>\"))\n",
    "\n",
    "%matplotlib inline\n",
    "%load_ext autoreload\n",
    "%autoreload 2\n",
    "\n",
    "\n",
    "import sys\n",
    "sys.path.append('../')\n",
    "from mrcnn.utils import trim_zeros_graph\n",
    "import numpy as np\n",
    "import tensorflow as tf\n",
    "import keras\n",
    "\n",
    "import keras.backend as KB\n",
    "sys.path.append('../')\n",
    "\n",
    "import mrcnn.model     as modellib\n",
    "import mrcnn.visualize as visualize\n",
    "import mrcnn.shapes    as shapes\n",
    "from mrcnn.config      import Config\n",
    "from mrcnn.model       import log\n",
    "from mrcnn.dataset     import Dataset \n",
    "from mrcnn.utils       import stack_tensors, stack_tensors_3d\n",
    "from mrcnn.datagen     import data_generator, load_image_gt\n",
    "from mrcnn.callbacks   import get_layer_output_1,get_layer_output_2\n",
    "print(\"Tensorflow Version: {}   Keras Version : {} \".format(tf.__version__,keras.__version__))\n",
    "import pprint\n",
    "pp = pprint.PrettyPrinter(indent=2, width=100)\n",
    "np.set_printoptions(linewidth=100,precision=4)\n",
    "\n",
    "\n",
    "# Build configuration object -----------------------------------------------\n",
    "config = shapes.ShapesConfig()\n",
    "config.BATCH_SIZE      = 3                  # Batch size is 2 (# GPUs * images/GPU).\n",
    "config.IMAGES_PER_GPU  = 3                  # Must match BATCH_SIZE\n",
    "config.STEPS_PER_EPOCH = 2\n",
    "config.FCN_INPUT_SHAPE = config.IMAGE_SHAPE[0:2]\n",
    "config.display() \n",
    "\n",
    "# Build shape dataset        -----------------------------------------------\n",
    "# Training dataset\n",
    "# generate 500 shapes \n",
    "dataset_train = shapes.ShapesDataset()\n",
    "dataset_train.load_shapes(500, config.IMAGE_SHAPE[0], config.IMAGE_SHAPE[1])\n",
    "dataset_train.prepare()\n",
    "\n",
    "\n",
    "# Validation dataset\n",
    "dataset_val = shapes.ShapesDataset()\n",
    "dataset_val.load_shapes(50, config.IMAGE_SHAPE[0], config.IMAGE_SHAPE[1])\n",
    "dataset_val.prepare()\n",
    "\n",
    "np.set_printoptions(linewidth=100, precision=4)\n",
    "sess = tf.InteractiveSession()\n",
    "\n",
    "batch_size = 3\n",
    "num_rois = 32\n",
    "num_classes = 4\n",
    "num_detections = 100\n",
    "num_rois_per_image = 32\n",
    "rois_per_image = 32\n",
    "\n",
    "train_generator = data_generator(dataset_train, config, shuffle=True,\n",
    "                                 batch_size=config.BATCH_SIZE,\n",
    "                                 augment = False)\n",
    "val_generator = data_generator(dataset_val, config, shuffle=True, \n",
    "                                batch_size=config.BATCH_SIZE,\n",
    "                                augment=False)\n"
   ]
  },
  {
   "cell_type": "code",
   "execution_count": 13,
   "metadata": {
    "ExecuteTime": {
     "end_time": "2018-04-30T16:46:46.459068Z",
     "start_time": "2018-04-30T16:46:45.269403Z"
    }
   },
   "outputs": [
    {
     "name": "stdout",
     "output_type": "stream",
     "text": [
      "Image id:  112\n",
      "Image meta [112 128 128   3   0   0 128 128   1   1   1   1]\n",
      "Classes (1: circle, 2: square, 3: triangle ):  [1 3]\n"
     ]
    },
    {
     "data": {
      "image/png": "[encoded data removed]",
      "text/plain": [
       "<matplotlib.figure.Figure at 0x248bae41320>"
      ]
     },
     "metadata": {},
     "output_type": "display_data"
    },
    {
     "name": "stdout",
     "output_type": "stream",
     "text": [
      "Image id:  169\n",
      "Image meta [169 128 128   3   0   0 128 128   1   1   1   1]\n",
      "Classes (1: circle, 2: square, 3: triangle ):  [3 2 3]\n"
     ]
    },
    {
     "data": {
      "image/png": "[encoded data removed]",
      "text/plain": [
       "<matplotlib.figure.Figure at 0x248bb789438>"
      ]
     },
     "metadata": {},
     "output_type": "display_data"
    },
    {
     "name": "stdout",
     "output_type": "stream",
     "text": [
      "Image id:  7\n",
      "Image meta [  7 128 128   3   0   0 128 128   1   1   1   1]\n",
      "Classes (1: circle, 2: square, 3: triangle ):  [1 2]\n"
     ]
    },
    {
     "data": {
      "image/png": "[encoded data removed]",
      "text/plain": [
       "<matplotlib.figure.Figure at 0x248bba66f28>"
      ]
     },
     "metadata": {},
     "output_type": "display_data"
    }
   ],
   "source": [
    "train_batch_x, train_batch_y = next(train_generator)\n",
    "\n",
    "\n",
    "# train_batch_x, train_batch_y = next(train_generator)\n",
    "# imgmeta_idx = model.keras_model.input_names.index('input_image_meta')\n",
    "img_meta    = train_batch_x[1]\n",
    "\n",
    "for img_idx in range(config.BATCH_SIZE):\n",
    "    image_id = img_meta[img_idx,0]\n",
    "    image = dataset_train.load_image(image_id)\n",
    "    mask, class_ids = dataset_train.load_mask(image_id)\n",
    "    print('Image id: ',image_id)\n",
    "    print('Image meta', img_meta[img_idx])\n",
    "    print('Classes (1: circle, 2: square, 3: triangle ): ',class_ids)\n",
    "    visualize.display_top_masks(image, mask, class_ids, dataset_train.class_names)"
   ]
  },
  {
   "cell_type": "code",
   "execution_count": 17,
   "metadata": {
    "ExecuteTime": {
     "end_time": "2018-04-30T16:48:19.967916Z",
     "start_time": "2018-04-30T16:48:19.708198Z"
    }
   },
   "outputs": [],
   "source": [
    "gt_class_ids  = train_batch_x[4]\n",
    "norm_gt_bboxes = train_batch_x[5]"
   ]
  },
  {
   "cell_type": "code",
   "execution_count": 34,
   "metadata": {
    "ExecuteTime": {
     "end_time": "2018-04-30T17:01:29.375811Z",
     "start_time": "2018-04-30T17:01:29.117649Z"
    }
   },
   "outputs": [
    {
     "name": "stdout",
     "output_type": "stream",
     "text": [
      "[[[ 16  87  57 128]\n",
      "  [ 18  12  77  80]\n",
      "  [  0   0   0   0]\n",
      "  [  0   0   0   0]\n",
      "  [  0   0   0   0]]\n",
      "\n",
      " [[  5  73  64 128]\n",
      "  [ 12  36  53  77]\n",
      "  [ 79  61 128 119]\n",
      "  [  0   0   0   0]\n",
      "  [  0   0   0   0]]\n",
      "\n",
      " [[ 18  15  75  70]\n",
      "  [  7  52  56 101]\n",
      "  [  0   0   0   0]\n",
      "  [  0   0   0   0]\n",
      "  [  0   0   0   0]]]\n"
     ]
    }
   ],
   "source": [
    "print(norm_gt_bboxes[:,:5])"
   ]
  },
  {
   "cell_type": "code",
   "execution_count": 31,
   "metadata": {
    "ExecuteTime": {
     "end_time": "2018-04-30T17:00:57.948919Z",
     "start_time": "2018-04-30T17:00:57.683736Z"
    }
   },
   "outputs": [
    {
     "name": "stdout",
     "output_type": "stream",
     "text": [
      "\n",
      "\n",
      "  > BUILD_GROUND TRUTH_TF()\n",
      "    gt_class_ids shape :  (3, 100)     notm_gt_bbox.shape  :  (3, 100, 4)\n"
     ]
    }
   ],
   "source": [
    "batch_size      = config.BATCH_SIZE\n",
    "num_classes     = config.NUM_CLASSES\n",
    "num_detections  = config.DETECTION_MAX_INSTANCES\n",
    "h, w            = config.IMAGE_SHAPE[:2]\n",
    "# num_cols        = 7 \n",
    "print('\\n')\n",
    "print('  > BUILD_GROUND TRUTH_TF()' )\n",
    "print('    gt_class_ids shape : ', gt_class_ids.shape, '    notm_gt_bbox.shape  : ', norm_gt_bboxes.shape )\n",
    "\n",
    "# sess = tf.InteractiveSession()\n",
    "gt_bboxes       = norm_gt_bboxes   ###   noot needed in this testing * np.array([h,w,h,w])   "
   ]
  },
  {
   "cell_type": "code",
   "execution_count": 32,
   "metadata": {
    "ExecuteTime": {
     "end_time": "2018-04-30T17:01:01.760024Z",
     "start_time": "2018-04-30T17:01:01.067169Z"
    }
   },
   "outputs": [
    {
     "name": "stdout",
     "output_type": "stream",
     "text": [
      "    gt_classes_exp shape  (3, 100, 1)\n",
      "(3, 100)\n",
      "[[ True  True False False False False False False False False False False False False False False\n",
      "  False False False False False False False False False False False False False False False False\n",
      "  False False False False False False False False False False False False False False False False\n",
      "  False False False False False False False False False False False False False False False False\n",
      "  False False False False False False False False False False False False False False False False\n",
      "  False False False False False False False False False False False False False False False False\n",
      "  False False False False]\n",
      " [ True  True  True False False False False False False False False False False False False False\n",
      "  False False False False False False False False False False False False False False False False\n",
      "  False False False False False False False False False False False False False False False False\n",
      "  False False False False False False False False False False False False False False False False\n",
      "  False False False False False False False False False False False False False False False False\n",
      "  False False False False False False False False False False False False False False False False\n",
      "  False False False False]\n",
      " [ True  True False False False False False False False False False False False False False False\n",
      "  False False False False False False False False False False False False False False False False\n",
      "  False False False False False False False False False False False False False False False False\n",
      "  False False False False False False False False False False False False False False False False\n",
      "  False False False False False False False False False False False False False False False False\n",
      "  False False False False False False False False False False False False False False False False\n",
      "  False False False False]]\n",
      "    pred_ scores shape  (3, 100)\n",
      "[[1 1 0 0 0 0 0 0 0 0 0 0 0 0 0 0 0 0 0 0 0 0 0 0 0 0 0 0 0 0 0 0 0 0 0 0 0 0 0 0 0 0 0 0 0 0 0 0\n",
      "  0 0 0 0 0 0 0 0 0 0 0 0 0 0 0 0 0 0 0 0 0 0 0 0 0 0 0 0 0 0 0 0 0 0 0 0 0 0 0 0 0 0 0 0 0 0 0 0\n",
      "  0 0 0 0]\n",
      " [1 1 1 0 0 0 0 0 0 0 0 0 0 0 0 0 0 0 0 0 0 0 0 0 0 0 0 0 0 0 0 0 0 0 0 0 0 0 0 0 0 0 0 0 0 0 0 0\n",
      "  0 0 0 0 0 0 0 0 0 0 0 0 0 0 0 0 0 0 0 0 0 0 0 0 0 0 0 0 0 0 0 0 0 0 0 0 0 0 0 0 0 0 0 0 0 0 0 0\n",
      "  0 0 0 0]\n",
      " [1 1 0 0 0 0 0 0 0 0 0 0 0 0 0 0 0 0 0 0 0 0 0 0 0 0 0 0 0 0 0 0 0 0 0 0 0 0 0 0 0 0 0 0 0 0 0 0\n",
      "  0 0 0 0 0 0 0 0 0 0 0 0 0 0 0 0 0 0 0 0 0 0 0 0 0 0 0 0 0 0 0 0 0 0 0 0 0 0 0 0 0 0 0 0 0 0 0 0\n",
      "  0 0 0 0]]\n"
     ]
    },
    {
     "data": {
      "text/plain": [
       "<function print>"
      ]
     },
     "execution_count": 32,
     "metadata": {},
     "output_type": "execute_result"
    }
   ],
   "source": [
    "#---------------------------------------------------------------------------\n",
    "# use the argmaxof each row to determine the dominating (predicted) class\n",
    "#---------------------------------------------------------------------------\n",
    "\n",
    "# gt_classes     = gt_class_ids    # batch_size x max gt detections\n",
    "gt_classes_exp = tf.to_float(tf.expand_dims(gt_class_ids ,axis=-1))\n",
    "print('    gt_classes_exp shape ', gt_classes_exp.get_shape() )\n",
    "\n",
    "ones = tf.ones_like(gt_class_ids)\n",
    "zeros= tf.zeros_like(gt_class_ids)\n",
    "mask = tf.greater(gt_class_ids , 0)\n",
    "print(mask.shape)\n",
    "print(mask.eval())\n",
    "gt_scores  =  tf.where(mask, ones, zeros)\n",
    "# pred_scores      = tf.reduce_max(mrcnn_class ,axis=-1, keep_dims=True)   # (32,)\n",
    "gt_scores_exp = tf.to_float(tf.expand_dims(gt_scores, axis=-1))\n",
    "print('    pred_ scores shape ', gt_scores.get_shape())\n",
    "print(gt_scores.eval())    \n",
    "print"
   ]
  },
  {
   "cell_type": "code",
   "execution_count": 35,
   "metadata": {
    "ExecuteTime": {
     "end_time": "2018-04-30T17:03:01.440657Z",
     "start_time": "2018-04-30T17:03:00.708176Z"
    },
    "scrolled": false
   },
   "outputs": [
    {
     "name": "stdout",
     "output_type": "stream",
     "text": [
      "    batch_grid shape   (3, 100)\n",
      "[[0 0 0 0 0 0 0 0 0 0 0 0 0 0 0 0 0 0 0 0 0 0 0 0 0 0 0 0 0 0 0 0 0 0 0 0 0 0 0 0 0 0 0 0 0 0 0 0\n",
      "  0 0 0 0 0 0 0 0 0 0 0 0 0 0 0 0 0 0 0 0 0 0 0 0 0 0 0 0 0 0 0 0 0 0 0 0 0 0 0 0 0 0 0 0 0 0 0 0\n",
      "  0 0 0 0]\n",
      " [1 1 1 1 1 1 1 1 1 1 1 1 1 1 1 1 1 1 1 1 1 1 1 1 1 1 1 1 1 1 1 1 1 1 1 1 1 1 1 1 1 1 1 1 1 1 1 1\n",
      "  1 1 1 1 1 1 1 1 1 1 1 1 1 1 1 1 1 1 1 1 1 1 1 1 1 1 1 1 1 1 1 1 1 1 1 1 1 1 1 1 1 1 1 1 1 1 1 1\n",
      "  1 1 1 1]\n",
      " [2 2 2 2 2 2 2 2 2 2 2 2 2 2 2 2 2 2 2 2 2 2 2 2 2 2 2 2 2 2 2 2 2 2 2 2 2 2 2 2 2 2 2 2 2 2 2 2\n",
      "  2 2 2 2 2 2 2 2 2 2 2 2 2 2 2 2 2 2 2 2 2 2 2 2 2 2 2 2 2 2 2 2 2 2 2 2 2 2 2 2 2 2 2 2 2 2 2 2\n",
      "  2 2 2 2]]\n",
      "    bbox_grid  shape   (3, 100)\n",
      "[[ 0  1  2  3  4  5  6  7  8  9 10 11 12 13 14 15 16 17 18 19 20 21 22 23 24 25 26 27 28 29 30 31\n",
      "  32 33 34 35 36 37 38 39 40 41 42 43 44 45 46 47 48 49 50 51 52 53 54 55 56 57 58 59 60 61 62 63\n",
      "  64 65 66 67 68 69 70 71 72 73 74 75 76 77 78 79 80 81 82 83 84 85 86 87 88 89 90 91 92 93 94 95\n",
      "  96 97 98 99]\n",
      " [ 0  1  2  3  4  5  6  7  8  9 10 11 12 13 14 15 16 17 18 19 20 21 22 23 24 25 26 27 28 29 30 31\n",
      "  32 33 34 35 36 37 38 39 40 41 42 43 44 45 46 47 48 49 50 51 52 53 54 55 56 57 58 59 60 61 62 63\n",
      "  64 65 66 67 68 69 70 71 72 73 74 75 76 77 78 79 80 81 82 83 84 85 86 87 88 89 90 91 92 93 94 95\n",
      "  96 97 98 99]\n",
      " [ 0  1  2  3  4  5  6  7  8  9 10 11 12 13 14 15 16 17 18 19 20 21 22 23 24 25 26 27 28 29 30 31\n",
      "  32 33 34 35 36 37 38 39 40 41 42 43 44 45 46 47 48 49 50 51 52 53 54 55 56 57 58 59 60 61 62 63\n",
      "  64 65 66 67 68 69 70 71 72 73 74 75 76 77 78 79 80 81 82 83 84 85 86 87 88 89 90 91 92 93 94 95\n",
      "  96 97 98 99]]\n",
      "    bbox_idx shape     (3, 100, 1)\n",
      "    gt_array shape     (3, 100, 7)\n",
      "    bbox_grid  shape   (3, 100)\n",
      "    batch_grid shape   (3, 100)\n",
      "[[[  0.  16.  87.  57. 128.   1.   1.]\n",
      "  [  1.  18.  12.  77.  80.   3.   1.]\n",
      "  [  0.   0.   0.   0.   0.   0.   0.]\n",
      "  [  0.   0.   0.   0.   0.   0.   0.]\n",
      "  [  0.   0.   0.   0.   0.   0.   0.]\n",
      "  [  0.   0.   0.   0.   0.   0.   0.]\n",
      "  [  0.   0.   0.   0.   0.   0.   0.]\n",
      "  [  0.   0.   0.   0.   0.   0.   0.]\n",
      "  [  0.   0.   0.   0.   0.   0.   0.]\n",
      "  [  0.   0.   0.   0.   0.   0.   0.]]\n",
      "\n",
      " [[  0.   5.  73.  64. 128.   3.   1.]\n",
      "  [  1.  12.  36.  53.  77.   2.   1.]\n",
      "  [  2.  79.  61. 128. 119.   3.   1.]\n",
      "  [  0.   0.   0.   0.   0.   0.   0.]\n",
      "  [  0.   0.   0.   0.   0.   0.   0.]\n",
      "  [  0.   0.   0.   0.   0.   0.   0.]\n",
      "  [  0.   0.   0.   0.   0.   0.   0.]\n",
      "  [  0.   0.   0.   0.   0.   0.   0.]\n",
      "  [  0.   0.   0.   0.   0.   0.   0.]\n",
      "  [  0.   0.   0.   0.   0.   0.   0.]]\n",
      "\n",
      " [[  0.  18.  15.  75.  70.   1.   1.]\n",
      "  [  1.   7.  52.  56. 101.   2.   1.]\n",
      "  [  0.   0.   0.   0.   0.   0.   0.]\n",
      "  [  0.   0.   0.   0.   0.   0.   0.]\n",
      "  [  0.   0.   0.   0.   0.   0.   0.]\n",
      "  [  0.   0.   0.   0.   0.   0.   0.]\n",
      "  [  0.   0.   0.   0.   0.   0.   0.]\n",
      "  [  0.   0.   0.   0.   0.   0.   0.]\n",
      "  [  0.   0.   0.   0.   0.   0.   0.]\n",
      "  [  0.   0.   0.   0.   0.   0.   0.]]]\n"
     ]
    }
   ],
   "source": [
    "#---------------------------------------------------------------------------\n",
    "# create meshgrid to do something \n",
    "#---------------------------------------------------------------------------\n",
    "batch_grid, bbox_grid = tf.meshgrid( tf.range(batch_size    , dtype=tf.int32), \n",
    "                                     tf.range(num_detections, dtype=tf.int32), indexing = 'ij' )\n",
    "print('    batch_grid shape  ', batch_grid.get_shape())\n",
    "print(batch_grid.eval())\n",
    "print('    bbox_grid  shape  ', bbox_grid.get_shape())\n",
    "print(bbox_grid.eval())\n",
    "\n",
    "\n",
    "bbox_idx_zeros  = tf.zeros_like(bbox_grid)\n",
    "bbox_idx        = tf.where(mask, bbox_grid , bbox_idx_zeros)\n",
    "bbox_idx        = tf.to_float(tf.expand_dims(bbox_idx, axis = -1))    \n",
    "\n",
    "gt_array        = tf.concat([bbox_idx , gt_bboxes, gt_classes_exp, gt_scores_exp], axis=2)\n",
    "\n",
    "np.set_printoptions(linewidth=100,precision=7)\n",
    "\n",
    "print('    bbox_idx shape    ', bbox_idx.get_shape())\n",
    "# print(bbox_idx.eval()) \n",
    "print('    gt_array shape    ', gt_array.get_shape())\n",
    "print('    bbox_grid  shape  ', bbox_grid.get_shape())\n",
    "# print(bbox_grid.eval())\n",
    "print('    batch_grid shape  ', batch_grid.get_shape())\n",
    "# print(batch_grid.eval())\n",
    "    \n",
    "print(gt_array[:,:10].eval())"
   ]
  },
  {
   "cell_type": "code",
   "execution_count": 36,
   "metadata": {
    "ExecuteTime": {
     "end_time": "2018-04-30T17:04:21.644759Z",
     "start_time": "2018-04-30T17:04:21.371498Z"
    }
   },
   "outputs": [
    {
     "name": "stdout",
     "output_type": "stream",
     "text": [
      "    scatter_ind shape  (3, 100, 3)\n",
      "    gt_scatter shape  (3, 4, 100, 7)\n"
     ]
    }
   ],
   "source": [
    "scatter_ind = tf.stack([batch_grid , gt_class_ids, bbox_grid],axis = -1)\n",
    "gt_scatter = tf.scatter_nd(scatter_ind, gt_array, [batch_size, num_classes, num_detections,7])\n",
    "\n",
    "\n",
    "# print('-- stack results ----')\n",
    "print('    scatter_ind shape ', scatter_ind.get_shape())\n",
    "# print(scatter_ind.eval())\n",
    "print('    gt_scatter shape ', gt_scatter.get_shape())\n"
   ]
  },
  {
   "cell_type": "code",
   "execution_count": 38,
   "metadata": {
    "ExecuteTime": {
     "end_time": "2018-04-30T17:05:50.115103Z",
     "start_time": "2018-04-30T17:05:49.475883Z"
    }
   },
   "outputs": [
    {
     "name": "stdout",
     "output_type": "stream",
     "text": [
      "[[[  0.   0.   0.   0.   0.   0.   0.]\n",
      "  [  0.   0.   0.   0.   0.   0.   0.]\n",
      "  [  0.   0.   0.   0.   0.   0.   0.]\n",
      "  [  0.   0.   0.   0.   0.   0.   0.]\n",
      "  [  0.   0.   0.   0.   0.   0.   0.]]\n",
      "\n",
      " [[  0.   0.   0.   0.   0.   0.   0.]\n",
      "  [  0.   0.   0.   0.   0.   0.   0.]\n",
      "  [  0.   0.   0.   0.   0.   0.   0.]\n",
      "  [  0.   0.   0.   0.   0.   0.   0.]\n",
      "  [  0.   0.   0.   0.   0.   0.   0.]]\n",
      "\n",
      " [[  0.   0.   0.   0.   0.   0.   0.]\n",
      "  [  1.  12.  36.  53.  77.   2.   1.]\n",
      "  [  0.   0.   0.   0.   0.   0.   0.]\n",
      "  [  0.   0.   0.   0.   0.   0.   0.]\n",
      "  [  0.   0.   0.   0.   0.   0.   0.]]\n",
      "\n",
      " [[  0.   5.  73.  64. 128.   3.   1.]\n",
      "  [  0.   0.   0.   0.   0.   0.   0.]\n",
      "  [  2.  79.  61. 128. 119.   3.   1.]\n",
      "  [  0.   0.   0.   0.   0.   0.   0.]\n",
      "  [  0.   0.   0.   0.   0.   0.   0.]]]\n"
     ]
    }
   ],
   "source": [
    "print(gt_scatter[1,:,:5,:].eval())"
   ]
  },
  {
   "cell_type": "code",
   "execution_count": 47,
   "metadata": {
    "ExecuteTime": {
     "end_time": "2018-04-30T17:14:13.061313Z",
     "start_time": "2018-04-30T17:14:12.686286Z"
    }
   },
   "outputs": [
    {
     "name": "stdout",
     "output_type": "stream",
     "text": [
      "    build gathering indexes to use in sorting -------\n",
      "    sort inds shape :  (3, 4, 100)\n",
      "    class_grid  shape  (3, 4, 100)\n",
      "    batch_grid  shape  (3, 4, 100)\n",
      "    bbox_grid   shape  (3, 4, 100)  bbox_grid_exp shape  (3, 4, 100, 1)\n",
      "    gather_inds shape      :  (3, 4, 100, 3)\n",
      "    gt_tensor (gathered)   :  (3, 4, 100, 7)\n",
      "[[[[  0.   0.   0.   0.   0.   0.   0.]\n",
      "   [  0.   0.   0.   0.   0.   0.   0.]\n",
      "   [  0.   0.   0.   0.   0.   0.   0.]]\n",
      "\n",
      "  [[  0.  16.  87.  57. 128.   1.   1.]\n",
      "   [  0.   0.   0.   0.   0.   0.   0.]\n",
      "   [  0.   0.   0.   0.   0.   0.   0.]]\n",
      "\n",
      "  [[  0.   0.   0.   0.   0.   0.   0.]\n",
      "   [  0.   0.   0.   0.   0.   0.   0.]\n",
      "   [  0.   0.   0.   0.   0.   0.   0.]]\n",
      "\n",
      "  [[  1.  18.  12.  77.  80.   3.   1.]\n",
      "   [  0.   0.   0.   0.   0.   0.   0.]\n",
      "   [  0.   0.   0.   0.   0.   0.   0.]]]\n",
      "\n",
      "\n",
      " [[[  0.   0.   0.   0.   0.   0.   0.]\n",
      "   [  0.   0.   0.   0.   0.   0.   0.]\n",
      "   [  0.   0.   0.   0.   0.   0.   0.]]\n",
      "\n",
      "  [[  0.   0.   0.   0.   0.   0.   0.]\n",
      "   [  0.   0.   0.   0.   0.   0.   0.]\n",
      "   [  0.   0.   0.   0.   0.   0.   0.]]\n",
      "\n",
      "  [[  1.  12.  36.  53.  77.   2.   1.]\n",
      "   [  0.   0.   0.   0.   0.   0.   0.]\n",
      "   [  0.   0.   0.   0.   0.   0.   0.]]\n",
      "\n",
      "  [[  2.  79.  61. 128. 119.   3.   1.]\n",
      "   [  0.   5.  73.  64. 128.   3.   1.]\n",
      "   [  0.   0.   0.   0.   0.   0.   0.]]]\n",
      "\n",
      "\n",
      " [[[  0.   0.   0.   0.   0.   0.   0.]\n",
      "   [  0.   0.   0.   0.   0.   0.   0.]\n",
      "   [  0.   0.   0.   0.   0.   0.   0.]]\n",
      "\n",
      "  [[  0.  18.  15.  75.  70.   1.   1.]\n",
      "   [  0.   0.   0.   0.   0.   0.   0.]\n",
      "   [  0.   0.   0.   0.   0.   0.   0.]]\n",
      "\n",
      "  [[  1.   7.  52.  56. 101.   2.   1.]\n",
      "   [  0.   0.   0.   0.   0.   0.   0.]\n",
      "   [  0.   0.   0.   0.   0.   0.   0.]]\n",
      "\n",
      "  [[  0.   0.   0.   0.   0.   0.   0.]\n",
      "   [  0.   0.   0.   0.   0.   0.   0.]\n",
      "   [  0.   0.   0.   0.   0.   0.   0.]]]]\n"
     ]
    }
   ],
   "source": [
    "## sort in each class dimension based on y2 (column 1)\n",
    "# scatter_nd places bboxs in a sparse fashion --- this sort is to place all bboxes\n",
    "# at the top of the class bbox array\n",
    "#-------------------------------------------------------------------------------\n",
    "\n",
    "_ , sort_inds = tf.nn.top_k(gt_scatter[:,:,:,1], k=gt_scatter.shape[2])\n",
    "\n",
    "# build gathering indexes to use in sorting \n",
    "class_grid, batch_grid, bbox_grid = tf.meshgrid(tf.range(num_classes),tf.range(batch_size), tf.range(num_detections))\n",
    "bbox_grid_exp = tf.to_float(tf.expand_dims(bbox_grid, axis = -1))\n",
    "\n",
    "print('    build gathering indexes to use in sorting -------')    \n",
    "print('    sort inds shape : ', sort_inds.get_shape())\n",
    "print('    class_grid  shape ', class_grid.get_shape())\n",
    "# print(class_grid.eval())\n",
    "print('    batch_grid  shape ', batch_grid.get_shape())\n",
    "# print(class_grid.eval())\n",
    "print('    bbox_grid   shape ', bbox_grid.get_shape() , ' bbox_grid_exp shape ', bbox_grid_exp.get_shape())\n",
    "# print(bbox_grid.eval())\n",
    "\n",
    "gather_inds = tf.stack([batch_grid , class_grid, sort_inds],axis = -1)\n",
    "gt_tensor   = tf.gather_nd(gt_scatter, gather_inds, name  = 'gt_tensor')\n",
    "print('    gather_inds shape      : ', gather_inds.get_shape())\n",
    "print('    gt_tensor (gathered)   : ', gt_tensor.get_shape())\n",
    "print(gt_tensor[:,:,:3].eval())"
   ]
  },
  {
   "cell_type": "code",
   "execution_count": 46,
   "metadata": {
    "ExecuteTime": {
     "end_time": "2018-04-30T17:13:57.944953Z",
     "start_time": "2018-04-30T17:13:57.283662Z"
    }
   },
   "outputs": [
    {
     "name": "stdout",
     "output_type": "stream",
     "text": [
      "    final gt_tensor shape  :  (3, 4, 100, 7)\n",
      "    final gt_cls_cnt shape :  (3, 4)\n",
      "[[0 1 0 1]\n",
      " [0 0 1 2]\n",
      " [0 1 1 0]]\n",
      "    complete\n"
     ]
    }
   ],
   "source": [
    "# count based on pred score > 0 (changed from index 0 to -1 on 30-04-2018)    \n",
    "gt_cls_cnt  = tf.count_nonzero(gt_tensor[:,:,:,-1],axis = -1, name = 'gt_cls_count')\n",
    "\n",
    "\n",
    "print('    final gt_tensor shape  : ', gt_tensor.get_shape())\n",
    "print('    final gt_cls_cnt shape : ', gt_cls_cnt.get_shape())\n",
    "print(gt_cls_cnt.eval())\n",
    "print('    complete')\n"
   ]
  }
 ],
 "metadata": {
  "anaconda-cloud": {},
  "celltoolbar": "Hide code",
  "hide_code_all_hidden": true,
  "kernelspec": {
   "display_name": "Python [conda env:TF_gpu]",
   "language": "python",
   "name": "conda-env-TF_gpu-py"
  },
  "language_info": {
   "codemirror_mode": {
    "name": "ipython",
    "version": 3
   },
   "file_extension": ".py",
   "mimetype": "text/x-python",
   "name": "python",
   "nbconvert_exporter": "python",
   "pygments_lexer": "ipython3",
   "version": "3.5.4"
  }
 },
 "nbformat": 4,
 "nbformat_minor": 2
}
