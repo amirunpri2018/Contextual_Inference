{
 "cells": [
  {
   "cell_type": "code",
   "execution_count": 154,
   "metadata": {
    "ExecuteTime": {
     "end_time": "2018-05-05T18:09:12.333971Z",
     "start_time": "2018-05-05T18:09:12.131934Z"
    }
   },
   "outputs": [
    {
     "data": {
      "text/html": [
       "<style>.container { width:90% !important; }</style>"
      ],
      "text/plain": [
       "<IPython.core.display.HTML object>"
      ]
     },
     "metadata": {},
     "output_type": "display_data"
    },
    {
     "name": "stdout",
     "output_type": "stream",
     "text": [
      "The autoreload extension is already loaded. To reload it, use:\n",
      "  %reload_ext autoreload\n"
     ]
    }
   ],
   "source": [
    "from IPython.core.display import display, HTML\n",
    "display(HTML(\"<style>.container { width:90% !important; }</style>\"))\n",
    "\n",
    "%matplotlib inline\n",
    "%load_ext autoreload\n",
    "%autoreload 2\n",
    "import sys\n",
    "import math\n",
    "import random\n",
    "import numpy as np\n",
    "import cv2\n",
    "sys.path.append('../')\n",
    "from mrcnn.visualize import display_images\n",
    "from mrcnn.dataset  import Dataset\n",
    "from mrcnn.shapes   import ShapesConfig\n",
    "from mrcnn.datagen  import load_image_gt\n",
    "from mrcnn.visualize import draw_boxes\n",
    "import  mrcnn.utils     as utils\n",
    "img_h, img_w = 128, 128"
   ]
  },
  {
   "cell_type": "code",
   "execution_count": 155,
   "metadata": {
    "ExecuteTime": {
     "end_time": "2018-05-05T18:09:13.923860Z",
     "start_time": "2018-05-05T18:09:12.381681Z"
    }
   },
   "outputs": [],
   "source": [
    "class NewShapesConfig(ShapesConfig):\n",
    "    '''\n",
    "    Configuration for training on the toy shapes dataset.\n",
    "    Derives from the base Config class and overrides values specific\n",
    "    to the toy shapes dataset.\n",
    "    '''\n",
    "    # Give the configuration a recognizable name\n",
    "#     NAME = \"shapes\"\n",
    "\n",
    "    # Number of classes (including background)\n",
    "    NUM_CLASSES = 1 + 4  # background + 3 shapes\n",
    "\n",
    "\n",
    "class NewShapesDataset(Dataset):\n",
    "    '''\n",
    "    Generates the shapes synthetic dataset. The dataset consists of simple\n",
    "    shapes (triangles, squares, circles) placed randomly on a blank surface.\n",
    "    The images are generated on the fly. No file access required.\n",
    "    '''\n",
    "\n",
    "    def load_shapes(self, count, height, width):\n",
    "        '''\n",
    "        Generate the requested number of synthetic images.\n",
    "        count: number of images to generate.\n",
    "        height, width: the size of the generated images.\n",
    "        '''\n",
    "        \n",
    "        # Add classes\n",
    "        self.add_class(\"shapes\", 1, \"circle\")  # used to be class 2\n",
    "        self.add_class(\"shapes\", 2, \"square\")  # used to be class 1\n",
    "        self.add_class(\"shapes\", 3, \"triangle\")\n",
    "        self.add_class(\"shapes\", 4, \"rectangle\")\n",
    "    \n",
    "        # Add images\n",
    "        # Generate random specifications of images (i.e. color and\n",
    "        # list of shapes sizes and locations). This is more compact than\n",
    "        # actual images. Images are generated on the fly in load_image().\n",
    "        for i in range(count):\n",
    "            bg_color, shapes = self.random_image(height, width)\n",
    "            self.add_image(\"shapes\", image_id=i, path=None,\n",
    "                           width=width, height=height,\n",
    "                           bg_color=bg_color, shapes=shapes)\n",
    "\n",
    "    def load_image(self, image_id):\n",
    "        '''\n",
    "        Generate an image from the specs of the given image ID.\n",
    "        Typically this function loads the image from a file, but in this case it\n",
    "        generates the image on the fly from the specs in image_info.\n",
    "        '''\n",
    "        \n",
    "        info = self.image_info[image_id]\n",
    "        bg_color = np.array(info['bg_color']).reshape([1, 1, 3])\n",
    "        \n",
    "        image = np.ones([info['height'], info['width'], 3], dtype=np.uint8)\n",
    "        image = image * bg_color.astype(np.uint8)\n",
    "        \n",
    "        for shape, color, dims in info['shapes']:\n",
    "            image = self.draw_shape(image, shape, dims, color)\n",
    "        return image\n",
    "\n",
    "    \n",
    "    def image_reference(self, image_id):\n",
    "        \"\"\"Return the shapes data of the image.\"\"\"\n",
    "        info = self.image_info[image_id]\n",
    "        if info[\"source\"] == \"shapes\":\n",
    "            return info[\"shapes\"]\n",
    "        else:\n",
    "            super(self.__class__).image_reference(self, image_id)    \n",
    "\n",
    "            \n",
    "    def draw_shape(self, image, shape, dims, color):\n",
    "        \"\"\"Draws a shape from the given specs.\"\"\"\n",
    "        # Get the center x, y and the size s\n",
    "        x, y, sx, sy = dims\n",
    "        print(' Shape : {}     Cntr (x,y) : ({} , {})    Size_x : {} Size_y: {}'.format(shape,x,y,sx, sy))    \n",
    "        if shape == 'square':\n",
    "            image = cv2.rectangle(image, (x - sx, y - sy), (x + sx, y + sy), color, -1)\n",
    "        elif shape == 'rectangle':\n",
    "            image = cv2.rectangle(image, (x - sx, y - sy), (x + sx, y + sy), color, -1)        \n",
    "\n",
    "        elif shape == \"circle\":\n",
    "            image = cv2.circle(image, (x, y), sx, color, -1)\n",
    "\n",
    "        elif shape == \"triangle\":\n",
    "            sin60 = math.sin(math.radians(60))\n",
    "            points = np.array([[(x, y - sx),\n",
    "                                (x - (sx / sin60), y + sx),\n",
    "                                (x + (sx / sin60), y + sx),\n",
    "                                ]], dtype=np.int32)\n",
    "            print(' points.shape is : ',points.shape)\n",
    "            print(points)\n",
    "            image = cv2.fillPoly(image, points, color)\n",
    "        return image            \n",
    "\n",
    "    def random_shape(self,height, width):\n",
    "        \"\"\"Generates specifications of a random shape that lies within\n",
    "        the given height and width boundaries.\n",
    "        Returns a tuple of three valus:\n",
    "        * The shape name (square, circle, ...)\n",
    "        * Shape color: a tuple of 3 values, RGB.\n",
    "        * Shape dimensions: A tuple of values that define the shape size\n",
    "                            and location. Differs per shape type.\n",
    "        \"\"\"\n",
    "        # Shape\n",
    "        shape = random.choice([\"square\", \"circle\", \"triangle\", \"rectangle\"])\n",
    "        # Color\n",
    "        color = tuple([random.randint(0, 255) for _ in range(3)])\n",
    "        # Center x, y\n",
    "        buffer = 20\n",
    "        y = random.randint(buffer, height - buffer - 1)\n",
    "        x = random.randint(buffer, width - buffer - 1)\n",
    "        # Size\n",
    "        sx = random.randint(buffer, width // 4)\n",
    "        if shape == \"rectangle\":\n",
    "            sy = random.randint(buffer, height // 4)    \n",
    "        else:\n",
    "            sy = sx\n",
    "        return shape, color, (x, y, sx, sy)\n",
    "    \n",
    "    def random_image(self, height, width):\n",
    "        '''\n",
    "        Creates random specifications of an image with multiple shapes.\n",
    "        Returns the background color of the image and a list of shape\n",
    "        specifications that can be used to draw the image.\n",
    "        '''\n",
    "        # Pick random background color\n",
    "        bg_color = np.array([random.randint(0, 255) for _ in range(3)])\n",
    "        # Generate a few random shapes and record their\n",
    "        # bounding boxes\n",
    "        shapes = []\n",
    "        boxes = []\n",
    "        N = random.randint(1, 4)\n",
    "\n",
    "        for _ in range(N):\n",
    "            shape, color, dims = self.random_shape(height, width)\n",
    "            shapes.append((shape, color, dims))\n",
    "            x, y, sx, sy = dims\n",
    "            boxes.append([y - sy, x - sx, y + sy, x + sx])\n",
    "        \n",
    "        # Suppress occulsions more than 0.3 IoU    \n",
    "        # Apply non-max suppression with 0.3 threshold to avoid shapes covering each other\n",
    "        keep_ixs = utils.non_max_suppression(np.array(boxes), np.arange(N), 0.3)\n",
    "        \n",
    "        shapes = [s for i, s in enumerate(shapes) if i in keep_ixs]\n",
    "        \n",
    "        # print('Original number of shapes {}  # after NMS {}'.format(N, len(shapes)))\n",
    "        return bg_color, shapes    \n",
    "    \n",
    "    \n",
    "    \n",
    "'''\n",
    "-------------------------------------------------------------------------------\n",
    "'''\n",
    "def semi_random_image(self, height, width):\n",
    "    '''\n",
    "    Creates random specifications of an image with multiple shapes.\n",
    "    Returns the background color of the image and a list of shape\n",
    "    specifications that can be used to draw the image.\n",
    "    '''\n",
    "    # Pick random background color\n",
    "    bg_color = np.array([random.randint(0, 255) for _ in range(3)])\n",
    "    # Generate a few random shapes and record their\n",
    "    # bounding boxes\n",
    "    shapes = []\n",
    "    boxes = []\n",
    "    N = random.randint(1, 4)\n",
    "\n",
    "    for _ in range(N):\n",
    "        shape, color, dims = self.random_shape(height, width)\n",
    "        shapes.append((shape, color, dims))\n",
    "        x, y, sx, sy = dims\n",
    "        boxes.append([y - sy, x - sx, y + sy, x + sx])\n",
    "\n",
    "    # Suppress occulsions more than 0.3 IoU    \n",
    "    # Apply non-max suppression with 0.3 threshold to avoid shapes covering each other\n",
    "    keep_ixs = utils.non_max_suppression(np.array(boxes), np.arange(N), 0.3)\n",
    "\n",
    "    shapes = [s for i, s in enumerate(shapes) if i in keep_ixs]\n",
    "\n",
    "    # print('Original number of shapes {}  # after NMS {}'.format(N, len(shapes)))\n",
    "    return bg_color, shapes\n",
    "\n",
    "def semi_random_shape(height, width, shape = None, x = 0, y = 0, sx = 0, sy = 0):\n",
    "    \"\"\"Generates specifications of a random shape that lies within\n",
    "    the given height and width boundaries.\n",
    "    Returns a tuple of three valus:\n",
    "    * The shape name (square, circle, ...)\n",
    "    * Shape color: a tuple of 3 values, RGB.\n",
    "    * Shape dimensions: A tuple of values that define the shape size\n",
    "                        and location. Differs per shape type.\n",
    "    \"\"\"\n",
    "    # Shape\n",
    "    if shape is None:\n",
    "        shape = random.choice([\"square\", \"circle\", \"triangle\", \"rectangle\"])\n",
    "    # Color\n",
    "    color = tuple([random.randint(0, 255) for _ in range(3)])\n",
    "    # Center x, y\n",
    "    buffer = 20\n",
    "    if y == 0:\n",
    "        y = random.randint(buffer, height - buffer - 1)\n",
    "    if x == 0: \n",
    "        x = random.randint(buffer, width - buffer - 1)\n",
    "    # Size\n",
    "    if sx == 0 :\n",
    "        sx = random.randint(buffer, width // 4)\n",
    "    if shape == \"rectangle\" and sy == 0 :\n",
    "        sy = random.randint(buffer, height // 4)\n",
    "    else:\n",
    "        sy = sx\n",
    "#     print(' Shape : {}     Cntr (x,y) : ({} , {})    Size_x: {} Size_y: {}'.format(shape,x,y,sx, sy))    \n",
    "    return shape, color, (x, y, sx, sy)\n",
    "\n",
    "def semi_draw_shape(image, shape, dims, color):\n",
    "    \"\"\"Draws a shape from the given specs.\"\"\"\n",
    "    # Get the center x, y and the size s\n",
    "    x, y, sx, sy = dims\n",
    "    print(' Shape : {}     Cntr (x,y) : ({} , {})    Size_x: {} Size_y: {}'.format(shape,x,y,sx, sy))    \n",
    "    if shape == 'square':\n",
    "        image = cv2.rectangle(image, (x - sx, y - sy), (x + sx, y + sy), color, -1)\n",
    "    elif shape == 'rectangle':\n",
    "        image = cv2.rectangle(image, (x - sx, y - sy), (x + sx, y + sy), color, -1)        \n",
    "\n",
    "    elif shape == \"circle\":\n",
    "        image = cv2.circle(image, (x, y), sx, color, -1)\n",
    "\n",
    "    elif shape == \"triangle\":\n",
    "        sin60 = math.sin(math.radians(60))\n",
    "        points = np.array([[(x, y - sx),\n",
    "                            (x - (sx / sin60), y + sx),\n",
    "                            (x + (sx / sin60), y + sx),\n",
    "                            ]], dtype=np.int32)\n",
    "#         print(' points.shape is : ',points.shape)\n",
    "#         print(points)\n",
    "        image = cv2.fillPoly(image, points, color)\n",
    "    return image            "
   ]
  },
  {
   "cell_type": "code",
   "execution_count": 156,
   "metadata": {
    "ExecuteTime": {
     "end_time": "2018-05-05T18:09:14.199205Z",
     "start_time": "2018-05-05T18:09:13.925865Z"
    }
   },
   "outputs": [
    {
     "name": "stdout",
     "output_type": "stream",
     "text": [
      " Shape : square     Cntr (x,y) : (54 , 39)    Size_x: 23 Size_y: 23\n",
      " Shape : triangle     Cntr (x,y) : (86 , 88)    Size_x: 31 Size_y: 31\n",
      " Shape : rectangle     Cntr (x,y) : (67 , 104)    Size_x: 25 Size_y: 26\n",
      " Shape : triangle     Cntr (x,y) : (101 , 95)    Size_x: 28 Size_y: 28\n",
      " Shape : triangle     Cntr (x,y) : (82 , 59)    Size_x: 21 Size_y: 21\n"
     ]
    },
    {
     "data": {
      "image/png": "[encoded data removed]",
      "text/plain": [
       "<matplotlib.figure.Figure at 0x20e97416cf8>"
      ]
     },
     "metadata": {},
     "output_type": "display_data"
    }
   ],
   "source": [
    "bg_color = np.array([random.randint(0, 255) for _ in range(3)])\n",
    "color = tuple([random.randint(0, 255) for _ in range(3)])\n",
    "\n",
    "image = np.ones([img_h, img_w, 3], dtype=np.uint8)\n",
    "image = image * bg_color.astype(np.uint8)\n",
    "for i in range(5):\n",
    "    shape , color, dims = semi_random_shape(img_h, img_w )\n",
    "    image = semi_draw_shape(image , shape, dims ,color)\n",
    "\n",
    "display_images([image], cols = 1, width = 6)"
   ]
  },
  {
   "cell_type": "code",
   "execution_count": 143,
   "metadata": {
    "ExecuteTime": {
     "end_time": "2018-05-05T18:02:31.387390Z",
     "start_time": "2018-05-05T18:02:31.186858Z"
    }
   },
   "outputs": [
    {
     "name": "stdout",
     "output_type": "stream",
     "text": [
      " non_max_suppression \n",
      "====> Initial Ixs:  [3 2 1 0]\n",
      " starting ixs :  [3 2 1 0]  compare  3  with  [2 1 0]\n",
      " np.where( iou > threshold) :  (array([2], dtype=int64),) tst[0] (index into ixs[1:]:  [2]  remove_ixs (index into ixs) :  [3]\n",
      " edning ixs (after deleting ixs[0]):  [2 1]  picked so far:  [3]\n",
      " starting ixs :  [2 1]  compare  2  with  [1]\n",
      " np.where( iou > threshold) :  (array([], dtype=int64),) tst[0] (index into ixs[1:]:  []  remove_ixs (index into ixs) :  []\n",
      " edning ixs (after deleting ixs[0]):  [1]  picked so far:  [3, 2]\n",
      " starting ixs :  [1]  compare  1  with  []\n",
      " np.where( iou > threshold) :  (array([], dtype=int64),) tst[0] (index into ixs[1:]:  []  remove_ixs (index into ixs) :  []\n",
      " edning ixs (after deleting ixs[0]):  []  picked so far:  [3, 2, 1]\n",
      "====> Final Picks:  [3, 2, 1]\n",
      " non_max_suppression \n",
      "====> Initial Ixs:  [2 1 0]\n",
      " starting ixs :  [2 1 0]  compare  2  with  [1 0]\n",
      " np.where( iou > threshold) :  (array([0], dtype=int64),) tst[0] (index into ixs[1:]:  [0]  remove_ixs (index into ixs) :  [1]\n",
      " edning ixs (after deleting ixs[0]):  [0]  picked so far:  [2]\n",
      " starting ixs :  [0]  compare  0  with  []\n",
      " np.where( iou > threshold) :  (array([], dtype=int64),) tst[0] (index into ixs[1:]:  []  remove_ixs (index into ixs) :  []\n",
      " edning ixs (after deleting ixs[0]):  []  picked so far:  [2, 0]\n",
      "====> Final Picks:  [2, 0]\n",
      " non_max_suppression \n",
      "====> Initial Ixs:  [1 0]\n",
      " starting ixs :  [1 0]  compare  1  with  [0]\n",
      " np.where( iou > threshold) :  (array([], dtype=int64),) tst[0] (index into ixs[1:]:  []  remove_ixs (index into ixs) :  []\n",
      " edning ixs (after deleting ixs[0]):  [0]  picked so far:  [1]\n",
      " starting ixs :  [0]  compare  0  with  []\n",
      " np.where( iou > threshold) :  (array([], dtype=int64),) tst[0] (index into ixs[1:]:  []  remove_ixs (index into ixs) :  []\n",
      " edning ixs (after deleting ixs[0]):  []  picked so far:  [1, 0]\n",
      "====> Final Picks:  [1, 0]\n",
      " non_max_suppression \n",
      "====> Initial Ixs:  [1 0]\n",
      " starting ixs :  [1 0]  compare  1  with  [0]\n",
      " np.where( iou > threshold) :  (array([], dtype=int64),) tst[0] (index into ixs[1:]:  []  remove_ixs (index into ixs) :  []\n",
      " edning ixs (after deleting ixs[0]):  [0]  picked so far:  [1]\n",
      " starting ixs :  [0]  compare  0  with  []\n",
      " np.where( iou > threshold) :  (array([], dtype=int64),) tst[0] (index into ixs[1:]:  []  remove_ixs (index into ixs) :  []\n",
      " edning ixs (after deleting ixs[0]):  []  picked so far:  [1, 0]\n",
      "====> Final Picks:  [1, 0]\n",
      " non_max_suppression \n",
      "====> Initial Ixs:  [2 1 0]\n",
      " starting ixs :  [2 1 0]  compare  2  with  [1 0]\n",
      " np.where( iou > threshold) :  (array([0], dtype=int64),) tst[0] (index into ixs[1:]:  [0]  remove_ixs (index into ixs) :  [1]\n",
      " edning ixs (after deleting ixs[0]):  [0]  picked so far:  [2]\n",
      " starting ixs :  [0]  compare  0  with  []\n",
      " np.where( iou > threshold) :  (array([], dtype=int64),) tst[0] (index into ixs[1:]:  []  remove_ixs (index into ixs) :  []\n",
      " edning ixs (after deleting ixs[0]):  []  picked so far:  [2, 0]\n",
      "====> Final Picks:  [2, 0]\n",
      " non_max_suppression \n",
      "====> Initial Ixs:  [1 0]\n",
      " starting ixs :  [1 0]  compare  1  with  [0]\n",
      " np.where( iou > threshold) :  (array([], dtype=int64),) tst[0] (index into ixs[1:]:  []  remove_ixs (index into ixs) :  []\n",
      " edning ixs (after deleting ixs[0]):  [0]  picked so far:  [1]\n",
      " starting ixs :  [0]  compare  0  with  []\n",
      " np.where( iou > threshold) :  (array([], dtype=int64),) tst[0] (index into ixs[1:]:  []  remove_ixs (index into ixs) :  []\n",
      " edning ixs (after deleting ixs[0]):  []  picked so far:  [1, 0]\n",
      "====> Final Picks:  [1, 0]\n",
      " non_max_suppression \n",
      "====> Initial Ixs:  [1 0]\n",
      " starting ixs :  [1 0]  compare  1  with  [0]\n",
      " np.where( iou > threshold) :  (array([], dtype=int64),) tst[0] (index into ixs[1:]:  []  remove_ixs (index into ixs) :  []\n",
      " edning ixs (after deleting ixs[0]):  [0]  picked so far:  [1]\n",
      " starting ixs :  [0]  compare  0  with  []\n",
      " np.where( iou > threshold) :  (array([], dtype=int64),) tst[0] (index into ixs[1:]:  []  remove_ixs (index into ixs) :  []\n",
      " edning ixs (after deleting ixs[0]):  []  picked so far:  [1, 0]\n",
      "====> Final Picks:  [1, 0]\n",
      " non_max_suppression \n",
      "====> Initial Ixs:  [1 0]\n",
      " starting ixs :  [1 0]  compare  1  with  [0]\n",
      " np.where( iou > threshold) :  (array([], dtype=int64),) tst[0] (index into ixs[1:]:  []  remove_ixs (index into ixs) :  []\n",
      " edning ixs (after deleting ixs[0]):  [0]  picked so far:  [1]\n",
      " starting ixs :  [0]  compare  0  with  []\n",
      " np.where( iou > threshold) :  (array([], dtype=int64),) tst[0] (index into ixs[1:]:  []  remove_ixs (index into ixs) :  []\n",
      " edning ixs (after deleting ixs[0]):  []  picked so far:  [1, 0]\n",
      "====> Final Picks:  [1, 0]\n",
      " non_max_suppression \n",
      "====> Initial Ixs:  [1 0]\n",
      " starting ixs :  [1 0]  compare  1  with  [0]\n",
      " np.where( iou > threshold) :  (array([], dtype=int64),) tst[0] (index into ixs[1:]:  []  remove_ixs (index into ixs) :  []\n",
      " edning ixs (after deleting ixs[0]):  [0]  picked so far:  [1]\n",
      " starting ixs :  [0]  compare  0  with  []\n",
      " np.where( iou > threshold) :  (array([], dtype=int64),) tst[0] (index into ixs[1:]:  []  remove_ixs (index into ixs) :  []\n",
      " edning ixs (after deleting ixs[0]):  []  picked so far:  [1, 0]\n",
      "====> Final Picks:  [1, 0]\n",
      " non_max_suppression \n",
      "====> Initial Ixs:  [0]\n",
      " starting ixs :  [0]  compare  0  with  []\n",
      " np.where( iou > threshold) :  (array([], dtype=int64),) tst[0] (index into ixs[1:]:  []  remove_ixs (index into ixs) :  []\n",
      " edning ixs (after deleting ixs[0]):  []  picked so far:  [0]\n",
      "====> Final Picks:  [0]\n"
     ]
    }
   ],
   "source": [
    "test  = NewShapesDataset()\n",
    "test.load_shapes(10, 128, 128)\n"
   ]
  },
  {
   "cell_type": "code",
   "execution_count": 148,
   "metadata": {
    "ExecuteTime": {
     "end_time": "2018-05-05T18:03:50.432987Z",
     "start_time": "2018-05-05T18:03:50.259501Z"
    }
   },
   "outputs": [
    {
     "name": "stdout",
     "output_type": "stream",
     "text": [
      " Initialize config object - super\n"
     ]
    }
   ],
   "source": [
    "\n",
    "test.prepare()\n",
    "test_config = NewShapesConfig()"
   ]
  },
  {
   "cell_type": "code",
   "execution_count": 149,
   "metadata": {
    "ExecuteTime": {
     "end_time": "2018-05-05T18:03:51.847769Z",
     "start_time": "2018-05-05T18:03:51.668294Z"
    }
   },
   "outputs": [
    {
     "data": {
      "text/plain": [
       "array([0, 1, 2, 3, 4, 5, 6, 7, 8, 9])"
      ]
     },
     "execution_count": 149,
     "metadata": {},
     "output_type": "execute_result"
    }
   ],
   "source": [
    "test.image_ids"
   ]
  },
  {
   "cell_type": "code",
   "execution_count": 150,
   "metadata": {
    "ExecuteTime": {
     "end_time": "2018-05-05T18:03:57.484271Z",
     "start_time": "2018-05-05T18:03:57.299781Z"
    }
   },
   "outputs": [
    {
     "name": "stdout",
     "output_type": "stream",
     "text": [
      " Shape : triangle     Cntr (x,y) : (24 , 38)    Size_x : 27 Size_y: 27\n",
      " points.shape is :  (1, 3, 2)\n",
      "[[[24 11]\n",
      "  [-7 65]\n",
      "  [55 65]]]\n",
      " Shape : rectangle     Cntr (x,y) : (102 , 102)    Size_x : 31 Size_y: 23\n",
      " Shape : square     Cntr (x,y) : (88 , 79)    Size_x : 25 Size_y: 25\n"
     ]
    }
   ],
   "source": [
    "image_index = 0\n",
    "image_id = test.image_ids[image_index]\n",
    "image, image_meta, gt_class_ids, gt_boxes, gt_masks = \\\n",
    "                load_image_gt(test, test_config, image_id, augment=False, use_mini_mask=False)"
   ]
  },
  {
   "cell_type": "code",
   "execution_count": 157,
   "metadata": {
    "ExecuteTime": {
     "end_time": "2018-05-05T18:09:19.866452Z",
     "start_time": "2018-05-05T18:09:19.531592Z"
    }
   },
   "outputs": [
    {
     "name": "stdout",
     "output_type": "stream",
     "text": [
      "(0,) (0, 4) (0, 0, 0)\n",
      "[]\n",
      "[]\n"
     ]
    },
    {
     "data": {
      "image/png": "[encoded data removed]",
      "text/plain": [
       "<matplotlib.figure.Figure at 0x20e97091828>"
      ]
     },
     "metadata": {},
     "output_type": "display_data"
    }
   ],
   "source": [
    "print(gt_class_ids.shape, gt_boxes.shape, gt_masks.shape)\n",
    "print(gt_boxes)\n",
    "print(gt_class_ids)\n",
    "draw_boxes(image, gt_boxes)"
   ]
  },
  {
   "cell_type": "code",
   "execution_count": null,
   "metadata": {},
   "outputs": [],
   "source": []
  }
 ],
 "metadata": {
  "kernelspec": {
   "display_name": "Python [conda env:TF_gpu]",
   "language": "python",
   "name": "conda-env-TF_gpu-py"
  },
  "language_info": {
   "codemirror_mode": {
    "name": "ipython",
    "version": 3
   },
   "file_extension": ".py",
   "mimetype": "text/x-python",
   "name": "python",
   "nbconvert_exporter": "python",
   "pygments_lexer": "ipython3",
   "version": "3.5.4"
  }
 },
 "nbformat": 4,
 "nbformat_minor": 2
}
